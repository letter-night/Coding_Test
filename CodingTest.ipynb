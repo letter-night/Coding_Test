{
  "nbformat": 4,
  "nbformat_minor": 0,
  "metadata": {
    "colab": {
      "provenance": []
    },
    "kernelspec": {
      "name": "python3",
      "display_name": "Python 3"
    },
    "language_info": {
      "name": "python"
    }
  },
  "cells": [
    {
      "cell_type": "markdown",
      "source": [
        "#[01] Greedy 그리디\n",
        "* 현재 상황에서 가장 좋아 보이는 것만을 선택하는 알고리즘\n",
        "* 현재의 선택이 나중에 미칠 영향에 대해서는 고려하지 않음"
      ],
      "metadata": {
        "id": "bQ1lBthq-k1x"
      }
    },
    {
      "cell_type": "markdown",
      "source": [
        "## (1) 거스름돈\n",
        "* 500, 100, 50, 10원 동전 무한개 존재. N원 거슬러 줄 때 동전 최소 갯수. N은 항상 10의 배수임"
      ],
      "metadata": {
        "id": "LUCR2X39_OaC"
      }
    },
    {
      "cell_type": "code",
      "execution_count": null,
      "metadata": {
        "colab": {
          "base_uri": "https://localhost:8080/"
        },
        "id": "b7Mdcyto-Smp",
        "outputId": "c1fdb660-b33c-4d0e-8da4-dca3b489522d"
      },
      "outputs": [
        {
          "output_type": "stream",
          "name": "stdout",
          "text": [
            "6\n"
          ]
        }
      ],
      "source": [
        "n = 1260\n",
        "count = 0\n",
        "\n",
        "# 큰 단위의 화폐부터 차례대로 확인\n",
        "coin_types = [500, 100, 50, 10]\n",
        "\n",
        "for coin in coin_types:\n",
        "    count += n // coin # 해당 화폐로 거슬러 줄 수 있는 동전의 갯수 세기\n",
        "    n %= coin\n",
        "\n",
        "print(count)\n",
        "\n",
        "# 화폐의 종료만큼 반복 수행\n",
        "# 따라서 화폐 종류가 K개일 때 시간 복잡도 : O(K)\n",
        "# 동전의 총 종류에만 영향을 받고, 거슬러 줘야 하는 금액 크기와는 무관함"
      ]
    },
    {
      "cell_type": "markdown",
      "source": [
        "## (2) 큰 수의 법칙\n",
        "* 크기 N인 배열에서 주어진 수들을 M번 더하여 가장 큰 수 만들자\n",
        "* 단, 배열의 특정 인덱스에 해당하는 수가 연속 K번을 초과하여 더해질 수 없다.\n",
        "* 입력 조건\n",
        " - 첫째 줄에 N(2<=N<=1000), M(1<=M<=10000), K(1<=K<=10000) 자연수 공백 구분\n",
        " - 둘째 줄에 N개 자연수 주어짐. 공백 구분\n",
        " - K는 항상 M보다 작다.\n",
        "* 출력 조건 : 더해진 답 출력\n"
      ],
      "metadata": {
        "id": "4Jr00XbCAPE1"
      }
    },
    {
      "cell_type": "code",
      "source": [
        "# 입력 예시\n",
        "# 5 8 3\n",
        "# 2 4 5 4 6\n",
        "# 출력 예시 : 46\n",
        "\n",
        "# N, M, K 공백 구분하여 입력받기\n",
        "n, m, k = map(int, input().split())\n",
        "# N개의 수를 공백으로 구분하여 입력받기\n",
        "data = list(map(int, input().split()))\n",
        "\n",
        "data.sort()                   # 입력 받은 수 정렬\n",
        "first = data[n-1]            # 가장 큰수\n",
        "second = data[n-2]      # 두 번째로 큰 수\n",
        "\n",
        "result = 0\n",
        "\n",
        "while True:\n",
        "    for i in range(k):        # 가장 큰 수 K번 더하기\n",
        "        if m == 0:              # m이 0이라면 반복문 탈출\n",
        "            break\n",
        "        result += first\n",
        "        m -= 1                   # 더할 때마다 1씩 빼기\n",
        "    if m == 0:                  # m이 0이라면 반복문 탈출\n",
        "        break\n",
        "    result += second       # 두 번째로 큰 수를 한 번 더하기\n",
        "    m -= 1                       # 더할 때마다 1씩 빼기\n",
        "\n",
        "print(result)                   # 최종 답안 출력"
      ],
      "metadata": {
        "colab": {
          "base_uri": "https://localhost:8080/"
        },
        "id": "VwGg4Pz5_yga",
        "outputId": "d3589bdf-065c-4f96-c9ce-d48795bd5658"
      },
      "execution_count": null,
      "outputs": [
        {
          "output_type": "stream",
          "name": "stdout",
          "text": [
            "5 8 3\n",
            "2 4 5 4 6\n",
            "46\n"
          ]
        }
      ]
    },
    {
      "cell_type": "code",
      "source": [
        "# 입력 예시\n",
        "# 5 8 3\n",
        "# 2 4 5 4 6\n",
        "# 출력 예시 : 46\n",
        "\n",
        "# N, M, K 공백 구분하여 입력받기\n",
        "n, m, k = map(int, input().split())\n",
        "# N개의 수를 공백으로 구분하여 입력받기\n",
        "data = list(map(int, input().split()))\n",
        "\n",
        "data.sort()\n",
        "first = data[n-1]\n",
        "second = data[n-2]\n",
        "\n",
        "# 가장 큰 수가 더해지는 횟수 계산\n",
        "count = int(m / (k + 1)) * k\n",
        "count += m % (k + 1)\n",
        "\n",
        "result = 0\n",
        "result += (count) * first # 가장 큰 수 더하기\n",
        "result += (m - count) * second # 두 번째로 큰 수 더하기\n",
        "\n",
        "print(result) # 최종 답안 출력"
      ],
      "metadata": {
        "colab": {
          "base_uri": "https://localhost:8080/"
        },
        "id": "Pkr4ORkJDgaF",
        "outputId": "37b7541d-69a1-44c3-e31d-7e4350ced8ed"
      },
      "execution_count": null,
      "outputs": [
        {
          "output_type": "stream",
          "name": "stdout",
          "text": [
            "5 8 3\n",
            "2 4 5 4 6\n",
            "46\n"
          ]
        }
      ]
    },
    {
      "cell_type": "markdown",
      "source": [
        "## (3) 숫자 카드 게임\n",
        "* N x M 형태 카드 놓임\n",
        "* 뽑고자 하는 카드의 행 선택\n",
        "* 선택된 행의 카드 중 가장 숫자 낮은 카드 뽑음\n",
        "* 최종적으로 가장 높은 숫자의 카드 뽑도록 전략 세우자\n",
        "* 입력 조건\n",
        " - 첫째 줄에 행 갯수 N, 열 갯수 M 주어짐\n",
        " - 둘째 줄부터 N개 줄에 걸쳐 숫자 주어짐\n",
        "* 출력 조건 : 선택 카드의 숫자 출력"
      ],
      "metadata": {
        "id": "1a1KVoTYEUkh"
      }
    },
    {
      "cell_type": "code",
      "source": [
        "# 입력 예시 1\n",
        "# 3 3\n",
        "# 3 1 2\n",
        "# 4 1 4\n",
        "# 2 2 2\n",
        "# 출력 예시 1 : 2\n",
        "\n",
        "# 입력 예시 2\n",
        "# 2 4\n",
        "# 7 3 1 8\n",
        "# 3 3 3 4\n",
        "# 출력 예시 2 : 3\n",
        "\n",
        "# N, M 입력\n",
        "n, m = map(int, input().split())\n",
        "\n",
        "result = 0\n",
        "# 한 줄씩 입력 받아 확인\n",
        "for i in range(n):\n",
        "    data = list(map(int, input().split()))\n",
        "    # 현재 줄에서 '가장 작은 수' 찾기\n",
        "    min_value = min(data)\n",
        "    # '가장 작은 수' 중에 가장 큰 수 찾기\n",
        "    result = max(result, min_value)\n",
        "\n",
        "print(result) # 최종 답안 출력"
      ],
      "metadata": {
        "colab": {
          "base_uri": "https://localhost:8080/"
        },
        "id": "TdJJpNcjEOeN",
        "outputId": "fac00d1c-ee2a-45c3-b39e-8fa7aef93714"
      },
      "execution_count": null,
      "outputs": [
        {
          "output_type": "stream",
          "name": "stdout",
          "text": [
            "2 4\n",
            "7 3 1 8\n",
            "3 3 3 4\n",
            "3\n"
          ]
        }
      ]
    },
    {
      "cell_type": "code",
      "source": [
        "# N, M 입력\n",
        "n, m = map(int, input().split())\n",
        "\n",
        "result = 0\n",
        "# 한 줄씩 입력 받아 확인\n",
        "for i in range(n):\n",
        "    data = list(map(int, input().split()))\n",
        "    # 현재 줄에서 '가장 작은 수' 찾기\n",
        "    min_value = 10001\n",
        "    for a in data:\n",
        "        min_value = min(min_value, a)\n",
        "    # '가장 작은 수' 중에서 가장 큰 수 찾기\n",
        "    result = max(result, min_value)\n",
        "\n",
        "print(result)"
      ],
      "metadata": {
        "colab": {
          "base_uri": "https://localhost:8080/"
        },
        "id": "-7336DXVGSJr",
        "outputId": "f66ba22a-0197-41be-c4fa-2e49fada4173"
      },
      "execution_count": null,
      "outputs": [
        {
          "output_type": "stream",
          "name": "stdout",
          "text": [
            "2 4\n",
            "7 3 1 8\n",
            "3 3 3 4\n",
            "3\n"
          ]
        }
      ]
    },
    {
      "cell_type": "markdown",
      "source": [
        "## (4) 1이 될 때까지\n",
        "* 어떠한 수 N이 1이 될 때까지 다음 두 과정 중 하나를 반복적으로 선택하여 수행\n",
        "* 단, 두 번째 연산은 N이 K로 나누어 떨어질 때만 가능\n",
        "* 1. N에서 1을 뺀다.\n",
        "* 2. N을 K로 나눈다.\n",
        "* N과 K가 주어질 때 N이 1이 될 때까지 1번 혹은 2번의 과정을 수행하는 최소 횟수 구하자\n",
        "* 입력 조건\n",
        " - 첫째 줄에 N, K (2 <= N, K <= 100000) 주어짐\n",
        "* 출력 조건 : 횟수 최솟값 출력"
      ],
      "metadata": {
        "id": "bar_o0wOGziT"
      }
    },
    {
      "cell_type": "code",
      "source": [
        "# 입력 예시\n",
        "# 25 5\n",
        "# 출력 예시 : 2\n",
        "n, k = map(int, input().split())\n",
        "result = 0\n",
        "\n",
        "# N이 K 이상이라면 K로 계속 나누기\n",
        "while n >= k:\n",
        "    # N이 K로 나누어 떨어지지 않는다면 N에서 1씩 빼기\n",
        "    while n % k != 0:\n",
        "        n -= 1\n",
        "        result += 1\n",
        "    # K로 나누기\n",
        "    n //= k\n",
        "    result += 1\n",
        "\n",
        "# 마지막 남은 수에 대하여 1씩 빼기\n",
        "while n > 1:\n",
        "    n -= 1\n",
        "    result += 1\n",
        "\n",
        "print(result)"
      ],
      "metadata": {
        "colab": {
          "base_uri": "https://localhost:8080/"
        },
        "id": "lfwex0h3GvWx",
        "outputId": "09ce6975-cbc5-4d21-d511-0eeb54d90fd7"
      },
      "execution_count": null,
      "outputs": [
        {
          "output_type": "stream",
          "name": "stdout",
          "text": [
            "25 5\n",
            "2\n"
          ]
        }
      ]
    },
    {
      "cell_type": "code",
      "source": [
        "n, k = map(int, input().split())\n",
        "result = 0\n",
        "\n",
        "while True:\n",
        "    # (N == K로 나누어 떨어지는 수)가 될 때까지 1씩 빼기\n",
        "    target = (n // k) * k\n",
        "    result += (n - target)\n",
        "    n = target\n",
        "    # N이 K보다 작을 때 (더 이상 나눌 수 없을 때) 반복문 탈출\n",
        "    if n < k:\n",
        "        break\n",
        "    # K로 나누기\n",
        "    result += 1\n",
        "    n //= k\n",
        "\n",
        "# 마지막 남은 수에 대하여 1씩 빼기\n",
        "result += (n-1)\n",
        "print(result)"
      ],
      "metadata": {
        "colab": {
          "base_uri": "https://localhost:8080/"
        },
        "id": "_2fJzn4_IWOh",
        "outputId": "16ed2c77-ea61-4752-f55a-d2d50f4da170"
      },
      "execution_count": null,
      "outputs": [
        {
          "output_type": "stream",
          "name": "stdout",
          "text": [
            "25 5\n",
            "2\n"
          ]
        }
      ]
    },
    {
      "cell_type": "markdown",
      "source": [
        "#[02] Implementation 구현\n",
        "* 머릿 속에 있는 알고리즘을 소스코드로 바꾸는 과정\n",
        "* 완전 탐색 : 모든 경우의 수를 다 계산하는 해결 방법\n",
        "* 시뮬레이션 : 문제에서 제시한 알고리즘을 한 단계씩 차례대로 직접 수행\n",
        "* 시간 및 메모리 제한을 고려해야 한다."
      ],
      "metadata": {
        "id": "nwS3afGcJVTA"
      }
    },
    {
      "cell_type": "markdown",
      "source": [
        "##(1) 상하좌우\n",
        "* 여행가 A는 N x N 정사각형 공간 위에 서 있다. 이 공간은 1 x 1 크기의 정사각형으로 나누어져 있다.\n",
        "* 가장 왼쪽 위 좌표는 (1,1)이며, 가장 오른쪽 아래 좌표는 (N, N)이다.\n",
        "* A는 상, 하, 좌, 우 방향으로 이동할 수 있으며, 시작 좌표는 항상 (1, 1)이다.\n",
        "* 계획서에는 하나의 줄에 L, R, U, D 문자가 반복적으로 적혀있다.\n",
        "* 정사각형 공간 벗어나는 움직임은 무시된다.\n",
        "* 최족 도착 지점의 좌표를 출력하라\n",
        "* 입력 조건\n",
        " - 첫째 줄에 공간 크기 N (1 <= N <= 100)\n",
        " - 둘째 줄에 이동 계획서 (1 <= 이동횟수 <= 100)\n",
        "출력 조건: 도착 지점 좌표 (X, Y)"
      ],
      "metadata": {
        "id": "HE2ySV0PLOsn"
      }
    },
    {
      "cell_type": "code",
      "source": [
        "# 입력 예시 : 5 / R R R U D D\n",
        "# 출력 예시 : 3 4\n",
        "\n",
        "# N 입력 받기\n",
        "n = int(input())\n",
        "x, y = 1, 1\n",
        "plans = input().split()\n",
        "\n",
        "# L, R, U, D 따른 이동 방향\n",
        "dx = [0, 0, -1, 1]\n",
        "dy = [-1, 1, 0, 0]\n",
        "move_types = ['L', 'R', 'U', 'D']\n",
        "\n",
        "# 이동 계획을 하나씩 확인\n",
        "for plan in plans:\n",
        "    # 이동 후 좌표 구하기\n",
        "    for i in range(len(move_types)):\n",
        "        if plan == move_types[i]:\n",
        "            nx = x + dx[i]\n",
        "            ny = y + dy[i]\n",
        "    # 공간 벗어나는 경우 무시\n",
        "    if nx < 1 or ny < 1 or nx > n or ny > n:\n",
        "        continue\n",
        "    # 이동 수행\n",
        "    x, y = nx, ny\n",
        "\n",
        "print(x, y)"
      ],
      "metadata": {
        "colab": {
          "base_uri": "https://localhost:8080/"
        },
        "id": "f7jQBwlXJR1T",
        "outputId": "bf983f45-65b6-4776-9870-3e7cdecb71ab"
      },
      "execution_count": null,
      "outputs": [
        {
          "output_type": "stream",
          "name": "stdout",
          "text": [
            "5\n",
            "R R R U D D\n",
            "3 4\n"
          ]
        }
      ]
    },
    {
      "cell_type": "markdown",
      "source": [
        "##(2) 시각\n",
        "* 정수 N이 입력되면 00시 00분 00초부터 N시 59분 59초까지 모든 시각 중에서 3이 하나라도 포함되는 모든 경우의 수 구하자\n",
        "* 입력 조건 : 정수 N (0 <= N <= 23)\n",
        "* 출력 조건 : 00시 00분 00초부터 N시 59분 59초 까지 모든 시각 중에서 3이 하나라도 포함되는 모든 경우의 수 출력"
      ],
      "metadata": {
        "id": "kvRDNkKKUDsI"
      }
    },
    {
      "cell_type": "code",
      "source": [
        "# 입력 예시 : 5\n",
        "# 출력 예시 : 11475\n",
        "\n",
        "# H 입력 받기\n",
        "h = int(input())\n",
        "\n",
        "count = 0\n",
        "for i in range(h+1):\n",
        "    for j in range(60):\n",
        "        for k in range(60):\n",
        "            # 매 시각 안에 '3'이 포함되어 있다면 카운트 증가\n",
        "            if '3' in str(i) + str(j) + str(k):\n",
        "                count += 1\n",
        "\n",
        "print(count)"
      ],
      "metadata": {
        "colab": {
          "base_uri": "https://localhost:8080/"
        },
        "id": "BXsph8hKQLTn",
        "outputId": "d3082a61-e6f6-49c2-e879-edffe8a62afb"
      },
      "execution_count": null,
      "outputs": [
        {
          "output_type": "stream",
          "name": "stdout",
          "text": [
            "5\n",
            "11475\n"
          ]
        }
      ]
    },
    {
      "cell_type": "markdown",
      "source": [
        "## (3) 왕실의 나이트\n",
        "* 왕실 정원 8 x 8 좌표 평면 특정 칸에 나이트가 서 있다.\n",
        "* 나이트는 이동을 할 때 L자 형태로만 이동 가능, 밖으로 나갈 수 없다.\n",
        "* 1. 수평 두 칸 이동 후 수직 한 칸 이동\n",
        "* 2. 수직 두 칸 이동 후 수평 한 칸 이동\n",
        "* 나이트가 이동할 수 있는 경우의 수 출력\n",
        "* 행 위치는 1 ~ 8 표현, 열 위치는 a ~ h 표현\n",
        "* 입력 조건 : 현재 나이트가 위치한 곳의 좌표 나타내는 두 문자로 구성된 문자열 입력 (예: a1)\n",
        "* 출력 조건 : 이동할 수 있는 경우의 수\n"
      ],
      "metadata": {
        "id": "YlwqfmgRpms6"
      }
    },
    {
      "cell_type": "code",
      "source": [
        "# 입력 예시 : a1 / 출력 예시 : 2\n",
        "# 현재 나이트의 위치 입력 받기\n",
        "input_data = input()\n",
        "row = int(input_data[1])\n",
        "column = int(ord(input_data[0])) - int(ord('a')) + 1\n",
        "\n",
        "# 나이트가 이동할 수 있는 8가지 방향 정의\n",
        "steps = [(-2,-1), (-1, -2), (1,-2), (2,-1), (2,1), (1,2), (-1,2), (-2,1)]\n",
        "\n",
        "# 8가지 방향에 대하여 각 위치로 이동이 가능한지 확인\n",
        "result = 0\n",
        "for step in steps:\n",
        "    # 이동하고자 하는 위치 확인\n",
        "    next_row = row + step[0]\n",
        "    next_column = column + step[1]\n",
        "    # 해당 위치로 이동이 가능하다면 카운트 증가\n",
        "    if next_row >= 1 and next_row <= 8 and next_column >= 1 and next_column <= 8:\n",
        "        result += 1\n",
        "\n",
        "print(result)"
      ],
      "metadata": {
        "colab": {
          "base_uri": "https://localhost:8080/"
        },
        "id": "pfgszlsAVnbW",
        "outputId": "677adbc6-5ac6-4de3-bf24-0e08154ada60"
      },
      "execution_count": null,
      "outputs": [
        {
          "output_type": "stream",
          "name": "stdout",
          "text": [
            "a1\n",
            "2\n"
          ]
        }
      ]
    },
    {
      "cell_type": "markdown",
      "source": [
        "##(4) 게임 개발\n",
        "* 맵 안에서 움직이는 게임 캐릭터\n",
        "* 캐릭터가 있는 장소는 1 x 1 크기의 정사각형으로 이뤄진 N x M 크기의 직사각형\n",
        "* 각 칸은 육지 또는 바다이다. 캐릭터는 동서남북 중 한 곳을 바라본다.\n",
        "* 맵의 각 칸은 (A, B)로 나타낼 수 있고, A는 북쪽으로부터 떨어진 칸의 갯수, B는 서쪽으로부터 떨어진 칸의 갯수이다.\n",
        "* 캐릭터는 상하좌우로 움직일 수 있고, 바다로 된 공간에는 갈 수 없다.\n",
        "* 1. 현재 위치에서 현재 방향을 기준으로 왼쪽 방향(반시계 90도 회전)부터 차례로 갈 곳을 정한다.\n",
        "* 2. 캐릭터의 바로 왼쪽 방향에 아직 가보지 않은 칸이 존재한다면, 왼쪽으로 회전 후 왼쪽으로 한 칸 전진. 왼쪽 방향에 가보지 않은 칸이 없다면, 회전만 수행 후 1단계로 돌아감\n",
        "* 3. 만약 네 방향 모두 이미 가본 칸이거나 바다로 된 칸인 경우, 방향을 유지한 채로 한 칸 뒤로 가고 1단계로 돌아감. 이 때 뒤쪽 방향이 바다라 갈 수 없는 경우 움직임을 멈춤\n",
        "* 캐릭터 이동 후, 방문 칸의 수를 출력하라\n",
        "* 입력 조건\n",
        " - 첫째 줄에 맵의 세로 크기 N과 가로 크기 M 입력 (3 <= N, M <= 50)\n",
        " - 둘째 줄에 캐릭터가 있는 칸의 좌표(A, B)와 바라보는 방향 d를 입력 (0: 북쪽, 1: 동쪽, 2: 남쪽, 3: 서쪽)\n",
        " - 셋째 줄부터 맵이 육지인지 바다인지 정보 (0: 육지, 1: 바다)\n",
        "* 출력 조건 : 이동을 마친 후 방문한 칸의 수 출력"
      ],
      "metadata": {
        "id": "dpU7ol8JsMTs"
      }
    },
    {
      "cell_type": "code",
      "source": [
        "# 입력 예시\n",
        "# 4 4\n",
        "# 1 1 0\n",
        "# 1 1 1 1\n",
        "# 1 0 0 1\n",
        "# 1 1 0 1\n",
        "# 1 1 1 1\n",
        "# 출력 예시 : 3\n",
        "\n",
        "# N, M을 공백으로 구분하여 입력 받기\n",
        "n, m = map(int, input().split())\n",
        "\n",
        "# 방문한 위치를 저장하기 위한 맵을 생성하여 0으로 초기화\n",
        "d = [[0] * m for _ in range(n)]\n",
        "# 현재 캐릭터의 X 좌표, Y 좌표, 방향 입력 받기\n",
        "x, y, direction = map(int, input().split())\n",
        "d[x][y] = 1 # 현재 좌표 방문 처리\n",
        "\n",
        "# 전체 맵 정보를 입력 받기\n",
        "array = []\n",
        "for i in range(n):\n",
        "    array.append(list(map(int, input().split())))\n",
        "\n",
        "# 북, 동, 남, 서 방향 정의\n",
        "dx = [-1, 0, 1, 0]\n",
        "dy = [0, 1, 0, -1]\n",
        "\n",
        "# 왼쪽으로 회전\n",
        "def turn_left():\n",
        "    global direction\n",
        "    direction -= 1\n",
        "    if direction == -1:\n",
        "        direction = 3\n",
        "\n",
        "# 시뮬레이션 시작\n",
        "count = 1\n",
        "turn_time = 0\n",
        "while True:\n",
        "    # 왼쪽으로 회전\n",
        "    turn_left()\n",
        "    nx = x + dx[direction]\n",
        "    ny = y + dy[direction]\n",
        "    # 회전한 이후 정명에 가보지 않은 칸이 존재하는 경우 이동\n",
        "    if d[nx][ny] == 0 and array[nx][ny] == 0:\n",
        "        d[nx][ny] = 1\n",
        "        x = nx\n",
        "        y = ny\n",
        "        count += 1\n",
        "        turn_time = 0\n",
        "        continue\n",
        "    # 회전한 이후 정면에 가보지 않은 칸이 없거나 바다인 경우\n",
        "    else:\n",
        "        turn_time += 1\n",
        "\n",
        "    # 네 방향 모두 갈 수 없는 경우\n",
        "    if turn_time == 4:\n",
        "        nx = x - dx[direction]\n",
        "        ny = x - dy[direction]\n",
        "        # 뒤로 갈 수 있다면 이동\n",
        "        if array[nx][ny] == 0:\n",
        "            x = nx\n",
        "            y = ny\n",
        "        # 뒤가 바다로 막힌 경우\n",
        "        else:\n",
        "            break\n",
        "        turn_time = 0\n",
        "\n",
        "\n",
        "# 정답 출력\n",
        "print(count)"
      ],
      "metadata": {
        "colab": {
          "base_uri": "https://localhost:8080/"
        },
        "id": "EzPwuxZvsB9W",
        "outputId": "9a679de7-de49-4eb0-cb78-ed0ae7948c6f"
      },
      "execution_count": null,
      "outputs": [
        {
          "output_type": "stream",
          "name": "stdout",
          "text": [
            "4 4\n",
            "1 1 0\n",
            "1 1 1 1\n",
            "1 0 0 1\n",
            "1 1 0 1\n",
            "1 1 1 1\n",
            "3\n"
          ]
        }
      ]
    },
    {
      "cell_type": "markdown",
      "source": [
        "#[03] DFS / BFS 그래프 탐색 알고리즘\n"
      ],
      "metadata": {
        "id": "7nEW4bVpxN5V"
      }
    },
    {
      "cell_type": "markdown",
      "source": [
        "## (1) 자료구조\n",
        "* 탐색 Search : 많은 양의 데이터 중에서 원하는 데이터를 찾는 과정\n",
        "* 자료 구조 Data Structure : 데이터를 표현하고 관리하고 처리하기 위한 구조\n",
        "* 삽입 Push : 데이터 삽입 / 삭제 Pop : 데이터 삭제\n",
        "* 오버플로 Overflow : 특정한 자료구조가 수용할 수 있는 데이터의 크기를 이미 가득 찬 상태에서 삽입 연산을 수행할 때 발생\n",
        "* 언더플로 Underflow : 데이터가 전혀 들어 있지 않은 상태에서 삭제 연산을 수행할 때 발생"
      ],
      "metadata": {
        "id": "LcNp5ZHDXAnA"
      }
    },
    {
      "cell_type": "markdown",
      "source": [
        "### 스택 Stack\n",
        "* 선입후출 First In Last Out 구조, 후입선출 Last In First Out 구조"
      ],
      "metadata": {
        "id": "jjYmXD5B5-nS"
      }
    },
    {
      "cell_type": "code",
      "source": [
        "stack = []\n",
        "\n",
        "# 삽입(5) - 삽입(2) - 삽입(3) - 삽입(7) - 삭제() - 삽입(1) - 삽입(4) - 삭제()\n",
        "stack.append(5)\n",
        "stack.append(2)\n",
        "stack.append(3)\n",
        "stack.append(7)\n",
        "stack.pop()\n",
        "stack.append(1)\n",
        "stack.append(4)\n",
        "stack.pop()\n",
        "\n",
        "print(stack) # 최하단 원소부터 출력\n",
        "print(stack[::-1]) # 최상단 원소부터 출력"
      ],
      "metadata": {
        "colab": {
          "base_uri": "https://localhost:8080/"
        },
        "id": "wuxeQBPtvJjj",
        "outputId": "8b22ccbb-38d3-480c-d611-d395b7b16498"
      },
      "execution_count": null,
      "outputs": [
        {
          "output_type": "stream",
          "name": "stdout",
          "text": [
            "[5, 2, 3, 1]\n",
            "[1, 3, 2, 5]\n"
          ]
        }
      ]
    },
    {
      "cell_type": "markdown",
      "source": [
        "### 큐 Queue\n",
        "* 선입선출 First In First Out 구조"
      ],
      "metadata": {
        "id": "epXmBM6XQq5S"
      }
    },
    {
      "cell_type": "code",
      "source": [
        "from collections import deque\n",
        "\n",
        "# 큐(Queue) 구현을 위해 deque 라이브러리 사용\n",
        "queue = deque()\n",
        "\n",
        "# 삽입(5) - 삽입(2) - 삽입(3) - 삽입(7) - 삭제() - 삽입(1) - 삽입(4) - 삭제()\n",
        "queue.append(5)\n",
        "queue.append(2)\n",
        "queue.append(3)\n",
        "queue.append(7)\n",
        "queue.popleft()\n",
        "queue.append(1)\n",
        "queue.append(4)\n",
        "queue.popleft()\n",
        "\n",
        "print(queue) # 먼저 들어온 순서대로 출력\n",
        "queue.reverse() # 다음 출력을 위해 역순으로 바꾸기\n",
        "print(queue) # 나중에 들어온 원소부터 출력"
      ],
      "metadata": {
        "colab": {
          "base_uri": "https://localhost:8080/"
        },
        "id": "vanusrFyQkt6",
        "outputId": "91d0dafd-51e2-476f-eea0-94606fb798ae"
      },
      "execution_count": null,
      "outputs": [
        {
          "output_type": "stream",
          "name": "stdout",
          "text": [
            "deque([3, 7, 1, 4])\n",
            "deque([4, 1, 7, 3])\n"
          ]
        }
      ]
    },
    {
      "cell_type": "markdown",
      "source": [
        "### 재귀 함수\n",
        "* 재귀 함수 Recursive Function : 자기 자신을 다시 호출하는 함수"
      ],
      "metadata": {
        "id": "VJtuxujoSwbY"
      }
    },
    {
      "cell_type": "code",
      "source": [
        "def recursive_function(i):\n",
        "    # 100번째 출력했을 때 종료되도록 종료 조건 명시\n",
        "    if i == 10:\n",
        "        return\n",
        "    print(i, \"번째 재귀 함수에서\", i+1, \"번째 재귀 함수를 호출합니다.\")\n",
        "    recursive_function(i+1)\n",
        "    print(i, \"번째 재귀 함수를 종료합니다.\")\n",
        "\n",
        "recursive_function(1)"
      ],
      "metadata": {
        "colab": {
          "base_uri": "https://localhost:8080/"
        },
        "id": "ifwA0swmSa1a",
        "outputId": "c1d36889-95f6-4b72-bf29-bca5cded703e"
      },
      "execution_count": null,
      "outputs": [
        {
          "output_type": "stream",
          "name": "stdout",
          "text": [
            "1 번째 재귀 함수에서 2 번째 재귀 함수를 호출합니다.\n",
            "2 번째 재귀 함수에서 3 번째 재귀 함수를 호출합니다.\n",
            "3 번째 재귀 함수에서 4 번째 재귀 함수를 호출합니다.\n",
            "4 번째 재귀 함수에서 5 번째 재귀 함수를 호출합니다.\n",
            "5 번째 재귀 함수에서 6 번째 재귀 함수를 호출합니다.\n",
            "6 번째 재귀 함수에서 7 번째 재귀 함수를 호출합니다.\n",
            "7 번째 재귀 함수에서 8 번째 재귀 함수를 호출합니다.\n",
            "8 번째 재귀 함수에서 9 번째 재귀 함수를 호출합니다.\n",
            "9 번째 재귀 함수에서 10 번째 재귀 함수를 호출합니다.\n",
            "9 번째 재귀 함수를 종료합니다.\n",
            "8 번째 재귀 함수를 종료합니다.\n",
            "7 번째 재귀 함수를 종료합니다.\n",
            "6 번째 재귀 함수를 종료합니다.\n",
            "5 번째 재귀 함수를 종료합니다.\n",
            "4 번째 재귀 함수를 종료합니다.\n",
            "3 번째 재귀 함수를 종료합니다.\n",
            "2 번째 재귀 함수를 종료합니다.\n",
            "1 번째 재귀 함수를 종료합니다.\n"
          ]
        }
      ]
    },
    {
      "cell_type": "code",
      "source": [
        "# 2가지 방식으로 구현한 팩토리얼 예제\n",
        "# 반복적으로 구현한 n!\n",
        "def factorial_iterative(n):\n",
        "    result = 1\n",
        "    # 1 부터 n까지의 수를 차례대로 곱하기\n",
        "    for i in range(1, n+1):\n",
        "        result *= i\n",
        "    return result\n",
        "\n",
        "# 재귀적으로 구현한 n!\n",
        "def factorial_recursive(n):\n",
        "    if n <= 1:  # n이 1 이하인 경우 1을 반환\n",
        "        return 1\n",
        "    # n! = n * (n-1)! 를 그대로 코드로 작성\n",
        "    return n * factorial_recursive(n-1)\n",
        "\n",
        "# 각 방식으로 구현한 n! 출력 (n = 5)\n",
        "print('반복적으로 구현 :', factorial_iterative(4))\n",
        "print('재귀적으로 구현 :', factorial_recursive(4))"
      ],
      "metadata": {
        "colab": {
          "base_uri": "https://localhost:8080/"
        },
        "id": "RXPePnI4TkuH",
        "outputId": "6213f6b9-401a-4c91-e8a6-596820724126"
      },
      "execution_count": null,
      "outputs": [
        {
          "output_type": "stream",
          "name": "stdout",
          "text": [
            "반복적으로 구현 : 24\n",
            "재귀적으로 구현 : 24\n"
          ]
        }
      ]
    },
    {
      "cell_type": "markdown",
      "source": [
        "##(2) 탐색 알고리즘 DFS/BFS"
      ],
      "metadata": {
        "id": "j_yuOW4aXGAC"
      }
    },
    {
      "cell_type": "markdown",
      "source": [
        "### DFS : Depth-First Search 깊이 우선 탐색\n",
        "\n",
        "* 그래프에서 깊은 부분을 우선적으로 탐색하는 알고리즘\n",
        "* 그래프는 노드(Node)와 간선(Edge)로 표현되며 이때 노드를 정점(Vertex) 라고도 함\n",
        "* 그래프 탐색 : 하나의 노드를 시작으로 다수의 노드 방문\n",
        "* 두 노드가 간선으로 연결되어 있다면 '노드는 인접하다 Adjacent'라고 표현함\n",
        "* 그래프 표현 방식\n",
        " - 인접 행렬(Adjacency Matrix) : 2차원 배열로 그래프의 연결 관계 표현\n",
        " - 인접 리스트(Adjacency List) : 리스트로 그래프의 연결 관계 표현\n",
        "* 메모리 측면 : 인접 행렬 방식은 모든 관계를 저장하므로 노드 갯수 많을수록 메모리 낭비. 반면 인접 리스트 방식은 연결된 정보만 저장하기 때문에 메모리 효율적 사용\n",
        "* 인접 리스트 방식은 인접 행렬 방식에 비해 특정 두 노드가 연결되어 있는지에 대한 정보를 얻는 속도가 느림"
      ],
      "metadata": {
        "id": "GuMQyWPBXJrw"
      }
    },
    {
      "cell_type": "markdown",
      "source": [
        "![캡처1.PNG](data:image/png;base64,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)"
      ],
      "metadata": {
        "id": "5u0QEf6sYlnK"
      }
    },
    {
      "cell_type": "code",
      "source": [
        "# 인접 행렬 방식\n",
        "\n",
        "INF = 999999999 # 무한의 비용 선언\n",
        "\n",
        "# 2차원 리스트를 이용해 인접 행렬 표현\n",
        "graph = [\n",
        "    [0, 7, 5],\n",
        "    [7, 0, INF],\n",
        "    [5, INF, 0]\n",
        "]\n",
        "\n",
        "print(graph)"
      ],
      "metadata": {
        "colab": {
          "base_uri": "https://localhost:8080/"
        },
        "id": "G6xtPi5zWX3C",
        "outputId": "9b4de604-37a3-4e72-fd24-319b9a3ab64b"
      },
      "execution_count": null,
      "outputs": [
        {
          "output_type": "stream",
          "name": "stdout",
          "text": [
            "[[0, 7, 5], [7, 0, 999999999], [5, 999999999, 0]]\n"
          ]
        }
      ]
    },
    {
      "cell_type": "markdown",
      "source": [
        "![캡처2.PNG](data:image/png;base64,iVBORw0KGgoAAAANSUhEUgAAAQ4AAADECAYAAAButc/DAAAAAXNSR0IArs4c6QAAAARnQU1BAACxjwv8YQUAAAAJcEhZcwAADsMAAA7DAcdvqGQAABq7SURBVHhe7Z17jBVVnscFFRZmYjaD/TDMmt014oPb7GQMmZUo2LQZZx01EWi6Jf45A2lDE2JGhaDpNm5WEQjSbhYXBGTEkXXjZMM27DqaHbbRWZmZDBGBrDI+gjxGHWSyGh4ROXs/RRU01+ruOlWnblXX/X6SX+j74N66dc7ve37nd35V5yIjhBCWSDiEENZIOIQQ1kg4hBDWSDiEENZIOIQQ1kg4hBDWSDiEENZIOIQQ1qQqHF9++aXZvXu3eaqnx0xvaTEXXXTR16y5/PzKVT3mrfL7RDZ88MEH5oUXXjDt7e3n2qWhoeHc301NTebRRx/12pI2FdUnrI36t1NjY6PXRq+//rr54osv/P+VHqkIxyeffGIe7ur2ftCN05rN3//zerPld3vNzj/8yfz2j19cYDzHa7zn2lLJzJzdbv69t7cqP76W4fw+/fTTXsdDGPgbYQg774gFHXfr1q2mpSz0GO9XG6UL5x2xoH0C8UYY8K8waCNe7+zsNJMmTfLaiOfSwKlwcJCz2to9sVi1+WWz48DHXxOKoezVdz408x5a4olOd/ejGuEcg7PTAXF+hCCO8/N/6NCIDiOgBMQt9HmcPnD+gYRiMPgMRITPwOJ8xmA4EQ4O8pFyhHHNxJLn+GGCYGuIDgJyfalJ0xhHBM5OZOGCYESkYyJCIjmcR9rI5fkMBAQRckVi4UDJcO4Hn1gROhVJaggREQx5EhEPHPzWW28199xzTyrRAZ9J5EEkw3cJezhvnD/ayXV0AP0/30UbJRKO98tTE/IS5CjCnN6VIUgdi5Z4eRNhB52wWhEB0QdTIImHHZwvHNplRDAQRB8MIEnFKbZwMH1wOTWJYuu2vublUEQ0AtFIK0EWBtMgV6NaLRCIBg5dLYJ+kUQ8YgkHX1ht0QgM8SCfIgaHDllt0QjACXAGMTTVFo0AfDiJwFsLB19ETiPt6clgxrSlb0f1T/Zwgk7B1CErmBpVI/QezpBzwLKC6JBpSxysheO++Z3mthmtoQ5dLSPnQcSTJNQqMghGktHEFSRMXa3gFA3OC0VbWS9lI+5xBN5KOPixrHCksXpia0Q8zdNb/CMTAXRElvPyUFsRTJeyFrC8wflA2PMy8MXJd1gJx8TyFCVOUVdadvvMVrMjg/lhnmGUz2LOPBBEP1lOmfII52PTpk3+o+yhv9BvbIgsHDgouYUwB87KEDHyLeIsRBmMHnlCUceF5PV8IBw2ifTIwsEy6Oa+naEOnKXdO+8+zaN9mKvmcXTP63FlAaP7ggUL/Ef5geOySdRGEg5GMq4dyUNuo9JYnp3f2ekfaW1DbiOPCWOOiYu0hPFWMfI0lQwgAsLHo0ZCkYSDHzpnbkeo49raf+79vfn1J/8X+locQ8z4wbVO3p2T8DwPCdussXHOMI4fP24OHDhgzpw54z/jDq6qjRq9R/I47pfByB7muFENwbjquuvNyIsvNt+6vM6s7f1F6Pvi2J2ts3M50lYTxD1p3QT/f9y4cf4jt3R3d+dypK0m5BBsk5D9eeqpp8yll17q2YQJE8z+/fv9V9xA7U3UKWUk4ZjZ1pa44Ov7d880U279vnnj4KfmRz9ZZBq//RfmN59+HvpeW+MCuywqJPMETh/XMXt7e81VV13ljYZpCYdNpywqSc7Bu+++a0aOHGleeeUVc/LkSXPzzTfHLt4aCBthiyQc9eW5c5L8BgIx9hvfMA+v/Efv8Utv/NbrpK6SrdwEqBoXcWXJUBcm8Xpc8WTkevHFF01ra2tqwsGxFV04SC4O1gb8/rjn4KWXXjJXXnmlOX36tPf4/vvvNzfddJP3t0uiilEk4cDJwxw2qm1//7D3Gc/82zbvMVEHj7nZT+V74xjR0PM5WhdPA84XRucMmyNTUJQ06nrsscdSEw5EL0mYPhzA6Wgj/g3L5/D7XawAfvTRR+aKK64wjz/+uP+MO5wJR7CiEuawUa1SOH516I9mxIgRToVj4/PnhYNjDtS9KBYIB0apcuW0hOfzLBxQ2SnDfudwtilTplzQTjzXH35/UuHYtm2bqaurMx0dHeeiD5ewMheFIYWDzshJCHPYqOZNVb75zdSmKpXCwYjMcRfJ+ndIOiDP9YfnK5+zJU3h4NgqhSP4bUWxu+6661wbsYpUKRL8/koxsWHjxo3msssuMxs2bEhlVQWiFhAOKRzB+m7SS+i/f/csLzlKtPHjBxY7TY4iHJsSNMhwgDYIizQCGCnovEmoFI49e/aYtWvXmjVr1pgtW7b4z8aDY6uFqQptNJA48PvjCseuXbu85OjKlSvN22+/7VmwqoKg0E59fX3e4yRUivtARM5xJF1VYTn26oklbzl2XH2Debb31dD3xTGSo0mUfDjA7xts/Z9OmTRBPFDEQXh8+PBh/1E8EI6itxHnf7A2YuUr7pI5y9lBNBPYDTfc4L2GcLiokeHYnQoHWxYkreMI7Bf/+4GzSCOwRUtX1HyNAEnTNBzzyJEj3nJtUnCqpHUmwx3aJ6pjRuXzzz83XV1d5tlnn/VWXpJgExVGEo6ustoxqoc5bR6M+57WegFYkhqBweAzT5065T+KD1WJKgBzP1377LPPzNGjR72/exLe0NsmIookHDT4/EUPhzpt1kbupaGh0T/S2oVOyZKsa1avXu3/lQxCa5WcR1+1iAqizrIs0UbSiIMbTTstOafBrys1hTpu1kbVKBs3CZOLO0qFwcCThqgNR4g4XNRy9IcVFqpJk0DETv+JSiThAG4ZmMfL6rmFIKOtyO/l6y4St0UBESXRmTfoO84vqwdUkjtuhTlvVkbCtqQb+ZyDaINQeLDMfrXJ4zFlCeeB85GnyDA4JpsBOLJwQGtbe+JlWVcW3LC41hNuleQt6iDaiJpwqxXyFnXQPrarPVbCwTxoyi3TQx252sa+siXdHOZrMHrk5dZ0TE+UFA3HxbVFLuAYaCPbY7ESDsjD0ixTlDg/tlbAYbO+PR2DDG2k3EY49N2st8vku0mI2uQ2AqyF4+x8qDGzRCnLr5eX52NFLzFPCp0yqykLfYS7keXx3pp5AofNcsrC9CSueFkLBzCacHfxam8BSV7je9OavR8rBofOQDicRQ4IwWAki9MhawnOD305zoifFAYV2ihu4WQs4QC+sL6+wVkp+lAWiAZTJXXIaAQds1rJSb4PJ0Cw1EbR4Dwx8nPeqnXO6A+sosQVDYgtHOCJR/kA2ud2JLpD2FBGZMMKCqIh7KAz4shYko4yFMH3xA19ax2Eg+ld2nm74HuS9oVEwgEcQEM55OGKV9d5D8SIRCzXomjHtvjgyDg0yco08h5Mh+iMeSw+G07g1LQREYFr8UWQaCNXkU1i4QAOpKf8Y/nRXDrvYvrCZ1xeFiNqR7Sc5wYcmzaiA7HakbQDURTIZ7kYwcRZaBdyDxjtlbSNEAxqaZiauCx1dyIcARwk142Q+0BAiBYQAJuiMd4/ofx/qQhVcZd7EOFgjkvn5G/OM20XtZPSAYPO6KJziwvhfHJeqcdB6IkSEBSbNkLISVKn1UZOhSOAg2S5lGVbfjjTGPIgCEmY3Taj1dwxa7aXL2FXNtcXAYlwEIygc2Ik6ehkYUYnDMSCv/m/Eoz0wRdol6CNyCMh9kO1Ee9zEVUORCrC0R+Uj07GD2Njp9nlH8Y+tPz7SFe3d3dyTo5C3ewgCqENgg5I56OzYnRGnguiEpENCED/NqJdKtvINipJQurCIYQoHhIOIYQ1Eg4hhDUSDiGENRIOIYQ1Eg4hhDUSDiGENRIOIYQ1Eg4hhDUSDiGENRIOIYQ1Eg4hhDUSDiGENRIOIYQ1Eg4hhDUSDiGENRIOIYQ1Eg4hhDUSDiGENRIOIYQ1Eg4hhDUSDiGENRIOIYQ1Eg4hhDUSDiGENVURjspdqNi9LfhbWwnmg8o26m+0kTb+Fv1JTTjoaKt6ekzz9BZvz8s7W2ebB59Y4e0Vu7lvp1m1+WXv7yVPrvBeu7u1zdsiUtsMVg/EAmFgn1HaqKWlxfSU2ywQi2Drzk1loWerwWDfUgRGYl/bOBcOHJ+9Ya+ZWDLzHlriiUTYrvRhxnvnzO3wdrtn13uNcunAPr3sgM7mxPxrIwS8N/i/7Fkqoa9NnAkHnRHBuHfefebVdz4MFYaotvMPf/JEh1GQaY1wA+KA0xNZIABJCKIVBIQoRBFIbeFEOHDuunIHYvoRJgRxbceBj70IZFp5uqPoIxkIBU6Os7sEwUA4Jk2a5A0eojZILByPdHWbH8xs9Zw8zPldGFOY60pN5mN1zFhs3brVNDU1perYTFmIZMiLiOITWzgYaUh8MqUIc3bXxvTnjlmzzVsJQ+xag6kJuYhqTCX4jvb2dolHDRBbOMhnsCoS5uRpGbmPKbc0m/eVkIsEU4ju7m7/UfWQeBSfWMLRVe6MHYuqE2lUGuLBtEXJuMHBcVk+zQLahmmLch7FxVo4mCqMq2/wHDjMsathW36310ybPt0/IlEJDsuKVJZLpSSzSZhK4IuJlXDQCaixWLf1tVCHrqYxTdJSbThEGnmYKrCSQ35FFA8r4WCK4nrJNa4R8SBiWqa9EFZQ8uSs5DtUJFY8IgsHDko1aJgTZ2VEPiwHi/MwPciTmCIalKuLYhFZOJ7q6clNtNHfri2VFHX4MD1h+TVvKOooHpGFo76hIXEpeRrGhXObHFdDDlcY2fO4DMoxdXZ2+o9EEYgkHIwWeZumBIaYlZqa/COtXUhcs5KSx1WMPB+biEck4WD1gpE9zHHzYKrrOCvuSZOix48fN0ePHvUfuUXTlWIRSTg65s/3aifCnNbG/uv3B823//KvnIsQV+TWeqfk4rUkF7AtXbrUjBkzxowaNcqb8pw+fdp/xQ1Jj0/ki0jCQbFV0vzG1NtuN382ZqwXsroWDmo6kl4mnneGEkaijbjiuXfvXjNy5Eizfft2c/DgQVNXV2fWrVvnv+oG2kfCURwiCQfOHuawNrb8py+af1j7nBkxYoRz4WBZtuidkjZAHAZaQSJKiCscy5cvN+PHj/cfGdPa2mpmzJjhP3IDx5bHFR8Rj6oJR2AjL77YuXAwjdr4fLGrSGmDwBDJypwO99qIKxwLFy40U6dO9R8Zs3jxYjN58mT/kRs4XtVzFIchhYPOONyEg2s16KRFsv7CgXHla394Ls/CQaTE7xDFYEjhCC6YcnVRW1rC8dOCX7cSCAaVoWECkUQ4Bpqq7Nmzx6xdu9asWbPGbNmyxX81HhwbKyuiGESeqrhYVcHSEI5ayHE0NjZ616EMBBe2xU0Q79u3z0uO9vX1mUOHDpn6+nqzfv16/1Vjtm3bZg4fPuw/igfCoRxHcYgkHNeXmnItHKyqFF04hqpTYTRPcg6WLVtmxo4da0aPHm3mzJlzbjn2yJEjpre31/s7CVSPVk6vxPAlknC0ZnC3LxvjloJxw/SigGgkFc8TJ06YY8eO+Y/OwmeeOnXKfxQfRKPo4l5LRBIOrgXJq3CQe2EqVeuVo0xT0pgKrF692v8rGQPlZsTwJJJw0ODsthbmuFkb+Y3pLS3+kdYurFqwJJtHSLCToxHFIZJwwMRSU6pbIMQ1tmbI4xWhWUCBWB4raJmmKDFaLCILB/vA5m26gpBpmnIeBDRvS560DZGQblxcLCILBx2A1ZUsb1JcadxpnT1mxXnYeClPuQSWkFW/UTwiCweQJF201O1SalxjeZhoQ3f/uhBEIy+OSpRBtKGpZPGwEg4g6sj6TmBEPWzR0KO6gFAQjjzkOihKU5l5MbEWDjokdwPLcspy24xWbyVFuY1wghWWLPMKJERZSVFEWEyshQPIkHPznDCnTttI0DJFUbJtcJgesJtaFuLK4EIb5XGFR7ghlnAAe6zMmdtR1ciDmg32UtGcORqBeFRz1A9qNga7rkYMf2ILByAeN05rrkrOg0iDO60r0rAD8cCRqzH6811KhtYGiYQDmLYQlqZV40FEM++hJaZ5ujYxjguOTBtRIJbW1IXrUBANTU9qg8TCAXQaooGrJ5a86USYANgagoEY1ZU/l82gRDJwaCIPDCFxJSB8FtehpClKIn84EQ5gHt3ZucAb2ZIKCP93QvkzSqV8FTMNd3DsIEJEQBD8uM5Ou1BspqlJbeJMOAIQEPZhIQKhg7J0SuQw0P08iCx4bXPfTq+4jC0dmZaoM6YHYsH5xfFpI+otWD4dTKR5DUNseD//V21UuzgXjoCgc1ISzgVydNCBjO0X7pvf6WXite5fXWgjohDEIKxtAmM6QjEXwqFck0hNOAaCTheMXpoT55P+bSQhF2FUXTiEEMMfCYcQwhoJhxDCGgmHEMIaCYcQwhoJhxDCGgmHEMIaCYcQwhoJhxDCGgmHEMIaCYcQwhoJhxDCGgmHEMIaCYcQwhoJhxDCGgmHEMIaCYcQwhoJhxDCGgmHEMIaCYcQwhoJhxDCGgmHEMIaCYcQwhoJhxDCGgmHEMKaVIUj2Aayq7vblPx9SrG7WtvM9f62kGwP+UhXt3lr927t7JYBnHN2smfv2JaWlnNtxHaPwbaQbFDNNpG0pXZ2E5CKcLB14MNlMaDT/WDm4JtOY7y2avPLZsotzWba9BZv02p10HTh/CIG7DaPYASbTg8k3mwLiXAsWLDg3CbV2kO2dnEqHHS8WW3tZs7cDrNu62veTvRhQjGY7TjwsSc0dfX1prNzgaIQxyAYRBOIRdxNvvk/bD6N6LS3t0tAahAnwoFzs9v8jdOazavvfBgqCLaG6Dz4xApTX9/gTWNEMmgjogScnamJC/hMBISd7PlX1A6JhYPRBufGyeNEGEMZQvS9siCRJxHxwMGZXjDNSCOC4zP57LQ+X+SPRMJBJHDNxNKg+QtXtmjpCrOkq0sd0xKEnSiDaUna8B0IlNqo+MQWjh2vv+4lM8lJhDl6GkbepHl6izpmRBANphHVzEHwXYiHktvFJpZw0DmINFzlM2wM8WD5VgwO4kqkUU3RCCCHQvJVFBdr4aBDktOoxvRkIOtYtMRs6e31j0iEwaifZcKSaQvLvaKYWAsHqyftcztCHbpaRhKWaVIWo+lwAMFAOLKGZCm1H6J4WAkHIShLrmmsntgaEQ/5DnEh5BbIa+QhD8Qx5OVYhFushIMy8WomQ4cyCs1I0orzUJDlqk7DBUQ/qvEoHpGFAwcltxDmwFkZIoaYibMQbeQtKamoo5hEFg5KyTf37Qx14Czt3nn35WqEzRKSkXkc3alYVdRRLCIJByMZF6zlIbdRaSzPzu/s9I+0tslq+XUoOKamJkWGRSKScJAZd7GS8ptPPzfb3n7XaZ4EMUPUah0Xznn8+HFz9OhR/5Fbql2IJtIlksetXNXjjexhjhvVtu1+x1zT9DfmkksvNSNHjjQ/fmBx6Pvi2J2ts2u+UyLuTAnisnTpUjNmzBgzatQo7+rZ06dP+6+4obu7W0uzBSKScMxsa0tc8PXDtjnmu1NuMv9z+DPTs/nnXpTw8pu7Qt9ra1xgxyX9tQyiEdcx9+7d64n59u3bzcGDB01dXZ1Zt26d/6obKAhTnqM4RBKO+vLcOWl+4/rvfNc88Phy7+///uCIJxz/9PPer70vjnH/jmpcxJUlRAGDieNQrw/G8uXLzfjx4/1HxrS2tpoZM2b4j9zAsUk4ikMk4cDJwxw2rv3oJ4vMn48b5wlI2Ou2RjTEXcOKDG2AsXISdgEZlaJxhWPhwoVm6tSp/iNjFi9ebCZPnuw/cgNTSWpMRDEYUjiCFZUwh7U1hOLvZrWZb9XVm59t/1Xoe+IYwrHx+fPCwTEzuhXJAuHAuAdoZYTF83kWDiAqEsVgSOGgM7oQjl++d8hcO+k75m+bW8x/7Nkf+p64VikcFBtx3EWy/sKBA1Ymg5MIR7WmKhKO4jCkcOCEdMqkl9BPv+Mu89fXXGte+OUb5l92/NozV1MVCtM2lUflIkMbsKQ5ULEbNRxxhWPfvn1ecrSvr88cOnTI1NfXm/Xr15uvvvrKPPnkk2bt2rVm//79/rvjwbFpqlIcIuc4kqyqkFi9+JJLvM/pbyt/9q+h77c1kqOE80WG3zdY2TZOmSRBvGzZMjN27FgzevRoM2fOHG85FrFATE6ePOm/Kz4IR9HbqJaIJBwzZ7cnruNI07iGptZrBFyUm584ccIcO3bMf2S85dnnnnvOizp27drlPxsPji1JnYnIF5GEgxsFM6qHOW0e7NpSqeYLwNKok3jvvffMmTNnPOvp6fGfjUdnZ6cKwApEJOGgwecvejjUabM2ci8NDY3+kdYuCKfrm/dQGPbMM8+YDRs2mDfffNN/1p4gTxa2jCyGJ5GEgwa/rtQU6rhZG1Wj3d26RR1wrYpr58Tpk5afM/Dk4Y5kwh2RhAO4ZWAeL6u/PKdXhGZBXi9fJ3GraUqxiCwcLAPePrM11HmzMhK2bGYtzkK0wbLsYKsv1YbVlLwdk0hOZOGA2eWRI+nFbq6MJV62aNBIdiF5izqINvIYBYlkWAkHUwKcNcyRq23cH0TRxtdhZKdQLA+JSASD8nglRYuHlXAAS7NsxxjmzNWyVZtf9rL0cSsliw5Ls1lXadI2tFHRr1quVayFgxGtVGrKrCCM5VcSokUvMU8KNy3elNEVw/QRVnjYV0UUE2vhAKYs3KOj2uJBXoOd67W0NzQ4L+cpixwQgoFwKCFaXGIJB3jiUd/gTRvCnNy1BaLBVEkdMhqBeFRrK0a+D9HgO9VGxSa2cADiQdXmbTNaU92oKZieqNDLnkA8sDTrXYLvYYok0Sg+iYQDPPFobDTjUog+iDK4Roaq1be0d0pscGQcmmRlGkujJEBZPdGya+2QWDiAjtnz9NNex7x6YslJ7gPBuLwsRtSOaDnPDTg2xViBkyeNDMifsPSbdjQj8ocT4Qig8zCdIPeBgHAdiU3BGBEGojOh/H9ZuVFxl3sQYYrEcHgEhL+pCrYREd5PBMNnqI1qE6fCEUAnJHylQIsoBCMPgpAQSfQ3nuO1Kbc0e/kShEf1GdUBpw+mMBiRQ3Bfj/6GuHDbP95LxKJL5EUqwtEfRjhGKDogdyJ/pKvbm35gbPTE8wiFQt3sQOhpg/5CQQEZFpSw04YSdBGQunAIIYqHhEMIYY2EQwhhjYRDCGGNhEMIYY2EQwhhjYRDCGGNhEMIYY2EQwhhjYRDCGGJMf8PJW7SInUkjPQAAAAASUVORK5CYII=)"
      ],
      "metadata": {
        "id": "yKce-rribRYX"
      }
    },
    {
      "cell_type": "code",
      "source": [
        "# 인접 리스트 방식\n",
        "\n",
        "# 행(Row)이 3개인 2차원 리스트로 인접 리스트 표현\n",
        "graph = [[] for _ in range(3)]\n",
        "\n",
        "# 노드 0에 연결된 노드 정보 저장(노드, 거리)\n",
        "graph[0].append((1, 7))\n",
        "graph[0].append((2, 5))\n",
        "\n",
        "# 노드 1에 연결된 노드 정보 저장(노드, 거리)\n",
        "graph[1].append((0, 7))\n",
        "\n",
        "# 노드 2에 연결된 노드 정보 저장(노드, 거리)\n",
        "graph[2].append((0, 5))\n",
        "\n",
        "print(graph)"
      ],
      "metadata": {
        "colab": {
          "base_uri": "https://localhost:8080/"
        },
        "id": "29mvoNiAbC64",
        "outputId": "84353230-654a-4535-9ee2-e84a2e911497"
      },
      "execution_count": null,
      "outputs": [
        {
          "output_type": "stream",
          "name": "stdout",
          "text": [
            "[[(1, 7), (2, 5)], [(0, 7)], [(0, 5)]]\n"
          ]
        }
      ]
    },
    {
      "cell_type": "markdown",
      "source": [
        "* DFS 동작 : 특정한 경로로 탐색하다가 특정 상황에서 최대한 깊숙이 들어가서 노드 방문 후, 다시 돌아가 다른 경로 탐색\n",
        " - 1. 탐색 시작 노드를 스택에 삽입하고 방문 처리\n",
        " - 2. 스택의 최상단 노드에 방문하지 않은 인접 노드가 있으면 그 인접 노드를 스택에 넣고 방문 처리. 방문하지 않은 인접 노드가 없으면 스택에서 최상단 노드를 꺼냄\n",
        " - 3. 2번 과정을 더 이상 수행할 수 없을 때까지 반복\n",
        "* '방문 처리'는 스택에 한 번 삽입되어 처리된 노드가 다시 삽입되지 않게 체크하는 것"
      ],
      "metadata": {
        "id": "XWFu1hdwclMY"
      }
    },
    {
      "cell_type": "markdown",
      "source": [
        "![캡처3.PNG](data:image/png;base64,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)"
      ],
      "metadata": {
        "id": "4grsIrHtfZ-J"
      }
    },
    {
      "cell_type": "code",
      "source": [
        "# DFS 메서드 정의\n",
        "def dfs(graph, v, visited):\n",
        "    # 현재 노드를 방문 처리\n",
        "    visited[v] = True\n",
        "    print(v, end=' ')\n",
        "    # 현재 노드와 연결된 다른 노드를 재귀적으로 방문\n",
        "    for i in graph[v]:\n",
        "        if not visited[i]:\n",
        "            dfs(graph, i, visited)\n",
        "\n",
        "# 각 노드가 연결된 정보를 리스트 자료형으로 표현(2차원 리스트)\n",
        "graph = [\n",
        "    [],\n",
        "    [2, 3, 8],\n",
        "    [1, 7],\n",
        "    [1, 4, 5],\n",
        "    [3, 5],\n",
        "    [3, 4],\n",
        "    [7],\n",
        "    [2, 6, 8],\n",
        "    [1, 7]\n",
        "]\n",
        "\n",
        "# 각 노드가 방문된 정보를 리스트 자료형으로 표현(1차원 리스트)\n",
        "visited = [False] * 9\n",
        "\n",
        "# 정의된 DFS 함수 호출\n",
        "dfs(graph, 1, visited)"
      ],
      "metadata": {
        "colab": {
          "base_uri": "https://localhost:8080/"
        },
        "id": "jdhpcSRwb5E5",
        "outputId": "c21c4f0c-1c68-4665-a32a-8dd336a806fb"
      },
      "execution_count": null,
      "outputs": [
        {
          "output_type": "stream",
          "name": "stdout",
          "text": [
            "1 2 7 6 8 3 4 5 "
          ]
        }
      ]
    },
    {
      "cell_type": "markdown",
      "source": [
        "### BFS : Breadth First Search 너비 우선 탐색\n",
        "* 가까운 노드부터 탐색하는 알고리즘\n",
        "* BFS 동작\n",
        " - 1. 탐색 시작 노드를 큐에 삽입하고 방문 처리\n",
        " - 2. 큐에서 노드를 꺼내 해당 노드의 인접 노드 중에서 방문하지 않은 노드를 모두 큐에 삽입하고 방문 처리\n",
        " - 3. 2번 과정을 더 이상 수행할 수 없을 때까지 반복"
      ],
      "metadata": {
        "id": "TwwdGpkfgFnz"
      }
    },
    {
      "cell_type": "code",
      "source": [
        "# BFS 메서드 정의\n",
        "\n",
        "from collections import deque\n",
        "\n",
        "def bfs(graph, start, visited):\n",
        "    # 큐(Queue) 구현을 위해 deque 라이브러리 사용\n",
        "    queue = deque([start])\n",
        "    # 현재 노드를 방문 처리\n",
        "    visited[start] = True\n",
        "    # 큐가 빌 때까지 반복\n",
        "    while queue:\n",
        "        # 큐에서 하나의 원소를 뽑아 출력\n",
        "        v = queue.popleft()\n",
        "        print(v, end=' ')\n",
        "        # 해당 원소와 연결된, 아직 방문하지 않은 원소들을 큐에 삽입\n",
        "        for i in graph[v]:\n",
        "            if not visited[i]:\n",
        "                queue.append(i)\n",
        "                visited[i] = True\n",
        "\n",
        "# 각 노드가 연결된 정보를 리스트 자료형으로 표현 (2차원 리스트)\n",
        "graph = [\n",
        "    [],\n",
        "    [2, 3, 8],\n",
        "    [1, 7],\n",
        "    [1, 4, 5],\n",
        "    [3, 5],\n",
        "    [3, 4],\n",
        "    [7],\n",
        "    [2, 6, 8],\n",
        "    [1, 7]\n",
        "]\n",
        "\n",
        "# 각 노드가 방문된 정보를 리스트 자료형으로 표현 (1차원 리스트)\n",
        "visited = [False] * 9\n",
        "\n",
        "# 정의 된 BFS 함수 호출\n",
        "bfs(graph, 1, visited)"
      ],
      "metadata": {
        "colab": {
          "base_uri": "https://localhost:8080/"
        },
        "id": "WAi01KDhfVMp",
        "outputId": "55a396c5-427d-465d-b96c-9f2930d274ee"
      },
      "execution_count": null,
      "outputs": [
        {
          "output_type": "stream",
          "name": "stdout",
          "text": [
            "1 2 3 8 7 4 5 6 "
          ]
        }
      ]
    },
    {
      "cell_type": "markdown",
      "source": [
        "![캡처4.PNG](data:image/png;base64,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)"
      ],
      "metadata": {
        "id": "8WF4b32aju-K"
      }
    },
    {
      "cell_type": "markdown",
      "source": [
        "* 2차원 배열에서의 탐색 문제는 그래프 형태로 바꿔서 풀자.\n",
        "\n",
        "![캡처5.PNG](data:image/png;base64,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)"
      ],
      "metadata": {
        "id": "3Z4T_JATjnad"
      }
    },
    {
      "cell_type": "markdown",
      "source": [
        "##(3) 음료수 얼려 먹기\n",
        "* N x M 얼음 틀\n",
        "* 구멍 뚫린 부분 0, 칸막이 존재 부분 1 표시\n",
        "* 구멍 뚫린 부분끼리 상, 하, 좌, 우 붙은 경우 연결된 것으로 간주\n",
        "* 총 아이스크림 갯수 구하는 프로그램 작성\n",
        "* 입력 조건\n",
        " - 첫 번째 줄에 얼음 틀의 세로 길이 N과 가로 길이 M 주어짐 (1 <= N, M <= 1000)\n",
        " - 두 번째 줄부터 N+1 줄까지 얼음 틀 형태 주어짐\n",
        " - 뚫린 부분 0, 아닌 부분 1\n",
        "* 출력 조건 : 한번에 만들 수 있는 아이스크림 갯수 출력"
      ],
      "metadata": {
        "id": "zCg3ssPYj2tt"
      }
    },
    {
      "cell_type": "markdown",
      "source": [
        "![캡처6.PNG](data:image/png;base64,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)"
      ],
      "metadata": {
        "id": "1KEIjMgmkzER"
      }
    },
    {
      "cell_type": "markdown",
      "source": [
        "* 1. 특정한 지점의 주변 상, 하, 좌, 우를 살펴본 후, 주변 지점 중에서 값이 0이면서 아직 방문하지 않은 지점 방문\n",
        "* 2. 방문한 지점에서 다시 상, 하, 좌, 우 살펴보면서 방문 진행 => 연결된 모든 지점 방문\n",
        "* 3. 1~2과정을 모든 노드에 반복하며 방문하지 않은 지점의 수 셈"
      ],
      "metadata": {
        "id": "5U4Sz2FeTeke"
      }
    },
    {
      "cell_type": "code",
      "source": [
        "# N, M 입력 받기\n",
        "n, m = map(int, input().split())\n",
        "\n",
        "# 2차원 리스트의 맵 정보 입력 받기\n",
        "graph = []\n",
        "for i in range(n):\n",
        "    graph.append(list(map(int, input())))\n",
        "\n",
        "# DFS로 특정 노드 방문한 뒤에 연결된 모든 노드들도 방문\n",
        "def dfs(x, y):\n",
        "    # 주어진 범위를 벗어나는 경우에는 즉시 종료\n",
        "    if x <= -1 or x >= n or y <= -1 or y >= m:\n",
        "        return False\n",
        "    # 현재 노드를 아직 방문하지 않았다면\n",
        "    if graph[x][y] == 0:\n",
        "        # 해당 노드 방문 처리\n",
        "        graph[x][y] = 1\n",
        "        # 상, 하, 좌, 우 위치도 모두 재귀 호출\n",
        "        dfs(x-1, y)\n",
        "        dfs(x, y-1)\n",
        "        dfs(x+1, y)\n",
        "        dfs(x, y+1)\n",
        "        return True\n",
        "    return False\n",
        "\n",
        "# 모든 노드(위치)에 대하여 음료수 채우기\n",
        "result = 0\n",
        "for i in range(n):\n",
        "    for j in range(m):\n",
        "        # 현재 위치에서 DFS 수행\n",
        "        if dfs(i, j) == True:\n",
        "            result += 1\n",
        "\n",
        "print(result) # 정답 출력"
      ],
      "metadata": {
        "colab": {
          "base_uri": "https://localhost:8080/"
        },
        "id": "IDJo2ZO6T5gT",
        "outputId": "20aea09e-6792-4086-c2e9-b346b20da6a4"
      },
      "execution_count": null,
      "outputs": [
        {
          "output_type": "stream",
          "name": "stdout",
          "text": [
            "3 3\n",
            "001\n",
            "010\n",
            "101\n",
            "3\n"
          ]
        }
      ]
    },
    {
      "cell_type": "markdown",
      "source": [
        "##(4) 미로 탈출\n",
        "* N x M 크기 직사각형 미로를 탈출해야 한다.\n",
        "* 위치는 (1,1)이고 출구는 (N, M)이다. 한번에 한 칸씩 이동할 수 있다.\n",
        "* 괴물이 있는 부분은 0, 없는 부분은 1로 표시되어 있다.\n",
        "* 탈출을 위해 움직여야 하는 최소 칸의 갯수\n",
        "* 입력 조건\n",
        " - 첫째 줄에 두 정수 N, M (4<= N, M <= 200) 주어짐\n",
        " - 다음 N개 줄에 각각 M개의 정수 (0혹은 1) 주어짐\n",
        "* 출력 조건 : 최소 이동 칸의 갯수"
      ],
      "metadata": {
        "id": "_AcwmJL7qXwi"
      }
    },
    {
      "cell_type": "code",
      "source": [
        "# 입력 에시\n",
        "# 5 6\n",
        "# 101010\n",
        "# 111111\n",
        "# 000001\n",
        "# 111111\n",
        "# 111111\n",
        "# 출력 예시 : 10\n",
        "\n",
        "from collections import deque\n",
        "\n",
        "# N, M 입력 받기\n",
        "n, m = map(int, input().split())\n",
        "# 2차원 리스트의 맵 정보 입력 받기\n",
        "graph = []\n",
        "for i in range(n):\n",
        "    graph.append(list(map(int, input())))\n",
        "\n",
        "# 이동할 네 방향 정의 (상, 하, 좌, 우)\n",
        "dx = [-1, 1, 0, 0]\n",
        "dy = [0, 0, -1, 1]\n",
        "\n",
        "# BFS 구현\n",
        "def bfs(x, y):\n",
        "    # 큐(Queue) 구현을 위해 deque 라이브러리 사용\n",
        "    queue = deque()\n",
        "    queue.append((x, y))\n",
        "    # 큐 빌 때까지 반복\n",
        "    while queue:\n",
        "        x, y = queue.popleft()\n",
        "        # 현재 위치에서 네 방향으로의 위치 확인\n",
        "        for i in range(4):\n",
        "            nx = x + dx[i]\n",
        "            ny = y + dy[i]\n",
        "            # 미로 찾기 공간을 벗어난 경우 무시\n",
        "            if nx < 0 or ny < 0 or nx >= n or ny >= m:\n",
        "                continue\n",
        "            # 벽인 경우 무시\n",
        "            if graph[nx][ny] == 0:\n",
        "                continue\n",
        "            # 해당 노드를 처음 방문하는 경우에만 최단 거리 기록\n",
        "            if graph[nx][ny] == 1:\n",
        "                graph[nx][ny] = graph[x][y] + 1\n",
        "                queue.append((nx, ny))\n",
        "\n",
        "    # 가장 오른쪽 아래까지의 최단 거리 반환\n",
        "    return graph[n-1][m-1]\n",
        "\n",
        "# BFS 수행 결과 출력\n",
        "print(bfs(0,0))"
      ],
      "metadata": {
        "colab": {
          "base_uri": "https://localhost:8080/"
        },
        "id": "Y6MTlpc4b7LJ",
        "outputId": "7fedbbc3-7464-41bd-f2cc-297e1f6a481a"
      },
      "execution_count": null,
      "outputs": [
        {
          "output_type": "stream",
          "name": "stdout",
          "text": [
            "5 6\n",
            "101010\n",
            "111111\n",
            "000001\n",
            "111111\n",
            "111111\n",
            "10\n"
          ]
        }
      ]
    },
    {
      "cell_type": "markdown",
      "source": [
        "#[04] 정렬\n",
        "* 연속된 데이터를 기준에 따라서 정렬하기 위한 알고리즘"
      ],
      "metadata": {
        "id": "2Z28g_97wH_S"
      }
    },
    {
      "cell_type": "markdown",
      "source": [
        "##(1) 기준에 따라 데이터를 정렬"
      ],
      "metadata": {
        "id": "lEngB4tPwN39"
      }
    },
    {
      "cell_type": "markdown",
      "source": [
        "### 정렬 알고리즘\n",
        "* 정렬 Sorting : 데이터를 특정한 기준에 따라서 순서대로 나열\n",
        "* 선택 정렬, 삽입 정렬, 퀵 정렬, 계수 정렬"
      ],
      "metadata": {
        "id": "tQEfNW6Awi04"
      }
    },
    {
      "cell_type": "markdown",
      "source": [
        "### 선택 정렬\n",
        "* 가장 작은 데이터를 선택해 맨 앞에 있는 데이터와 바꾸고, 그다음 작은 데이터를 선택해 앞에서 두 번째 데이터와 바꾸는 과정 반복\n",
        "* 선택 정렬 Selection Sort 알고리즘 : 매번 '가장 작은 것을 선택'\n",
        "* 가장 작은 데이터를 앞으로 보내는 과정을 N - 1번 반복하면 정렬 완료"
      ],
      "metadata": {
        "id": "SUpggRXQw8gI"
      }
    },
    {
      "cell_type": "code",
      "source": [
        "array = [7, 5, 9, 0, 3, 1, 6, 2, 4, 8]\n",
        "\n",
        "for i in range(len(array)):\n",
        "    min_index = i # 가장 작은 원소의 인덱스\n",
        "    for j in range(i + 1, len(array)):\n",
        "        if array[min_index] > array[j]:\n",
        "            min_index = j\n",
        "    array[i], array[min_index] = array[min_index], array[i] # 스와프\n",
        "\n",
        "print(array)"
      ],
      "metadata": {
        "colab": {
          "base_uri": "https://localhost:8080/"
        },
        "id": "NSC17W2ptzeQ",
        "outputId": "457ffa9d-4be0-477b-d724-4acdf89ae063"
      },
      "execution_count": null,
      "outputs": [
        {
          "output_type": "stream",
          "name": "stdout",
          "text": [
            "[0, 1, 2, 3, 4, 5, 6, 7, 8, 9]\n"
          ]
        }
      ]
    },
    {
      "cell_type": "markdown",
      "source": [
        "### 삽입 정렬\n",
        "* 선택 정렬에 비해 실행 시간 측면에서 더 효율적임\n",
        "* 필요할 때만 위치를 바꾸므로 '데이터가 거의 정렬되어 있을 때' 훨씬 효율적임\n",
        "* 삽입 정렬 Insertion Sort : 특정한 데이터를 적절한 위치에 '삽입'\n",
        "* 특정한 데이터가 적절한 위치에 들어가기 이전에, 그 앞까지의 데이터는 이미 정렬되어 있다고 가정\n",
        "* 정렬되어 있는 데이터 리스트에서 적절한 위치를 찾은 뒤에, 그 위치에 삽입\n"
      ],
      "metadata": {
        "id": "8qe4Rlhy4L9u"
      }
    },
    {
      "cell_type": "code",
      "source": [
        "array = [7, 5, 9, 0, 3, 1, 6, 2, 4, 8]\n",
        "\n",
        "for i in range(1, len(array)):\n",
        "    for j in range(i, 0, -1):\n",
        "        if array[j] < array[j - 1]:\n",
        "            array[j], array[j - 1] = array[j - 1], array[j]\n",
        "        else:\n",
        "            break\n",
        "\n",
        "print(array)"
      ],
      "metadata": {
        "colab": {
          "base_uri": "https://localhost:8080/"
        },
        "id": "vgoPlsc53Q_A",
        "outputId": "a6e53b8b-0f8a-4c4a-9ee8-1264bdb069eb"
      },
      "execution_count": null,
      "outputs": [
        {
          "output_type": "stream",
          "name": "stdout",
          "text": [
            "[0, 1, 2, 3, 4, 5, 6, 7, 8, 9]\n"
          ]
        }
      ]
    },
    {
      "cell_type": "markdown",
      "source": [
        "### 퀵 정렬\n",
        "* '기준 데이터를 설정하고 기 기준보다 큰 데이터와 작은 데이터의 위치를 바꾸면 어떨까?'\n",
        "* 기준을 설정한 다음 큰 수와 작은 수를 교환한 후 리스트를 반으로 나누는 방식으로 동작\n",
        "* 큰 숫자와 작은 숫자를 교환하기 위한 '기준' : 피벗 (pivot)\n",
        "* 피벗을 어떻게 설정할 지 미리 명시해야 함\n",
        "* 호어 분할 방식 Hoare Partition : 리스트에서 첫 번째 데이터를 피벗으로 정함\n",
        "* 피벗 설정 후 왼쪽에서부터 피벗보다 큰 데이터 찾고, 오른쪽에서부터 피벗보다 작은 데이터 찾음\n",
        "* 그 다음 큰 데이터와 작은 데이터의 위치 교환\n",
        "* 이 과정을 반복하면 '피벗'에 대하여 정렬 수행됨"
      ],
      "metadata": {
        "id": "xoTWQSqd7UgA"
      }
    },
    {
      "cell_type": "code",
      "source": [
        "array = [5, 7, 9, 0, 3, 1, 6, 2, 4, 8]\n",
        "\n",
        "def quick_sort(array, start, end):\n",
        "    if start >= end:        # 원소가 1개인 경우 종료\n",
        "        return\n",
        "    pivot = start            # 피벗은 첫 번째 원소\n",
        "    left = start + 1\n",
        "    right = end\n",
        "    while left <= right:\n",
        "        # 피벗보다 큰 데이터를 찾을 때까지 반복\n",
        "        while left <= end and array[left] <= array[pivot]:\n",
        "            left += 1\n",
        "        # 피벗보다 작은 데이터를 찾을 때까지 반복\n",
        "        while right > start and array[right] >= array[pivot]:\n",
        "            right -= 1\n",
        "\n",
        "        if left > right:    # 엇갈렸다면 작은 데이터와 피벗을 교체\n",
        "            array[right], array[pivot] = array[pivot], array[right]\n",
        "        else:                # 엇갈리지 않았다면 작은 데이터와 큰 데이터를 교체\n",
        "            array[left], array[right] = array[right], array[left]\n",
        "\n",
        "    # 분할 이후 왼쪽 부분과 오른쪽 부분에서 각각 정렬 수행\n",
        "    quick_sort(array, start, right - 1)\n",
        "    quick_sort(array, right + 1, end)\n",
        "\n",
        "quick_sort(array, 0, len(array)-1)\n",
        "print(array)"
      ],
      "metadata": {
        "colab": {
          "base_uri": "https://localhost:8080/"
        },
        "id": "c_5jDfsE66iJ",
        "outputId": "6efe46c7-e93c-462e-efdc-bf8d63f8f175"
      },
      "execution_count": null,
      "outputs": [
        {
          "output_type": "stream",
          "name": "stdout",
          "text": [
            "[0, 1, 2, 3, 4, 5, 6, 7, 8, 9]\n"
          ]
        }
      ]
    },
    {
      "cell_type": "code",
      "source": [
        "array = [5, 7, 9, 0, 3, 1, 6, 2, 4, 8]\n",
        "\n",
        "def quick_sort(array):\n",
        "    # 리스트가 하나 이하의 원소만을 담고 있다면 종료\n",
        "    if len(array) <= 1:\n",
        "        return array\n",
        "\n",
        "    pivot = array[0] # 피벗은 첫 번째 원소\n",
        "    tail = array[1:] # 피벗을 제외한 리스트\n",
        "\n",
        "    left_side = [x for x in tail if x <= pivot] # 분할된 왼쪽 부분\n",
        "    right_side = [x for x in tail if x > pivot] # 분할된 오른쪽 부분\n",
        "\n",
        "    # 분할 이후 왼쪽 부분과 오른쪽 부분에서 각각 정렬을 수행하고, 전체 리스트 반환\n",
        "    return quick_sort(left_side) + [pivot] + quick_sort(right_side)\n",
        "\n",
        "print(quick_sort(array))"
      ],
      "metadata": {
        "colab": {
          "base_uri": "https://localhost:8080/"
        },
        "id": "b58DxwyAGRc3",
        "outputId": "5130edac-a47d-42a6-ab2e-d01a404d0be3"
      },
      "execution_count": null,
      "outputs": [
        {
          "output_type": "stream",
          "name": "stdout",
          "text": [
            "[0, 1, 2, 3, 4, 5, 6, 7, 8, 9]\n"
          ]
        }
      ]
    },
    {
      "cell_type": "markdown",
      "source": [
        "### 계수 정렬\n",
        "* 계수 정렬 Count Sort : 특정한 조건이 부합할 때만 사용 가능하지만 매우 빠름\n",
        "* 데이터의 크기 범위가 제한되어 정수 형태로 표현할 수 있을 때만 가능\n",
        "* 가장 큰 데이터와 가장 작은 데이터의 차이가 너무 크면 사용할 수 없음\n",
        "* 모든 범위를 담을 수 있는 크기의 리스트(배열)을 선언해야 하기 때문\n",
        "* 별도의 리스트를 선언하고 그 안에 정렬에 대한 정보를 담음\n",
        "* 가장 큰 데이터와 가장 작은 데이터의 범위가 모두 담길 수 있도록 리스트 생성\n",
        "* 리스트의 모든 데이터를 0으로 초기화\n",
        "* 데이터 값과 동일한 인덱스의 데이터를 1씩 증가\n",
        "* 결과적으로 리스트에는 각 데이터가 몇 번 등장했는지 횟수가 기록됨\n",
        "* 리스트의 첫 번째 데이터부터 그 값만큼 인덱스 출력"
      ],
      "metadata": {
        "id": "CdykLVbAH7EU"
      }
    },
    {
      "cell_type": "code",
      "source": [
        "# 모든 원소의 값이 0보다 크거나 같다고 가정\n",
        "array = [7, 5, 9, 0, 3, 1, 6, 2, 9, 1, 4, 8, 0, 5, 2]\n",
        "\n",
        "# 모든 범위를 포함하는 리스트 선언 (모든 값 0 초기화)\n",
        "count = [0] * (max(array) + 1)\n",
        "\n",
        "for i in range(len(array)):\n",
        "    count[array[i]] += 1            # 각 데이터에 해당하는 인덱스의 값 증가\n",
        "\n",
        "for i in range(len(count)):       # 리스트에 기록된 정렬 정보 확인\n",
        "    for j in range(count[i]):\n",
        "        print(i, end=' ')                # 띄어쓰기를 구분으로 등장한 횟수만큼 인덱스 출력"
      ],
      "metadata": {
        "colab": {
          "base_uri": "https://localhost:8080/"
        },
        "id": "Kaw6bDENHp1C",
        "outputId": "e856bcaa-6f8a-412d-b379-64ceb233cc99"
      },
      "execution_count": null,
      "outputs": [
        {
          "output_type": "stream",
          "name": "stdout",
          "text": [
            "0 0 1 1 2 2 3 4 5 5 6 7 8 9 9 "
          ]
        }
      ]
    },
    {
      "cell_type": "code",
      "source": [
        "# 정렬 라이브러리\n",
        "array = [7, 5, 9, 0, 3, 1, 6, 2, 4, 8]\n",
        "\n",
        "result = sorted(array)\n",
        "print(result)"
      ],
      "metadata": {
        "colab": {
          "base_uri": "https://localhost:8080/"
        },
        "id": "lrNeydRRJ2qh",
        "outputId": "f7772bc7-4f82-4ec1-e179-9ffff5d653e2"
      },
      "execution_count": null,
      "outputs": [
        {
          "output_type": "stream",
          "name": "stdout",
          "text": [
            "[0, 1, 2, 3, 4, 5, 6, 7, 8, 9]\n"
          ]
        }
      ]
    },
    {
      "cell_type": "code",
      "source": [
        "array = [7, 5, 9, 0, 3, 1, 6, 2, 4, 8]\n",
        "\n",
        "array.sort()\n",
        "print(array)"
      ],
      "metadata": {
        "colab": {
          "base_uri": "https://localhost:8080/"
        },
        "id": "7EylhF54K2F7",
        "outputId": "fc25b703-fc61-414c-b13b-09df53f8eb9a"
      },
      "execution_count": null,
      "outputs": [
        {
          "output_type": "stream",
          "name": "stdout",
          "text": [
            "[0, 1, 2, 3, 4, 5, 6, 7, 8, 9]\n"
          ]
        }
      ]
    },
    {
      "cell_type": "code",
      "source": [
        "array = [('바나나', 2), ('사과', 5), ('당근', 3)]\n",
        "\n",
        "def setting(data):\n",
        "    return data[1]\n",
        "\n",
        "result = sorted(array, key=setting)\n",
        "print(result)"
      ],
      "metadata": {
        "colab": {
          "base_uri": "https://localhost:8080/"
        },
        "id": "-aPWIyF8K7rp",
        "outputId": "14a7dde6-30b9-46c5-8bcc-551a17c697f9"
      },
      "execution_count": null,
      "outputs": [
        {
          "output_type": "stream",
          "name": "stdout",
          "text": [
            "[('바나나', 2), ('당근', 3), ('사과', 5)]\n"
          ]
        }
      ]
    },
    {
      "cell_type": "markdown",
      "source": [
        "##(2) 위에서 아래로\n",
        "* 수열을 내림차순 정렬하는 프로그램\n",
        "* 입력 조건\n",
        " - 첫째 줄에 수열에 속해 있는 수의 갯수 N 주어짐 (1 <= N <= 500)\n",
        " - 둘째 줄부터 N+1번째 줄까지 N개 수 입력 (1 이상 100,000 이하 자연수)\n",
        "* 출력 조건 : 내림차순 정렬 결과를 공백 구분하여 출력"
      ],
      "metadata": {
        "id": "MfZoSbqCLWvI"
      }
    },
    {
      "cell_type": "code",
      "source": [
        "# 입력 예시\n",
        "# 3\n",
        "# 15\n",
        "# 27\n",
        "# 12\n",
        "# 출력 예시 : 27 15 12\n",
        "\n",
        "# N 입력 받기\n",
        "n = int(input())\n",
        "\n",
        "# N 개의 정수를 입력 받아 리스트 저장\n",
        "array = []\n",
        "for i in range(n):\n",
        "    array.append(int(input()))\n",
        "\n",
        "# 파이썬 기본 정렬 라이브러리를 이용하여 정렬 수행\n",
        "array = sorted(array, reverse=True)\n",
        "\n",
        "# 정렬 수행 결과를 출력\n",
        "for i in array:\n",
        "    print(i, end=' ')"
      ],
      "metadata": {
        "colab": {
          "base_uri": "https://localhost:8080/"
        },
        "id": "-QSEwc2ALN5Y",
        "outputId": "92909de5-4e1a-416d-c412-c6d944f97389"
      },
      "execution_count": null,
      "outputs": [
        {
          "output_type": "stream",
          "name": "stdout",
          "text": [
            "3\n",
            "15\n",
            "27\n",
            "12\n",
            "27 15 12 "
          ]
        }
      ]
    },
    {
      "cell_type": "markdown",
      "source": [
        "##(3) 성적이 낮은 순서로 학생 출력하기\n",
        "* N명의 학생 정보 - 학생 이름과 성적 주어짐\n",
        "* 성적 낮은 순서대로 이름 출력 프로그램\n",
        "* 입력 조건\n",
        " - 첫 번째 줄 : 학생 수 N 입력 (1 <= N <= 100,000)\n",
        " - 두 번째 줄부터 N+1번째 줄 : 이름 문자열 A와 성적 정수 B 공백 구분 입력\n",
        "* 출력 조건 : 이름을 성적 낮은 순서 출력"
      ],
      "metadata": {
        "id": "GMd9wG_3MT1Q"
      }
    },
    {
      "cell_type": "code",
      "source": [
        "# 입력 예시\n",
        "# 2\n",
        "# 홍길동 95\n",
        "# 이순신 77\n",
        "# 출력 예시 : 이순신 홍길동\n",
        "\n",
        "# N 입력 받기\n",
        "n = int(input())\n",
        "\n",
        "# N 명 학생 정보 입력 받아 리스트 저장\n",
        "array = []\n",
        "for i in range(n):\n",
        "    input_data = input().split()\n",
        "    # 이름은 문자열 그대로, 점수는 정수형 변환하여 저장\n",
        "    array.append((input_data[0], int(input_data[1])))\n",
        "\n",
        "# 키(Key) 이용하여 점수 기준 정렬\n",
        "array = sorted(array, key = lambda student : student[1])\n",
        "\n",
        "# 정렬 수행 결과 출력\n",
        "for student in array:\n",
        "    print(student[0], end=' ')"
      ],
      "metadata": {
        "colab": {
          "base_uri": "https://localhost:8080/"
        },
        "id": "1I6mwLapMDP8",
        "outputId": "202d70c7-6101-4a9b-edf9-70bef9fe827a"
      },
      "execution_count": null,
      "outputs": [
        {
          "output_type": "stream",
          "name": "stdout",
          "text": [
            "2\n",
            "홍길동 95\n",
            "이순신 77\n",
            "이순신 홍길동 "
          ]
        }
      ]
    },
    {
      "cell_type": "markdown",
      "source": [
        "##(4) 두 배열의 원소 교체\n",
        "* 두 개의 배열 A와 B. N개의 원소 구성, 원소는 모두 자연수\n",
        "* 최대 K번 바꿔치기 연산 수행 가능\n",
        "* 바꿔치기 연산 : 배열 A에 있는 원소와 배열 B 원소 바꿈\n",
        "* 목표 : 배열 A의 모든 원소 합이 최대가 되는 것\n",
        "* N, K, A, B 정보 주어졌을 때, 최대 K번의 연산 수행하여 만들 수 있는 배열 A의 원소 합의 최댓값 출력\n",
        "* 입력 조건\n",
        " - 첫 번째 줄 : N, K (1 <= N <= 100,000, 0 <= K <= N)\n",
        " - 두 번째 줄 : 배열 A 원소\n",
        " - 세 번째 줄 : 배열 B 원소\n",
        "* 출력 조건 : 최대 K번 바꿔치기 연산 수행하여 만들 수 있는 A 원소 합 최댓값 출력"
      ],
      "metadata": {
        "id": "gBxp4GccNZoB"
      }
    },
    {
      "cell_type": "code",
      "source": [
        "# 입력 예시\n",
        "# 5 3\n",
        "# 1 2 5 4 3\n",
        "# 5 5 6 6 5\n",
        "# 출력 예시 : 26\n",
        "\n",
        "n, k = map(int, input().split())\n",
        "a = list(map(int, input().split()))\n",
        "b = list(map(int, input().split()))\n",
        "\n",
        "a.sort()\n",
        "b.sort(reverse=True)\n",
        "\n",
        "# 첫 번째 인덱스부터 확인하며, 두 배열의 원소를 최대 K번 비교\n",
        "for i in range(k):\n",
        "    if a[i] < b[i]:\n",
        "        a[i], b[i] = b[i], a[i]\n",
        "    else:\n",
        "        break\n",
        "\n",
        "print(sum(a))"
      ],
      "metadata": {
        "colab": {
          "base_uri": "https://localhost:8080/"
        },
        "id": "9Eg40COuNSFh",
        "outputId": "6418d7ee-8b52-4709-93bb-f56e8536546c"
      },
      "execution_count": null,
      "outputs": [
        {
          "output_type": "stream",
          "name": "stdout",
          "text": [
            "5 3\n",
            "1 2 5 4 3\n",
            "5 5 6 6 5\n",
            "26\n"
          ]
        }
      ]
    },
    {
      "cell_type": "markdown",
      "source": [
        "#[05] 이진 탐색\n",
        "* 탐색 범위를 반으로 좁혀가며 빠르게 탐색하는 알고리즘"
      ],
      "metadata": {
        "id": "QNqWVyRfPja4"
      }
    },
    {
      "cell_type": "markdown",
      "source": [
        "##(1) 범위를 반씩 좁혀가는 탐색"
      ],
      "metadata": {
        "id": "AOAWGgSxPsam"
      }
    },
    {
      "cell_type": "markdown",
      "source": [
        "### 순차 탐색\n",
        "* 순차 탐색 Sequential Search : 리스트 안에 있는 특정한 데이터를 찾기 위해 앞에서부터 데이터를 하나씩 차례대로 확인하는 방법"
      ],
      "metadata": {
        "id": "IrVBe1Z8Puol"
      }
    },
    {
      "cell_type": "code",
      "source": [
        "# 순차 탐색\n",
        "def sequential_search(n, target, array):\n",
        "    # 각 원소를 하나씩 확인하며\n",
        "    for i in range(n):\n",
        "        # 현재의 원소가 찾고자 하는 원소와 동일한 경우\n",
        "        if array[i] == target:\n",
        "            return i + 1 # 현재의 위치 반환\n",
        "\n",
        "print('생성할 원소 갯수를 입력한 다음 한 칸 띄고 찾을 문자열을 입력하세요. : ')\n",
        "input_data = input().split()\n",
        "n = int(input_data[0])\n",
        "target = input_data[1]\n",
        "\n",
        "print('원소 갯수만큼 문자열을 입력하세요. 구분은 띄어쓰기 한 칸 : ')\n",
        "array = input().split()\n",
        "\n",
        "# 순차 탐색 수행 결과 출력\n",
        "print(sequential_search(n, target, array))"
      ],
      "metadata": {
        "colab": {
          "base_uri": "https://localhost:8080/"
        },
        "id": "yjZ2sV2mXH0Q",
        "outputId": "93f72106-4723-4ddd-9c9a-c7a358ed0fbf"
      },
      "execution_count": null,
      "outputs": [
        {
          "output_type": "stream",
          "name": "stdout",
          "text": [
            "생성할 원소 갯수를 입력한 다음 한 칸 띄고 찾을 문자열을 입력하세요. : \n",
            "5 Dongbin\n",
            "원소 갯수만큼 문자열을 입력하세요. 구분은 띄어쓰기 한 칸 : \n",
            "Hanul Jonggu Dongbin Taeil Sangwook\n",
            "3\n"
          ]
        }
      ]
    },
    {
      "cell_type": "markdown",
      "source": [
        "### 이진 탐색\n",
        "* 이진 탐색 Binary Search : 배열 내부의 데이터가 정렬되어 있어야만 사용할 수 있는 알고리즘\n",
        "* 탐색 범위를 절반씩 좁혀가며 데이터 탐색\n",
        "* 위치를 나타내는 변수 3개 사용 : 탐색 범위의 시작점, 끝점, 중간점\n",
        "* 찾으려는 데이터와 중간점 위치에 있는 데이터를 반복적으로 비교하여 찾음"
      ],
      "metadata": {
        "id": "Ock8JalKiS7-"
      }
    },
    {
      "cell_type": "code",
      "source": [
        "# 재귀 함수로 구현한 이진 탐색\n",
        "def binary_search(array, target, start, end):\n",
        "    if start > end:\n",
        "        return None\n",
        "    mid = (start + end) // 2\n",
        "    # 찾은 경우 중간점 인덱스 반환\n",
        "    if array[mid] == target:\n",
        "        return mid\n",
        "    # 중간점의 값보다 찾고자 하는 값이 작은 경우 왼쪽 확인\n",
        "    elif array[mid] > target:\n",
        "        return binary_search(array, target, start, mid-1)\n",
        "    # 중간점의 값보다 찾고자 하는 값이 큰 경우 오른쪽 확인\n",
        "    else:\n",
        "        return binary_search(array, target, mid+1, end)\n",
        "\n",
        "# n(원소의 갯수)과 target(찾고자 하는 문자열) 입력 받기\n",
        "n, target = list(map(int, input().split()))\n",
        "# 전체 원소 입력 받기\n",
        "array = list(map(int, input().split()))\n",
        "\n",
        "# 이진 탐색 수행 결과 출력\n",
        "result = binary_search(array, target, 0, n-1)\n",
        "if result == None:\n",
        "    print('원소가 존재하지 않습니다.')\n",
        "else:\n",
        "    print(result + 1)"
      ],
      "metadata": {
        "id": "YKnewWGPh5lB",
        "colab": {
          "base_uri": "https://localhost:8080/"
        },
        "outputId": "c33ec9ac-592d-4d3e-952a-b2b8985bde27"
      },
      "execution_count": null,
      "outputs": [
        {
          "output_type": "stream",
          "name": "stdout",
          "text": [
            "10 7\n",
            "1 3 5 7 9 11 13 15 17 19\n",
            "4\n"
          ]
        }
      ]
    },
    {
      "cell_type": "code",
      "source": [
        "# 반복문으로 구현한 이진 탐색\n",
        "def binary_search(array, target, start, end):\n",
        "    while start <= end:\n",
        "        mid = (start + end) // 2\n",
        "        # 찾은 경우 중간점 인덱스 반환\n",
        "        if array[mid] == target:\n",
        "            return mid\n",
        "        # 중간점의 값보다 찾고자 하는 값이 작은 경우 왼쪽 확인\n",
        "        elif array[mid] > target:\n",
        "            end = mid - 1\n",
        "        # 중간점의 값보다 찾고자 하는 값이 큰 경우 오른쪽 확인\n",
        "        else:\n",
        "            start = mid + 1\n",
        "    return None\n",
        "\n",
        "# n(원소의 갯수)과 target(찾고자 하는 문자열) 입력 받기\n",
        "n, target = list(map(int, input().split()))\n",
        "# 전체 원소 입력 받기\n",
        "array = list(map(int, input().split()))\n",
        "\n",
        "# 이진 탐색 수행 결과 출력\n",
        "result = binary_search(array, target, 0, n-1)\n",
        "if result == None:\n",
        "    print('원소가 존재하지 않습니다.')\n",
        "else:\n",
        "    print(result + 1)"
      ],
      "metadata": {
        "id": "fV93xbO0PeyS",
        "colab": {
          "base_uri": "https://localhost:8080/"
        },
        "outputId": "da028309-5979-42ee-b589-6435c74b1113"
      },
      "execution_count": null,
      "outputs": [
        {
          "output_type": "stream",
          "name": "stdout",
          "text": [
            "10 7\n",
            "1 3 5 7 9 11 13 15 17 19\n",
            "4\n"
          ]
        }
      ]
    },
    {
      "cell_type": "markdown",
      "source": [
        "### 트리 자료구조\n",
        "* 이진 탐색은 전제 조건이 데이터 정렬이다.\n",
        "* 데이터베이스는 트리 자료구조를 이용하여 데이터가 정렬되어 있다.\n",
        "* 따라서 데이터베이스에서의 탐색은 이진 탐색과 유사한 방법을 이용해 빠르게 수행하도록 설계되어 있다.\n",
        "* 트리 자료구조 : 노드와 노드의 연결로 표현. 노드는 정보의 단위로서 어떠한 정보를 가지고 있는 개체.\n",
        "* 트리 자료구조는 그래프 자료구조의 일종으로 데이터베이스 시스템이나 파일 시스템 등 많은 양의 데이터를 관리하는 목적으로 사용\n",
        "* 트리 자료구조의 특징\n",
        " - 트리는 부모 노드와 자식 노드의 관계로 표현된다.\n",
        " - 최상단 노드 : 루트 노드\n",
        " - 최하단 노드 : 단말 노드\n",
        " - 일부를 떼어내도 트리 구조 : 서브 트리\n",
        " - 계층적이고 정렬된 데이터를 다루기에 적합\n"
      ],
      "metadata": {
        "id": "eOh7RBnjWNEB"
      }
    },
    {
      "cell_type": "markdown",
      "source": [
        "### 이진 탐색 트리\n",
        "* 이진 탐색 트리 : 이진 탐색이 동작하도록 고안된, 효율적인 탐색이 가능한 자료구조\n",
        "* 특징\n",
        " - 부모 노드보다 왼쪽 자식 노드가 작다.\n",
        " - 부모 노드보다 오른쪽 자식 노드가 크다."
      ],
      "metadata": {
        "id": "2_01Xb0uXU6_"
      }
    },
    {
      "cell_type": "code",
      "source": [
        "# sys 라이브러리를 사용하여 한 줄씩 입력 받기\n",
        "import sys\n",
        "\n",
        "# 하나의 문자열 데이터 입력 받기\n",
        "input_data = sys.stdin.readline().rstrip()\n",
        "\n",
        "# 입력 받은 문자열 출력\n",
        "print(input_data)"
      ],
      "metadata": {
        "id": "OXrE_LbGXISp"
      },
      "execution_count": null,
      "outputs": []
    },
    {
      "cell_type": "markdown",
      "source": [
        "##(2) 부품 찾기\n",
        "* N개의 부품이 있다. 각 부품은 정수 번호가 있다.\n",
        "* 손님이 M개 종류의 부품을 주문했다.\n",
        "* 부품이 모두 있는지 확인하는 프로그램 작성\n",
        "* 입력 조건\n",
        " - 첫째 줄에 정수 N (1 <= N <= 1,000,000)\n",
        " - 둘째 줄 : N개 정수 (1 보다 크고 1,000,000 이하)\n",
        " - 셋째 줄 : M (1 <= M <= 100,000)\n",
        " - 넷째 줄 : M개 정수 (1 보다 크고 1,000,000 이하)\n",
        "* 출력 조건 : 각 부붐이 존재하면 yes, 없으면 no"
      ],
      "metadata": {
        "id": "zz4JVDh-YpAf"
      }
    },
    {
      "cell_type": "code",
      "source": [
        "# 입력 예시\n",
        "# 5\n",
        "# 8 3 7 9 2\n",
        "# 3\n",
        "# 5 7 9\n",
        "# 출력 예시 : no yes yes\n",
        "\n",
        "# 이진 탐색 (반복문)\n",
        "def binary_search(array, target, start, end):\n",
        "    while start <= end:\n",
        "        mid = (start + end) // 2\n",
        "\n",
        "        if array[mid] == target:\n",
        "            return mid\n",
        "        elif array[mid] > target:\n",
        "            end = mid - 1\n",
        "        else:\n",
        "            start = mid + 1\n",
        "\n",
        "    return None\n",
        "\n",
        "n = int(input())\n",
        "array = list(map(int, input().split()))\n",
        "array.sort() # 이진 탐색을 수행하기 위해 정렬 수행\n",
        "\n",
        "m = int(input())\n",
        "x = list(map(int, input().split()))\n",
        "\n",
        "# 손님이 확인 요청한 부품 번호를 하나씩 확인\n",
        "for i in x:\n",
        "    result = binary_search(array, i, 0, n-1)\n",
        "    if result != None:\n",
        "        print('yes', end=' ')\n",
        "    else:\n",
        "        print('no', end=' ')"
      ],
      "metadata": {
        "colab": {
          "base_uri": "https://localhost:8080/"
        },
        "id": "j2y8UMRpYRcc",
        "outputId": "fb0bc559-22ef-44db-c711-7c3b45174876"
      },
      "execution_count": null,
      "outputs": [
        {
          "output_type": "stream",
          "name": "stdout",
          "text": [
            "5\n",
            "8 3 7 9 2\n",
            "3\n",
            "5 7 9\n",
            "no yes yes "
          ]
        }
      ]
    },
    {
      "cell_type": "code",
      "source": [
        "# 계수 정렬\n",
        "# 모든 원소의 번호를 포함할 수 있는 크기의 리스트 만든 후\n",
        "# 리스트의 인덱스에 접근하여 특정한 번호의 부품이 존재하는지 확인\n",
        "\n",
        "n = int(input())\n",
        "array = [0] * 1000001\n",
        "\n",
        "for i in input().split():\n",
        "    array[int(i)] = 1\n",
        "\n",
        "m = int(input())\n",
        "x = list(map(int, input().split()))\n",
        "\n",
        "for i in x:\n",
        "    if array[i] == 1:\n",
        "        print('yes', end=' ')\n",
        "    else:\n",
        "        print('no', end=' ')"
      ],
      "metadata": {
        "colab": {
          "base_uri": "https://localhost:8080/"
        },
        "id": "eFeFsZytadtJ",
        "outputId": "b83ff970-f4e0-49cb-e1bd-1523114b13b3"
      },
      "execution_count": null,
      "outputs": [
        {
          "output_type": "stream",
          "name": "stdout",
          "text": [
            "5\n",
            "8 3 7 9 2\n",
            "3\n",
            "5 7 9\n",
            "no yes yes "
          ]
        }
      ]
    },
    {
      "cell_type": "code",
      "source": [
        "# 집합 자료형 이용\n",
        "\n",
        "n = int(input())\n",
        "array = set(map(int, input().split()))\n",
        "\n",
        "m = int(input())\n",
        "x = list(map(int, input().split()))\n",
        "\n",
        "for i in x:\n",
        "    if i in array:\n",
        "        print('yes', end=' ')\n",
        "    else:\n",
        "        print('no', end=' ')"
      ],
      "metadata": {
        "colab": {
          "base_uri": "https://localhost:8080/"
        },
        "id": "VJTUo9dzcHGG",
        "outputId": "2382c727-7d1b-4e50-f80c-d925a217564c"
      },
      "execution_count": null,
      "outputs": [
        {
          "output_type": "stream",
          "name": "stdout",
          "text": [
            "5\n",
            "8 3 7 9 2\n",
            "3\n",
            "5 7 9\n",
            "no yes yes "
          ]
        }
      ]
    },
    {
      "cell_type": "markdown",
      "source": [
        "##(3) 떡볶이 떡 만들기\n",
        "* 떡의 길이가 일정하지 않다. 높이 H를 지정하여 절단한다.\n",
        "* 떡을 절단한 후, 잘린 떡을 손님이 가져간다.\n",
        "* 손님이 요청한 총 길이가 M일 때 절단 높이 최댓값 구하라\n",
        "* 입력 조건\n",
        " - 첫째 줄 : 떡 갯수 N, 요청한 길이 M\n",
        " - 둘째 줄 : 개별 떡 높이\n",
        "* 출력 조건 : 절단기 높이 최댓값"
      ],
      "metadata": {
        "id": "4QzA63mAc0QQ"
      }
    },
    {
      "cell_type": "code",
      "source": [
        "# 입력 예시\n",
        "# 4 6\n",
        "# 19 15 10 17\n",
        "# 출력 예시 : 15\n",
        "\n",
        "# 파라메트릭 서치 (Parametric Search) : 최적화 문제를 결정 문제로 바꾸어 해결하는 기법\n",
        "# '원하는 조건을 만족하는 가장 알맞은 값을 찾는 문제'에 주로 사용\n",
        "# 예) 범위 내에서 조건을 만족하는 가장 큰 값을 찾으라는 최적화 문제라면 이진 탐색으로 결정 문제를 해결하면서 범위 좁혀감\n",
        "\n",
        "# 적절한 높이를 찾을 때까지 높이 H를 반복하여 조정\n",
        "# '현재 이 높이로 자르면 조건 만족할 수 있나?' 확인 후 조건 만족 여부 ('예' 혹은 '아니오') 따라서 탐색 범위 좁혀감\n",
        "# 이진 탐색 원리 이용하여 절반씩 탐색 범위 좁혀감\n",
        "\n",
        "n, m = list(map(int, input().split()))\n",
        "array = list(map(int, input().split()))\n",
        "\n",
        "# 이진 탐색을 위한 시작점과 끝점 설정\n",
        "start = 0\n",
        "end = max(array)\n",
        "\n",
        "# 이진 탐색 수행(반복)\n",
        "result = 0\n",
        "while (start <= end):\n",
        "    total = 0\n",
        "    mid = (start + end) // 2\n",
        "\n",
        "    for x in array:\n",
        "        # 잘랐을 때 떡의 양 계산\n",
        "        if x > mid:\n",
        "            total += x - mid\n",
        "\n",
        "    # 떡의 양이 부족한 경우 더 많이 자르기 (왼쪽 부분 탐색)\n",
        "    if total < m:\n",
        "        end = mid - 1\n",
        "    # 떡의 양이 충분한 경우 덜 자르기 (오른쪽 부분 탐색)\n",
        "    else:\n",
        "        result = mid\n",
        "        start = mid + 1\n",
        "\n",
        "print(result)"
      ],
      "metadata": {
        "colab": {
          "base_uri": "https://localhost:8080/"
        },
        "id": "O83q-j2fYiGT",
        "outputId": "3fbfdd02-91e4-485a-d3fd-bcbb57408419"
      },
      "execution_count": null,
      "outputs": [
        {
          "output_type": "stream",
          "name": "stdout",
          "text": [
            "4 6\n",
            "19 15 10 17\n",
            "15\n"
          ]
        }
      ]
    },
    {
      "cell_type": "markdown",
      "source": [
        "#[06] 다이나믹 프로그래밍\n",
        "* 한 번 계산한 문제는 다시 계산하지 않도록 하는 알고리즘"
      ],
      "metadata": {
        "id": "9NpLj3rDiLnH"
      }
    },
    {
      "cell_type": "markdown",
      "source": [
        "##(1) 다이나믹 프로그래밍\n",
        "* 중복되는 연산을 줄이자\n",
        "* 연산 속도와 메모리 공간을 최대한 활용할 수 있는 효율적 알고리즘을 작성해야 한다.\n",
        "* 메모리 공간을 약간 더 사용하면 연산 속도를 비약적으로 증가시킬 수 있는 방법 : 다이나믹 프로그래밍 Dynamic Programming 동적 계획법\n",
        "* 탑다운, 보텀업\n",
        "* 메모이제이션 기법"
      ],
      "metadata": {
        "id": "fhjgxysIiUHQ"
      }
    },
    {
      "cell_type": "code",
      "source": [
        "# 피보나치 함수(Fibonacci Function)를 재귀 함수로 구현\n",
        "def fibo(x):\n",
        "    if x == 1 or x == 2:\n",
        "        return 1\n",
        "    return fibo(x-1) + fibo(x-2)\n",
        "\n",
        "print(fibo(4))\n",
        "\n",
        "# n 커질수록 수행 시간 기하급수적 늘어남\n",
        "# 동일 함수 반복적으로 호출됨"
      ],
      "metadata": {
        "id": "-v4KNQxlXIP1",
        "colab": {
          "base_uri": "https://localhost:8080/"
        },
        "outputId": "6def8267-6ee2-4652-e178-f6b7bcb5f383"
      },
      "execution_count": null,
      "outputs": [
        {
          "output_type": "stream",
          "name": "stdout",
          "text": [
            "3\n"
          ]
        }
      ]
    },
    {
      "cell_type": "markdown",
      "source": [
        "* 다이나믹 프로그래밍 사용 조건\n",
        " - (1) 큰 문제를 작은 문제로 나눌 수 있다.\n",
        " - (2) 작은 문제에서 구한 정답은 그것을 포함하는 큰 문제에서도 동일하다."
      ],
      "metadata": {
        "id": "gLFcbIVzkx_5"
      }
    },
    {
      "cell_type": "markdown",
      "source": [
        "* 메모이제이션 Memoization 기법 : 다이나믹 프로그래밍을 구현하는 방법 중 하나. 한 번 구한 결과를 메모리 공간에 메모해두고 같은 식을 다시 호출하면 결과를 그대로 가져옴 (캐싱 Caching)\n",
        "* 한 번 구한 정보를 리스트에 저장 (DP 테이블). 다이나믹 프로그래밍을 재귀적으로 수행하다가 같은 정보가 필요할 때는 리스트에서 가져옴"
      ],
      "metadata": {
        "id": "Epsy_vhSk-xf"
      }
    },
    {
      "cell_type": "code",
      "source": [
        "# 피보나치 수열 (메모이제이션)\n",
        "\n",
        "# 계산 결과를 메모이제이션(Memoization) 하기 위한 리스트 초기화\n",
        "d = [0] * 100\n",
        "\n",
        "# 피보나치 함수를 재귀함수로 구현 (탑다운 프로그래밍)\n",
        "def fibo(x):\n",
        "    # 종료 조건 (1 or 2 일 때 1 반환)\n",
        "    if x == 1 or x == 2:\n",
        "        return 1\n",
        "    # 이미 계산한 적 있는 문제라면 그대로 반환\n",
        "    if d[x] != 0:\n",
        "        return d[x]\n",
        "    # 아직 계산하지 않은 문제라면 피보나치 결과 반환\n",
        "    d[x] = fibo(x-1) + fibo(x-2)\n",
        "    return d[x]\n",
        "\n",
        "print(fibo(99))"
      ],
      "metadata": {
        "colab": {
          "base_uri": "https://localhost:8080/"
        },
        "id": "Y_fj8LBqkFn8",
        "outputId": "8a698c0e-7670-4704-ea47-11159dd5fe3a"
      },
      "execution_count": null,
      "outputs": [
        {
          "output_type": "stream",
          "name": "stdout",
          "text": [
            "218922995834555169026\n"
          ]
        }
      ]
    },
    {
      "cell_type": "code",
      "source": [
        "# 시간 복잡도 O(N)\n",
        "# 호출되는 함수 확인\n",
        "d = [0] * 100\n",
        "\n",
        "def fibo(x):\n",
        "    print('f(' + str(x) + ')', end=' ')\n",
        "    if x == 1 or x == 2:\n",
        "        return 1\n",
        "    if d[x] != 0:\n",
        "        return d[x]\n",
        "    d[x] = fibo(x-1) + fibo(x-2)\n",
        "    return d[x]\n",
        "\n",
        "fibo(6)"
      ],
      "metadata": {
        "id": "vVPTuDTiXINa",
        "colab": {
          "base_uri": "https://localhost:8080/"
        },
        "outputId": "acaf9ef5-2f99-4a50-f93b-dd5fb1847ea9"
      },
      "execution_count": null,
      "outputs": [
        {
          "output_type": "stream",
          "name": "stdout",
          "text": [
            "f(6) f(5) f(4) f(3) f(2) f(1) f(2) f(3) f(4) "
          ]
        },
        {
          "output_type": "execute_result",
          "data": {
            "text/plain": [
              "8"
            ]
          },
          "metadata": {},
          "execution_count": 4
        }
      ]
    },
    {
      "cell_type": "markdown",
      "source": [
        "* 탑 다운 방식 Top-Down (하향식) : 큰 문제를 해결하기 위해 작은 문제 호출\n",
        "* 보텀 업 방식 Bottom-Up (상향식) : 반복문을 이용하여 작은 문제부터 차근차근 답을 도출"
      ],
      "metadata": {
        "id": "nFDPd2bgnXLk"
      }
    },
    {
      "cell_type": "code",
      "source": [
        "# 피보나치 수열 (반복적)\n",
        "\n",
        "d = [0] * 100\n",
        "\n",
        "# 첫 번째, 두 번째 피보나치 수 = 1\n",
        "d[1] = 1\n",
        "d[2] = 1\n",
        "n = 99\n",
        "\n",
        "# 파보나치 함수를 반복적으로 구현 (보텀 업 다이나믹 프로그래밍)\n",
        "for i in range(3, n+1):\n",
        "    d[i] = d[i-1] + d[i-2]\n",
        "\n",
        "print(d[n])"
      ],
      "metadata": {
        "colab": {
          "base_uri": "https://localhost:8080/"
        },
        "id": "raIy0fu8m-r8",
        "outputId": "45cc47e0-592d-4bac-9d02-d0ac87ef0258"
      },
      "execution_count": null,
      "outputs": [
        {
          "output_type": "stream",
          "name": "stdout",
          "text": [
            "218922995834555169026\n"
          ]
        }
      ]
    },
    {
      "cell_type": "markdown",
      "source": [
        "##(2) 1로 만들기\n",
        "* 정수 X에서 사용할 수 있는 연산 4가지\n",
        " - X가 5로 나누어 떨어지면, 5로 나눔\n",
        " - X가 3으로 나누어 떨어지면, 3으로 나눔\n",
        " - X가 2로 나누어 떨어지면, 2로 나눔\n",
        " - X에서 1을 뺌\n",
        "* 1을 만들자. 연산 사용하는 최소 횟수 값 출력\n",
        "* 입력 조건 : 첫째 줄에 정수 X (1 <= X <= 30,000)\n",
        "* 출력 조건 : 첫째 줄에 연산 최소 횟수"
      ],
      "metadata": {
        "id": "mdY98smzohVW"
      }
    },
    {
      "cell_type": "code",
      "source": [
        "# 입력 예시 : 26\n",
        "# 출력 예시 : 3\n",
        "\n",
        "x = int(input())\n",
        "\n",
        "# 앞서 계산한 결과를 저장하기 위한 DP 테이블 초기화\n",
        "d = [0] * 30001\n",
        "\n",
        "# Dynimic Programming 진행 (Bottom-Up)\n",
        "for i in range(2, x+1):\n",
        "    # 현재 수에서 1 빼는 경우\n",
        "    d[i] = d[i-1] + 1\n",
        "    # 현재 수가 2로 나누어 떨어지는 경우\n",
        "    if i % 2 == 0:\n",
        "        d[i] = min(d[i], d[i//2] + 1)\n",
        "    # 현재 수가 3으로 나누어 떨어지는 경우\n",
        "    if i % 3 == 0:\n",
        "        d[i] = min(d[i], d[i//3] + 1)\n",
        "    # 현재 수가 5로 나누어 떨어지는 경우\n",
        "    if i % 5 == 0:\n",
        "        d[i] = min(d[i], d[i//5] + 1)\n",
        "\n",
        "print(d[x])"
      ],
      "metadata": {
        "colab": {
          "base_uri": "https://localhost:8080/"
        },
        "id": "pN-mgX_An2-8",
        "outputId": "8af9566e-f1aa-49ff-db0d-aec55eaced21"
      },
      "execution_count": null,
      "outputs": [
        {
          "output_type": "stream",
          "name": "stdout",
          "text": [
            "26\n",
            "3\n"
          ]
        }
      ]
    },
    {
      "cell_type": "markdown",
      "source": [
        "##(3) 개미 전사\n",
        "* 일직선 상 식량창고에서 최대한 많은 식량 얻으려 한다.\n",
        "* 한 칸 이상 떨어진 식량창고를 약탈해야 한다.\n",
        "* 식량창고 N개 정보 주어졌을 때 얻을 수 있는 식량 최댓값 구하라\n",
        "* 입력 조건\n",
        " - 첫째 줄 : 식량창고 갯수 N (3 <= N <= 100)\n",
        " - 둘째 줄 : 식량 갯수 K (0 <= K <= 1,000)\n",
        "* 출력 조건 : 식량 최댓값"
      ],
      "metadata": {
        "id": "DI-Ps1cXq4zW"
      }
    },
    {
      "cell_type": "code",
      "source": [
        "# 입력 예시\n",
        "# 4\n",
        "# 1 3 1 5\n",
        "# 출력 예시 : 8\n",
        "\n",
        "n = int(input())\n",
        "array = list(map(int, input().split()))\n",
        "\n",
        "d = [0] * 100\n",
        "\n",
        "# Dynamic Programming (Bottom-Up)\n",
        "d[0] = array[0]\n",
        "d[1] = max(array[0], array[1])\n",
        "for i in range(2, n):\n",
        "    d[i] = max(d[i-1], d[i-2] + array[i])\n",
        "\n",
        "print(d[n-1])"
      ],
      "metadata": {
        "id": "wunKhiBPXIKi",
        "colab": {
          "base_uri": "https://localhost:8080/"
        },
        "outputId": "6d0ad7b7-9f63-4e3e-efa3-b4aa02f211d3"
      },
      "execution_count": null,
      "outputs": [
        {
          "output_type": "stream",
          "name": "stdout",
          "text": [
            "4\n",
            "1 3 1 5\n",
            "8\n"
          ]
        }
      ]
    },
    {
      "cell_type": "markdown",
      "source": [
        "##(4) 바닥 공사\n",
        "* 가로 N, 세로 2 직사각형 바닥\n",
        "* 1 x 2, 2 x 1, 2 x 2 덮개로 채우고자 한다.\n",
        "* 바닥 채우는 모든 경우의 수 구하라\n",
        "* 입력 조건 : 첫째 줄 N (1 <= N <= 1,000)\n",
        "* 출력 조건 : 2 x N 바닥 채우는 방법 수를 796,796으로 나눈 나머지 출력"
      ],
      "metadata": {
        "id": "bHTyT3iKw67Q"
      }
    },
    {
      "cell_type": "code",
      "source": [
        "# 입력 예시 : 3\n",
        "# 출력 예시 : 5\n",
        "\n",
        "'''\n",
        "1. 왼쪽부터 i-1까지 채우면, 2x1 덮개 1개 => 1가지 존재\n",
        "2. 왼쪽부터 i-2까지 채우면, 1x2 2개 넣는 경우, 2x2 1개 넣는 경우 => 2가지 존재\n",
        "3. N-2 미만 길이 고려할 필요 없음. 사용 덮개 형태가 최대 2x2 형태임\n",
        "4. 따라서 점화식 : ai = ai-1 + ai-2 x 2\n",
        "'''\n",
        "\n",
        "n = int(input())\n",
        "\n",
        "d = [0] * 1001\n",
        "\n",
        "d[1] = 1\n",
        "d[2] = 3\n",
        "for i in range(3, n+1):\n",
        "    d[i] = (d[i-1] + 2 * d[i-2]) % 796796\n",
        "\n",
        "print(d[n])"
      ],
      "metadata": {
        "id": "QASQGKJAXHWk",
        "colab": {
          "base_uri": "https://localhost:8080/"
        },
        "outputId": "91979494-1fd3-4e81-921c-892bb15dde8b"
      },
      "execution_count": null,
      "outputs": [
        {
          "output_type": "stream",
          "name": "stdout",
          "text": [
            "3\n",
            "5\n"
          ]
        }
      ]
    },
    {
      "cell_type": "markdown",
      "source": [
        "##(5) 효율적인 화폐 구성\n",
        "* N 종류 화폐\n",
        "* 화폐 갯수 최소한 이용하여 합이 M원 되도록 하려고 한다.\n",
        "* 입력 조건\n",
        " - 첫째 줄 : N, M (1 <= N <= 100, 1 <= M <= 10,000)\n",
        " - N 개 줄 : 각 화폐 가치 (10,000보다 작거나 같은 자연수)\n",
        "* 출력 조건 : 최소 화폐 갯수 출력 (불가능 시 -1)"
      ],
      "metadata": {
        "id": "aMdQQFRA0Kl6"
      }
    },
    {
      "cell_type": "code",
      "source": [
        "# 입력 예시 1\n",
        "# 2 15\n",
        "# 2\n",
        "# 3\n",
        "# 출력 예시 1 : 5\n",
        "\n",
        "# 입력 예시 2\n",
        "# 3 4\n",
        "# 3\n",
        "# 5\n",
        "# 7\n",
        "# 출력 예시 2 : -1\n",
        "\n",
        "# 정수 N, M 입력 받기\n",
        "n, m = map(int, input().split())\n",
        "\n",
        "# N개 화폐 단위 정보 입력 받기\n",
        "array = []\n",
        "for i in range(n):\n",
        "    array.append(int(input()))\n",
        "\n",
        "# 한 번 계산된 결과를 저장하기 위한 DP 테이블 초기화\n",
        "d = [10001] * (m + 1)\n",
        "\n",
        "# Dynamic Programming 진행 (Bottom-Up)\n",
        "d[0] = 0\n",
        "for i in range(n):\n",
        "    for j in range(array[i], m+1):\n",
        "        if d[j - array[i]] != 10001:                    # (i - k) 원을 만드는 방법이 존재하는 경우\n",
        "            d[j] = min(d[j], d[j - array[i]] + 1)\n",
        "\n",
        "# 결과 출력\n",
        "if d[m] == 10001:                                       # 최종적으로 M원을 만드는 방법이 없는 경우\n",
        "    print(-1)\n",
        "else:\n",
        "    print(d[m])"
      ],
      "metadata": {
        "colab": {
          "base_uri": "https://localhost:8080/"
        },
        "id": "ciL9O_5t0FfN",
        "outputId": "e6bc4308-ba22-41b8-b3c5-f25138d678bd"
      },
      "execution_count": null,
      "outputs": [
        {
          "output_type": "stream",
          "name": "stdout",
          "text": [
            "2 15\n",
            "2\n",
            "3\n",
            "5\n"
          ]
        }
      ]
    },
    {
      "cell_type": "markdown",
      "source": [
        "#[07] 최단 경로\n",
        "* 특정 지점까지 가장 빠르게 도달하는 방법을 찾는 알고리즘"
      ],
      "metadata": {
        "id": "Hg-U6gH634FJ"
      }
    },
    {
      "cell_type": "markdown",
      "source": [
        "##(1) 가장 빠른 길 찾기"
      ],
      "metadata": {
        "id": "ghBUhFYd4D_J"
      }
    },
    {
      "cell_type": "markdown",
      "source": [
        "### 가장 빠르게 도달하는 방법\n",
        "* 최단 경로 Shortest Path 알고리즘 : 가장 짧은 경로를 찾는 알고리즘. '길 찾기' 문제\n",
        "* 보통 그래프 이용하여 표현. 각 지점은 그래프에서 '노드'로 표현, 지점 간 연결 도로는 '간선'으로 표현\n",
        "* 다익스트라 최단 경로 알고리즘\n",
        "* 플로이드 워셜 알고리즘"
      ],
      "metadata": {
        "id": "x5BeRi-K4GSM"
      }
    },
    {
      "cell_type": "markdown",
      "source": [
        "![캡처.PNG](data:image/png;base64,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)"
      ],
      "metadata": {
        "id": "RG6E_Mb7-ExM"
      }
    },
    {
      "cell_type": "markdown",
      "source": [
        "### 다익스트라 최단 경로 알고리즘\n",
        "* Dijkstra : 그래프에서 여러 개의 노드가 있을 때, 특정한 노드에서 출발하여 다른 노드로 가는 각각의 최단 경로를 구해주는 알고리즘\n",
        "* 기본적으로 그리디 알고리즘으로 분류됨\n",
        "* 매번 '가장 비용이 적은 노드'를 선택해서 임의의 과정 반복\n",
        "* 원리\n",
        " - 1. 출발 노드 설정\n",
        " - 2. 최단 거리 테이블 초기화\n",
        " - 3. 방문하지 않은 노드 중 최단 거리 가장 짧은 노드 선택\n",
        " - 4. 해당 노드를 거쳐 다른 노드로 가는 비용을 계산하여 최단 거리 테이블 갱신\n",
        " - 5. 위 과정에서 3과 4를 반복\n",
        "* 최단 경로를 구하는 과정에서 '각 노드에 대한 현재까지의 최단 거리' 정보를 리스트에 저장하며 계속 갱신\n",
        "* 매번 현재 처리하는 노드를 기준으로 주변 간선을 확인\n",
        "* 나중에 현재 처리하는 노드와 인접한 노드로 도달하는 더 짧은 경로를 찾으면 '이제부터는 이 경로가 제일 짧은 경로야' 판단\n",
        "* 따라서 '방문하지 않은 노드 중에서 현재 최단 거리가 가장 짧은 노드를 확인'해 그 노드에 대해 4번 과정 수행한다는 점에서 그리디 알고리즘으로 볼 수 있음\n",
        "* 한 단계 당 하나의 노드에 대한 최단 거리를 확실히 찾는 것"
      ],
      "metadata": {
        "id": "gQNQuFQN4rSR"
      }
    },
    {
      "cell_type": "code",
      "source": [
        "# 간단한 다익스트라 알고리즘\n",
        "# 각 노드에 대한 최단 거리 담는 1차원 리스트 선언\n",
        "# 단계마다 '방문하지 않은 노드 중에서 최단 거리가 가장 짧은 노드를 선택' 하기 위해\n",
        "# 매 단계마다 1차원 리스트의 모든 원소를 확인(순차 탐색)\n",
        "\n",
        "import sys\n",
        "# input = sys.stdin.readline()\n",
        "\n",
        "INF = int(1e9) # 무한을 의미하는 값으로 10억을 설정\n",
        "\n",
        "# 노드 & 간선 갯수 입력 받기\n",
        "n, m = map(int, input().split())\n",
        "# 시작 노드 번호를 입력 받기\n",
        "start = int(input())\n",
        "# 각 노드에 연결되어 있는 노드 정보를 담는 리스트 만들기\n",
        "graph = [[ ] for i in range(n + 1)]\n",
        "# 방문한 적이 있는지 체크하는 리스트 생성\n",
        "visited = [False] * (n + 1)\n",
        "# 최단 거리 테이블을 무한으로 초기화\n",
        "distance = [INF] * (n + 1)\n",
        "\n",
        "# 모든 간선 정보 입력 받기\n",
        "for _ in range(m):\n",
        "    a, b, c = map(int, input().split())\n",
        "    # a번 노드에서 b번 노드로 가는 비용이 c라는 의미\n",
        "    graph[a].append([b, c])\n",
        "\n",
        "# 방문하지 않은 노드 중에서, 가장 최단 거리가 짧은 노드의 번호를 반환\n",
        "def get_smallest_node():\n",
        "    min_value = INF\n",
        "    index = 0\n",
        "    for i in range(1, n + 1):\n",
        "        if distance[i] < min_value and not visited[i]:\n",
        "            min_value = distance[i]\n",
        "            index = i\n",
        "    return index\n",
        "\n",
        "def dijkstra(start):\n",
        "    # 시작 노드에 대해서 초기화\n",
        "    distance[start] = 0\n",
        "    visited[start] = True\n",
        "    for j in graph[start]:\n",
        "        distance[j[0]] = j[1]\n",
        "    # 시작 노드를 제외한 전체 n-1개의 노드에 대해 반복\n",
        "    for i in range(n-1):\n",
        "        # 현재 최단 거리가 가장 짧은 노드를 꺼내서 방문 처리\n",
        "        now = get_smallest_node()\n",
        "        visited[now] = True\n",
        "        # 현재 노드와 연결된 다른 노드를 확인\n",
        "        for j in graph[now]:\n",
        "            cost = distance[now] + j[1]\n",
        "            # 현재 노드를 거쳐서 다른 노드로 이동하는 거리가 더 짧은 경우\n",
        "            if cost < distance[j[0]]:\n",
        "                distance[j[0]] = cost\n",
        "\n",
        "# 다익스트라 알고리즘 수행\n",
        "dijkstra(start)\n",
        "\n",
        "# 모든 노드로 가기 위한 최단 거리를 출력\n",
        "for i in range(1, n+1):\n",
        "    # 도달할 수 없는 경우, 무한(INFINITY) 출력\n",
        "    if distance[i] == INF:\n",
        "        print('INFINITY')\n",
        "    # 도달할 수 있는 경우 거리 출력\n",
        "    else:\n",
        "        print(distance[i])\n",
        "\n",
        "''' 입력 예시\n",
        "6 11\n",
        "1\n",
        "1 2 2\n",
        "1 3 5\n",
        "1 4 1\n",
        "2 3 3\n",
        "2 4 2\n",
        "3 2 3\n",
        "3 6 5\n",
        "4 3 3\n",
        "4 5 1\n",
        "5 3 1\n",
        "5 6 2\n",
        "\n",
        "출력 예시 0 2 3 1 2 4 '''"
      ],
      "metadata": {
        "id": "8fynea6vXHTt",
        "colab": {
          "base_uri": "https://localhost:8080/"
        },
        "outputId": "0ed82c98-d43d-4da4-d1bd-41ab73662ab9"
      },
      "execution_count": null,
      "outputs": [
        {
          "output_type": "stream",
          "name": "stdout",
          "text": [
            "\n"
          ]
        }
      ]
    },
    {
      "cell_type": "markdown",
      "source": [
        "* 힙 Heap 자료구조 : 우선순위 큐 (Priority Queue)를 구현하기 위해 사용하는 자료구조 중 하나\n",
        "* 우선순위 큐는 우선순위가 가장 높은 데이터를 가장 먼저 삭제\n",
        "* 최소 힙 (Min Heap) 혹은 최대 힙 (Max Heap) 사용 : 값이 낮은 데이터 먼저 삭제 / 값이 큰 데이터 먼저 삭제\n",
        "* 기본적으로 최소 힙 구조 이용, 최대 힙 사용을 위해서는 값에 음수 부호 붙여서 넣었다가, 나중에 꺼낸 다음에 다시 원래 값으로 돌리는 방식\n",
        "* 우선순위 큐를 이용해서 시작 노드로부터 '거리'가 짧은 노드 순서대로 큐에서 나올 수 있도록 다익스트라 알고리즘 작성\n",
        "* 현재 가장 가까운 노드를 저장하기 위한 목적으로만 우선순위 큐를 추가로 이용"
      ],
      "metadata": {
        "id": "39D-Du1xHD9x"
      }
    },
    {
      "cell_type": "code",
      "source": [
        "# 개선된 다익스트라 알고리즘\n",
        "import heapq\n",
        "import sys\n",
        "# input = sys.stdin.readline\n",
        "INF = int(1e9)\n",
        "\n",
        "# 노드 & 간선 갯수 입력 받기\n",
        "n, m = map(int, input().split())\n",
        "# 시작 노드 번호 입력 받기\n",
        "start = int(input())\n",
        "# 각 노드에 연결되어 있는 노드 정보를 담는 리스트 생성\n",
        "graph = [[] for i in range(n+1)]\n",
        "# 최단 거리 테이블을 무한으로 초기화\n",
        "distance = [INF] * (n+1)\n",
        "\n",
        "# 간선 정보 입력 받기\n",
        "for _ in range(m):\n",
        "    a, b, c = map(int, input().split())\n",
        "    # a번 노드에서 b번 노드로 가는 비용이 c\n",
        "    graph[a].append((b,c))\n",
        "\n",
        "def dijkstra(start):\n",
        "    q = []\n",
        "    # 시작 노드로 가기 위한 최단 경로 = 0 설정, 큐에 삽입\n",
        "    heapq.heappush(q, (0, start))\n",
        "    distance[start] = 0\n",
        "    while q:    # 큐가 비어있지 않다면\n",
        "        # 가장 최단 거리가 짧은 노드에 대한 정보 꺼내기\n",
        "        dist, now = heapq.heappop(q)\n",
        "        # 현재 노드가 이미 처리된 적이 있는 노드라면 무시\n",
        "        if distance[now] < dist:\n",
        "            continue\n",
        "        # 현재 노드와 연결된 다른 인접 노드들 확인\n",
        "        for i in graph[now]:\n",
        "            cost = dist + i[1]\n",
        "            # 현재 노드를 거쳐서, 다른 노드로 이동하는 거리가 더 짧은 경우\n",
        "            if cost < distance[i[0]]:\n",
        "                distance[i[0]] = cost\n",
        "                heapq.heappush(q, (cost, i[0]))\n",
        "\n",
        "# 다익스트라 알고리즘 수행\n",
        "dijkstra(start)\n",
        "\n",
        "# 모든 노드로 가기 위한 최단 거리 출력\n",
        "for i in range(1, n+1):\n",
        "    # 도달할 수 없는 경우, 무한(INFINITY) 출력\n",
        "    if distance[i] == INF:\n",
        "        print('INFINITY')\n",
        "    # 도달할 수 있는 경우, 거리 출력\n",
        "    else:\n",
        "        print(distance[i])"
      ],
      "metadata": {
        "id": "vpxL5fPHKqYU",
        "colab": {
          "base_uri": "https://localhost:8080/"
        },
        "outputId": "bc36eef9-3c6d-4913-87f6-c8370c6f99a0"
      },
      "execution_count": null,
      "outputs": [
        {
          "output_type": "stream",
          "name": "stdout",
          "text": [
            "6 11\n",
            "1\n",
            "1 2 2\n",
            "1 3 5\n",
            "1 4 1\n",
            "2 3 3\n",
            "2 4 2\n",
            "3 2 3\n",
            "3 6 5\n",
            "4 3 3\n",
            "4 5 1\n",
            "5 3 1\n",
            "5 6 2\n",
            "0\n",
            "2\n",
            "3\n",
            "1\n",
            "2\n",
            "4\n"
          ]
        }
      ]
    },
    {
      "cell_type": "markdown",
      "source": [
        "### 플로이드 워셜 알고리즘\n",
        "* 다익스트라 알고리즘 : '한 지점에서 다른 특정 지점까지의 최단 경로를 구해야 하는 경우' 사용할 수 있는 최단 경로 알고리즘\n",
        "* 플로이드 워셜 알고리즘 Floyd-Warshall Algorithm : '모든 지점에서 다른 모든 지점까지의 최단 경로를 모두 구해야 하는 경우'에 사용할 수 있는 알고리즘\n",
        "* 다익스트라 : 단계마다 최단 거리를 가지는 노드를 하나씩 반복적으로 선택. 그리고 해당 노드를 거쳐 가는 경로를 확인하며, 최단 거리 테이블 갱신\n",
        "* 플로이드 워셜 : 단계마다 '거쳐 가는 노드' 기준으로 수행. 하지만 매번 방문하지 않은 노드 중에서 최단 거리를 갖는 노드를 찾을 필요는 없음\n",
        "* 2차원 리스트에 모든 노드에 대하여 다른 모든 노드로 가는 최단 거리 정보를 담음\n",
        "* 플로이드 워셜 알고리즘은 다이나믹 프로그래밍 : 노드 갯수가 N개일 때, N번 만큼의 단계를 반복하여 '점화식에 맞게' 2차원 리스트를 갱신\n",
        "* 각 단계에서는 해당 노드를 거쳐 가는 경우를 고려함\n",
        "* 예) 1번 노드에 대해 확인할 때는 1번 노드를 중간에 거쳐 가는 모든 경우를 고려 (A → 1번 노드 → B 최단 거리 갱신)\n",
        "* 따라서 알고리즘에서는 현재 확인하는 노드를 제외하고, N-1개의 노드 중에서 서로 다른 노드 (A, B)쌍을 선택. 이후 A → 1번 노드 → B 가는 비용을 확인한 뒤에 최단 거리를 갱신한다.\n",
        "* 'A에서 B로 가는 최소 비용'과 'A에서 K를 거쳐 B로 가는 비용'을 비교하여 더 작은 값으로 갱신\n"
      ],
      "metadata": {
        "id": "WNDcmGx15ssk"
      }
    },
    {
      "cell_type": "code",
      "source": [
        "# 플로이드 워셜 알고리즘\n",
        "\n",
        "INF = int(1e9) # 무한을 의미하는 값으로 10억을 설정\n",
        "\n",
        "# 노드 & 간선의 갯수 입력 받기\n",
        "n = int(input())\n",
        "m = int(input())\n",
        "\n",
        "# 2차원 리스트(그래프) 생성, 모든 값 = 무한 초기화\n",
        "graph = [[INF] * (n+1) for _ in range(n+1)]\n",
        "\n",
        "# 자기 자신에서 자기 자신으로 가는 비용 = 0 초기화\n",
        "for a in range(1, n+1):\n",
        "    for b in range(1, n+1):\n",
        "        if a == b:\n",
        "            graph[a][b] = 0\n",
        "\n",
        "# 각 간선에 대한 정보를 입력 받아, 그 값으로 초기화\n",
        "for _ in range(m):\n",
        "    # A에서 B로 가는 비용은 C라고 설정\n",
        "    a, b, c = map(int, input().split())\n",
        "    graph[a][b] = c\n",
        "\n",
        "# 점화식에 따라 플로이드 워셜 알고리즘 수행\n",
        "for k in range(1, n+1):\n",
        "    for a in range(1, n+1):\n",
        "        for b in range(1, n+1):\n",
        "            graph[a][b] = min(graph[a][b], graph[a][k] + graph[k][b])\n",
        "\n",
        "# 수행된 결과 출력\n",
        "for a in range(1, n+1):\n",
        "    for b in range(1, n+1):\n",
        "        # 도달할 수 없는 경우, 무한(INFINITY) 출력\n",
        "        if graph[a][b] == INF:\n",
        "            print('INFINITY', end=' ')\n",
        "        # 도달할 수 있는 경우, 거리 출력\n",
        "        else:\n",
        "            print(graph[a][b], end=' ')\n",
        "    print()\n",
        "\n",
        "''' 입력 예시\n",
        "4\n",
        "7\n",
        "1 2 4\n",
        "1 4 6\n",
        "2 1 3\n",
        "2 3 7\n",
        "3 1 5\n",
        "3 4 4\n",
        "4 3 2\n",
        "출력 예시\n",
        "0 4 8 6\n",
        "3 0 7 9\n",
        "5 9 0 4\n",
        "7 11 2 0 '''"
      ],
      "metadata": {
        "id": "ebe9iBJQXHRC",
        "colab": {
          "base_uri": "https://localhost:8080/"
        },
        "outputId": "caa0238f-8f35-4000-e3c7-ca7b0d7d1b16"
      },
      "execution_count": null,
      "outputs": [
        {
          "output_type": "stream",
          "name": "stdout",
          "text": [
            "4\n",
            "7\n",
            "1 2 4\n",
            "1 4 6\n",
            "2 1 3\n",
            "2 3 7\n",
            "3 1 5\n",
            "3 4 4\n",
            "4 3 2\n",
            "0 4 8 6 3 0 7 9 5 9 0 4 7 11 2 0 \n"
          ]
        }
      ]
    },
    {
      "cell_type": "markdown",
      "source": [
        "##(2) 미래 도시\n",
        "* 1~N번 회사가 있다. 특정 회사끼리는 도로로 연결되어 있다.\n",
        "* 판매원 A는 현재 1번 회사에 위치해 있으며, X번 회사에 방문하고자 한다.\n",
        "* 연결된 2개 회사는 양방향 이동 가능\n",
        "* 소개팅 상대는 K번 회사에 존재\n",
        "* X번 회사에 물건 판매하기 전 소개팅 회사 방문\n",
        "* 1번 회사 출발 → K번 회사 방문 → X번 회사 방문\n",
        "* 이동 최소 시간 계산\n",
        "* 입력 조건\n",
        " - 첫째 줄 : 전체 회사 갯수 N, 경로 갯수 M (1 <= N, M <= 100)\n",
        " - 둘째 줄~ M+1번째 줄 : 연결된 두 회사 번호\n",
        " - M+2번째 줄 : X, K\n",
        "* 출력 조건 : K 회사 거쳐 X 회사 가는 최소 이동 시간 (도달할 수 없다면 -1)"
      ],
      "metadata": {
        "id": "93iRqn4eHcT-"
      }
    },
    {
      "cell_type": "code",
      "source": [
        "''' 입력 예시 1\n",
        "5 7\n",
        "1 2\n",
        "1 3\n",
        "1 4\n",
        "2 4\n",
        "3 4\n",
        "3 5\n",
        "4 5\n",
        "4 5\n",
        "출력 예시 1 : 3\n",
        "입력 예시 2\n",
        "4 2\n",
        "1 3\n",
        "2 4\n",
        "3 4\n",
        "출력 예시 2 : -1 '''\n",
        "# 플로이드 워셜 알고리즘 문제\n",
        "# 1번 노드~K 거쳐~X로 가는 최단 거리 : 1~K 최단 거리 + K~X 최단거리\n",
        "INF = int(1e9)\n",
        "\n",
        "n, m = map(int, input().split())\n",
        "graph = [[INF] * (n+1) for _ in range(n+1)]\n",
        "\n",
        "for a in range(1, n+1):\n",
        "    for b in range(1, n+1):\n",
        "        if a == b:\n",
        "            graph[a][b] = 0\n",
        "\n",
        "# 각 간선 정보 입력 받아, 그 값으로 초기화\n",
        "for _ in range(m):\n",
        "    # A와 B가 서로에게 가는 비용 = 1\n",
        "    a, b = map(int, input().split())\n",
        "    graph[a][b] = 1\n",
        "    graph[b][a] = 1\n",
        "\n",
        "# 거쳐 갈 노드 K와 최종 목적지 노드 X 입력 받기\n",
        "x, k = map(int, input().split())\n",
        "\n",
        "# 점화식에 따라 플로이드 워셜 알고리즘 수행\n",
        "for k in range(1, n+1):\n",
        "    for a in range(1, n+1):\n",
        "        for b in range(1, n+1):\n",
        "            graph[a][b] = min(graph[a][b], graph[a][k] + graph[k][b])\n",
        "\n",
        "# 수행 결과 출력\n",
        "distance = graph[1][k] + graph[k][x]\n",
        "\n",
        "# 도달할 수 없는 경우, -1 출력\n",
        "if distance >= INF:\n",
        "    print('-1')\n",
        "else:\n",
        "    print(distance)"
      ],
      "metadata": {
        "id": "HEVZ8CKlXHOM",
        "colab": {
          "base_uri": "https://localhost:8080/"
        },
        "outputId": "56f875fc-7d29-471d-d65d-01e04c7614da"
      },
      "execution_count": null,
      "outputs": [
        {
          "output_type": "stream",
          "name": "stdout",
          "text": [
            "4 2\n",
            "1 3\n",
            "2 4\n",
            "3 4\n",
            "-1\n"
          ]
        }
      ]
    },
    {
      "cell_type": "markdown",
      "source": [
        "##(3) 전보\n",
        "* N개 도시가 있다.\n",
        "* C에서 보낸 메시지를 받는 도시의 총 갯수, 걸리는 시간 계산\n",
        "* 입력 조건\n",
        " - 첫째 줄 : 도시 갯수 N, 통로 갯수 M, 메시지 보내는 도시 C\n",
        " - 둘째 줄~ M+1번째 줄 : 통로 정보 X, Y, Z\n",
        "* 출력 조건 : 메시지 받는 도시 갯수, 총 소요 시간"
      ],
      "metadata": {
        "id": "coopxRV0LKjI"
      }
    },
    {
      "cell_type": "code",
      "source": [
        "''' 입력 예시\n",
        "3 2 1\n",
        "1 2 4\n",
        "1 3 2\n",
        "출력 예시 2 4 '''\n",
        "# 한 도시에서 다른 도시까지 최단 거리 문제 : 다익스트라 알고리즘\n",
        "import heapq\n",
        "import sys\n",
        "\n",
        "# input = sys.stdin.readline\n",
        "INF = int(1e9) # 무한을 의미하는 값으로 10억을 설정\n",
        "\n",
        "# 노드 & 간선 갯수, 시작 노드 입력 받기\n",
        "n, m, start = map(int, input().split())\n",
        "# 각 노드에 연결되어 있는 노드 정보 담는 리스트 생성\n",
        "graph = [[] for i in range(n+1)]\n",
        "# 최단 거리 테이블을 무한으로 초기화\n",
        "distance = [INF] * (n+1)\n",
        "\n",
        "# 간선 정보 입력 받기\n",
        "for _ in range(m):\n",
        "    x, y, z = map(int, input().split())\n",
        "    # x번 노드에서 y번 노드로 가는 비용이 z\n",
        "    graph[x].append((y, z))\n",
        "\n",
        "def dijkstra(start):\n",
        "    q = []\n",
        "    # 시작 노드로 가기 위한 최단 경로 = 0 설정하여, 큐에 삽입\n",
        "    heapq.heappush(q, (0, start))\n",
        "    distance[start] = 0\n",
        "    while q:    # 큐가 비어있지 않다면\n",
        "        # 가장 최단 거리가 짧은 노드에 대한 정보를 꺼내기\n",
        "        dist, now = heapq.heappop(q)\n",
        "        if distance[now] < dist:\n",
        "            continue\n",
        "        # 현재 노드와 연결된 다른 인접 노드 확인\n",
        "        for i in graph[now]:\n",
        "            cost = dist + i[1]\n",
        "            # 현재 노드를 거쳐서, 다른 노드로 이동하는 거리가 더 짧은 경우\n",
        "            if cost < distance[i[0]]:\n",
        "                distance[i[0]] = cost\n",
        "                heapq.heappush(q, (cost, i[0]))\n",
        "\n",
        "# 다익스트라 알고리즘 수행\n",
        "dijkstra(start)\n",
        "\n",
        "# 도달할 수 있는 노드 갯수\n",
        "count = 0\n",
        "# 도달할 수 있는 노드 중에서, 가장 멀리 있는 노드와의 최단 거리\n",
        "max_distance = 0\n",
        "for d in distance:\n",
        "    # 도달할 수 있는 노드 경우\n",
        "    if d != INF:\n",
        "        count += 1\n",
        "        max_distance = max(max_distance, d)\n",
        "\n",
        "# 시작 노드는 제외하므로 count-1 출력\n",
        "print(count-1, max_distance)"
      ],
      "metadata": {
        "id": "x214ic27LJ1a",
        "colab": {
          "base_uri": "https://localhost:8080/"
        },
        "outputId": "dc269666-6f65-486b-bfb0-42febc654fa8"
      },
      "execution_count": null,
      "outputs": [
        {
          "output_type": "stream",
          "name": "stdout",
          "text": [
            "3 2 1\n",
            "1 2 4\n",
            "1 3 2\n",
            "2 4\n"
          ]
        }
      ]
    },
    {
      "cell_type": "markdown",
      "source": [
        "#[08] 그래프 이론"
      ],
      "metadata": {
        "id": "fFZC4F8RMI1v"
      }
    },
    {
      "cell_type": "markdown",
      "source": [
        "##(1) 다양한 그래프 알고리즘"
      ],
      "metadata": {
        "id": "djT0muDqMLYh"
      }
    },
    {
      "cell_type": "markdown",
      "source": [
        "### 서로소 집합 Disjoint Sets\n",
        "* 공통 원소가 없는 두 집합\n",
        "* 서로소 집합 자료구조 : 서로소 부분 집합들로 나누어진 원소들의 데이터를 처리하기 위한 자료구조\n",
        "* 서로소 집합 자료구조는 union과 find 2개 연산으로 조작 가능\n",
        "* union : 2개의 원소가 포함된 집합을 하나의 집합으로 합치는 연산\n",
        "* find : 특정 원소가 속한 집합이 어떤 집합인지 알려주는 연산\n",
        "* 서로소 집합 자료구조를 구현할 때는 트리 자료구조를 이용하여 집합을 표현\n",
        "* 서로소 집합 계산 알고리즘\n",
        " - 1. union(합집합) 연산을 확인하여, 서로 연결된 두 노드 A, B 확인 (A와 B의 루트노드 A', B' 를 찾아서 A'를 B'의 부모 노드로 설정 (B'가 A'를 가리키도록 함)\n",
        " - 2. 모든 union(합집합) 연산을 처리할 때까지 1번 과정 반복\n"
      ],
      "metadata": {
        "id": "oJtsiEiSNKji"
      }
    },
    {
      "cell_type": "code",
      "source": [
        "''' 입력 예시\n",
        "6 4\n",
        "1 4\n",
        "2 3\n",
        "2 4\n",
        "5 6\n",
        "출력 예시\n",
        "각 원소가 속한 집합 : 1 1 1 1 5 5\n",
        "부모 테이블 1 1 2 1 5 5 '''\n",
        "\n",
        "# 기본적인 서로소 집합 알고리즘\n",
        "\n",
        "# 특정 원소가 속한 집합을 찾기\n",
        "def find_parent(parent, x):\n",
        "    # 루트 노드가 아니라면, 루트 노드를 찾을 때까지 재귀적 호출\n",
        "    if parent[x] != x:\n",
        "        return find_parent(parent, parent[x])\n",
        "    return x\n",
        "\n",
        "# 두 원소가 속한 집합을 합치기\n",
        "def union_parent(parent, a, b):\n",
        "    a = find_parent(parent, a)\n",
        "    b = find_parent(parent, b)\n",
        "    if a < b:\n",
        "        parent[b] = a\n",
        "    else:\n",
        "        parent[a] = b\n",
        "\n",
        "# 노드 갯수와 간선(union 연산) 갯수 입력 받기\n",
        "v, e = map(int, input().split())\n",
        "parent = [0] * (v + 1) # 부모 테이블 초기화\n",
        "\n",
        "# 부모 테이블에서, 부모를 자기 자신으로 초기화\n",
        "for i in range(1, v+1):\n",
        "    parent[i] = i\n",
        "\n",
        "# union 연산 수행\n",
        "for i in range(e):\n",
        "    a, b = map(int, input().split())\n",
        "    union_parent(parent, a, b)\n",
        "\n",
        "# 각 원소가 속한 집합 출력\n",
        "print('각 원소가 속한 집합 : ', end='')\n",
        "for i in range(1, v+1):\n",
        "    print(find_parent(parent, i), end=' ')\n",
        "\n",
        "print()\n",
        "\n",
        "# 부모 테이블 내용 출력\n",
        "print('부모 테이블 : ', end='')\n",
        "for i in range(i, v+1):\n",
        "    print(parent[i], end=' ')"
      ],
      "metadata": {
        "colab": {
          "base_uri": "https://localhost:8080/"
        },
        "id": "LnwhfvdiML1L",
        "outputId": "e049663e-e337-483b-9179-845bb03d2e24"
      },
      "execution_count": null,
      "outputs": [
        {
          "output_type": "stream",
          "name": "stdout",
          "text": [
            "6 4\n",
            "1 4\n",
            "2 3\n",
            "2 4\n",
            "5 6\n",
            "각 원소가 속한 집합 : 1 1 1 1 5 5 \n",
            "부모 테이블 : 5 "
          ]
        }
      ]
    },
    {
      "cell_type": "code",
      "source": [
        "# 경로 압축 기법\n",
        "def find_parent(parent, x):\n",
        "    if parent[x] != x:\n",
        "        parent[x] = find_parent(parent, parent[x])\n",
        "    return parent[x]"
      ],
      "metadata": {
        "id": "8MmsPbJ3TVOu"
      },
      "execution_count": null,
      "outputs": []
    },
    {
      "cell_type": "code",
      "source": [
        "# 개선된 서로소 집합 알고리즘\n",
        "def find_parent(parent, x):\n",
        "    # 루트 노드가 아니라면, 루트 노드를 찾을 때까지 재귀적 호출\n",
        "    if parent[x] != x:\n",
        "        parent[x] = find_parent(parent, parent[x])\n",
        "    return parent[x]\n",
        "\n",
        "# 두 원소가 속한 집합 합치기\n",
        "def union_parent(parent, a, b):\n",
        "    a = find_parent(parent, a)\n",
        "    b = find_parent(parent, b)\n",
        "    if a < b:\n",
        "        parent[b] = a\n",
        "    else:\n",
        "        parent[a] = b\n",
        "\n",
        "# 노드 갯수 & 간선(union 연산) 갯수 입력 받기\n",
        "v, e = map(int, input().split())\n",
        "parent = [0] * (v + 1) # 부모 테이블 초기화\n",
        "\n",
        "# 부모 테이블에서, 부모를 자기 자신으로 초기화\n",
        "for i in range(1, v+1):\n",
        "    parent[i] = i\n",
        "\n",
        "# union 연산 수행\n",
        "for i in range(e):\n",
        "    a, b = map(int, input().split())\n",
        "    union_parent(parent, a, b)\n",
        "\n",
        "# 각 원소 속한 집합 출력\n",
        "print('각 원소가 속한 집합 : ', end='')\n",
        "for i in range(1, v+1):\n",
        "    print(find_parent(parent, i), end=' ')1\n",
        "\n",
        "print()\n",
        "\n",
        "# 부모 테이블 내용 출력\n",
        "print('부모 테이블 : ', end='')\n",
        "for i in range(1, v+1):\n",
        "    print(parent[i], end=' ')"
      ],
      "metadata": {
        "colab": {
          "base_uri": "https://localhost:8080/"
        },
        "id": "gP__ZvA5UpYt",
        "outputId": "f4f0c229-f1ee-4c05-fa9e-414f987b81b0"
      },
      "execution_count": null,
      "outputs": [
        {
          "output_type": "stream",
          "name": "stdout",
          "text": [
            "6 4\n",
            "1 4\n",
            "2 3\n",
            "2 4\n",
            "5 6\n",
            "각 원소가 속한 집합 : 1 1 1 1 5 5 \n",
            "부모 테이블 : 1 1 1 1 5 5 "
          ]
        }
      ]
    },
    {
      "cell_type": "markdown",
      "source": [
        "* 서로소 집합을 활용한 사이클 판별\n",
        " - 간선을 하나씩 확인하면서 두 노드가 포함되어 있는 집합을 합치는 과정을 반복하는 것으로 사이클 판별\n",
        " - 1. 각 간선을 확인하며 두 노드의 루트 노드 확인 (루트 노드 다르면 두 노드 union / 같다면 사이클 발생)\n",
        " - 2. 모든 간선에 대하여 1과정 반복"
      ],
      "metadata": {
        "id": "suSVoymWr_1y"
      }
    },
    {
      "cell_type": "code",
      "source": [
        "'''입력 예시\n",
        "3 3\n",
        "1 2\n",
        "1 3\n",
        "2 3\n",
        "출력 예시 : 사이클이 발생했습니다. '''\n",
        "\n",
        "# 서로소 집합을 활용한 사이클 판별\n",
        "\n",
        "# 특정 원소가 속한 집합을 찾기\n",
        "def find_parent(parent, x):\n",
        "    # 루트 노드가 아니라면, 루트 노드를 찾을 때까지 재귀적 호출\n",
        "    if parent[x] != x:\n",
        "        parent[x] = find_parent(parent, parent[x])\n",
        "    return parent[x]\n",
        "\n",
        "# 두 원소가 속한 집합 합치기\n",
        "def union_parent(parent, a, b):\n",
        "    a = find_parent(parent, a)\n",
        "    b = find_parent(parent, b)\n",
        "    if  a < b:\n",
        "        parent[b] = a\n",
        "    else:\n",
        "        parent[a] = b\n",
        "\n",
        "# 노드 개수 & 간선(union 연산) 개수 입력 받기\n",
        "v, e = map(int, input().split())\n",
        "parent = [0] * (v+1) # 부모 테이블 초기화\n",
        "\n",
        "# 부모 테이블에서, 부모를 자기 자신으로 초기화\n",
        "for i in range(1, v+1):\n",
        "    parent[i] = i\n",
        "\n",
        "cycle = False # 사이클 발생 여부\n",
        "\n",
        "for i in range(e):\n",
        "    a, b = map(int, input().split())\n",
        "    # 사이클 발생한 경우 종료\n",
        "    if find_parent(parent, a) == find_parent(parent, b):\n",
        "        cycle = True\n",
        "        break\n",
        "    # 사이클 발생하지 않았다면 합집합(union) 수행\n",
        "    else:\n",
        "        union_parent(parent, a, b)\n",
        "if cycle:\n",
        "    print('사이클이 발생했습니다.')\n",
        "else:\n",
        "    print('사이클이 발생하지 않았습니다.')"
      ],
      "metadata": {
        "colab": {
          "base_uri": "https://localhost:8080/"
        },
        "id": "RSkuw21FV-dv",
        "outputId": "2b44c026-2cf4-4392-b696-0072974ea9d3"
      },
      "execution_count": null,
      "outputs": [
        {
          "output_type": "stream",
          "name": "stdout",
          "text": [
            "3 3\n",
            "1 2\n",
            "1 3\n",
            "2 3\n",
            "사이클이 발생했습니다.\n"
          ]
        }
      ]
    },
    {
      "cell_type": "markdown",
      "source": [
        "### 신장 트리\n",
        "* 신장 트리 Spanning Tree : 하나의 그래프가 있을 때 모든 노드를 포함하면서 사이클이 존재하지 않는 부분 그래프\n",
        "* 최소 신장 트리 알고리즘 : 신장 트리 중 최소 비용으로 만들 수 있는 신장 트리를 찾는 알고리즘\n",
        "* 크루스칼 알고리즘 : Kruskal Algorithm 가장 적은 비용으로 모든 노드 연결. 그리디 알고리즘. 모든 간선에 대하여 정렬 수행 후, 가장 거리 짧은 간선부터 집합에 포함 시킴. 사이클 발생시키는 간선은 제외.\n",
        " - 1. 간선 데이터를 비용에 따라 오름차순 정렬\n",
        " - 2. 간선을 하나씩 확인하며 사이클 발생시키는지 확인 (발생 X 경우 최소 신장 트리에 포함, 발생 O 경우 제외)\n",
        " - 3. 모든 간선에 대해 2번 과정 반복"
      ],
      "metadata": {
        "id": "2gu9soK5bcT2"
      }
    },
    {
      "cell_type": "markdown",
      "source": [
        "![캡처.PNG](data:image/png;base64,iVBORw0KGgoAAAANSUhEUgAAAeoAAACpCAYAAADk1n5MAAAAAXNSR0IArs4c6QAAAARnQU1BAACxjwv8YQUAAAAJcEhZcwAADsMAAA7DAcdvqGQAACufSURBVHhe7Z170FZV2f/9r/5q5v0naKb647Vpmnqxd5zMJs9ANlavhnKQDDAPqCEnFTIVRUVEK/0JaoVpBJiHzDPkoQALAbVBIpUKUwQUlYMKcVCQ9fOz2Av3c3s/97P3Wnuvtfde12dmz3Ofnvu+19rXtb7Xda21132AEgRBEAShsohQC4IgCEKFEaEWBEEQhAojQi0IgiAIFUaEWhAEQRAqjAi1IAiCIFQYEWpBEARBqDAi1IIgCIJQYUSoO/Dmm2+q22+/ve3Bc0I5/Oc//1Hz5s1r2+8vv/xy8ipBcEPsLAy7d+9WixcvbtvvK1eu1M8LXRGhbgEBnjFjhjrooINUv3799G2MB8c1B849ffp0/ZoxY8ZooxPjcsMMmv3791d9+vRRl19+ue7XdL8b56bfhw4dql/P/wlCVtJ2hh11Z2f4Pa/Bv3m9+LcbRpzpz969e+/v13S/M87i34y7+De3xb/3IUKdgKEYx8Sgsjomr+X/evXqpQ1LyAeOSJ/jnHmEl/PF/x1wwAF6sJWBVOgE9sLgf/LJJ+eyM8SD/8POEG8hH/Qz/mmSnqyVSF7H/9HvnLPY/Tt6ocYAjFC4lLONcCDaEgVmg8CGAIfB0Bb6mgGA9+EcCEIa/Bv7IHt28W8jHK7vExMERPQXyYwt+Leporm8T92JWqhxOIS1yEgZ0RFn7owJjoqMlOlvgq2YnVnoCraFfxdZcSEYFDvrGfq8yKSF92G8iLWqEa1QM7AjqGVkYcaoxJk/CgOmKXMXDe89efLkaJ1Z+BB8EKEowwexM/Hv7mGqAKEuA9YGlfXeVSZKocbRys56jSBJZt0VnLjsAQ6xLiMQEOoBvleWSBuMf7tM2zQRRLRsIeX9YwvGoxTqsjK6VkxUj1MLSjuXr2hYgqR4YVrFx8JOCca7wphKpcEHnOOYKhrRCTUOjHj6wqwajR2mGLgso6g5q57gc6iaSJAUFwzePoNjRNrneFJV8DcWdPoKWkyQ5Gs8CU1UQh1q8CbKjH1FcogFdgRlPjIroRrg1yH8W6Za9k1p+R7jCMpima+OSqgpvYYol5gAIVaoKjCYhYB+jyXqjh3EMkRgFipAqAoE4L5K3q3EkgRFJdQhxXL06NHRzmUh0qHazuAde7YTC5SgQwVlZHYxzZmmCZUAQSxZdTRCjVCwACEUGFSslw2FDJAYuJnLEpoN2WzI8xx6fAlJ6AWzMawRiEaoKYnZRH3vvvuu+ulPf6pGjhypr+F77733kmfyYcpjsUFZyibi3bt3r/rtb3+rzjnnHDVp0iS1cePG5Jn8MIDHWpaMBZdA+O6779Z2dvHFFztVfmJcVEYgbFv2Xrp0qQ5uqDY+99xzyaP5YXxperUyGqG2jfrGjh2rFi1apAX61ltvVVdeeWXyTH5izOwYPG2uNZ09e7a68cYbtWAvX77caQ6M7xD7Yr6mw4Bvc47vueceNWXKFPX++++rZcuWqYEDBybP5Mf2O9QZ23UBq1evVqeeeqpOhF577TV13HHHqR07diTP5iPU2gSfRCPUbO5uQ9pxEY0TTzwxuZcfIr/YHNl2NeiECRP04Gn43ve+l9zKD9mWzFM3G9vFXMOHD+8yr+3i34hFbP7NmGYTiFMte+aZZ5J7Sp1//vlasG2gz0WoGwAOzDV+NhDxGR555BF11VVXJffyE6Mjuy7w+fOf/6wXo915553JI/mJwZFjxzYQT/s3QjFkyJDkXn5iXLjoelnWCy+8oK6//npd1bAlhvUBUQg1hmTryEAmTdn7zDPPVLt27UoezU+MQk2/u7R5wYIF6qKLLnJa2SlC3Xxc/BuYL/3ud7+r1q9fnzySHzLL2OzMVaiZm7722mv1GoGtW7cmj+aDRKzpm0qJUPcAc9MY0Q033KAF2wWcmPeh7BPLYSvU8+fPT27tY9y4cWrDhg3JvXyIUDcfF6G++eab1ahRo9S2bduSR+zAxg6bdJ0auujFaI7/Pe67Vv792GOPdVmYe++996q77roruZcPPl+EugEQcdk6MnMn6bkUFxDpFStWqC1btkRzHH300VaOfMIJJ3QpmQ8bNkxt3rw5uZePGDOd2LANCJlSuemmm5J7bmBjjyz7q3p5265ojhMGDbbyrUsuuUQv3jPMnDlT3X///cm9fMQQiEch1IAj550rpcz9uc99To0YMWL/ccUVVyTP5se1TFRHWK1tc1ncU089pQYNGqSmTZumBg8erFeA24ITi1A3G9ZC2PjWscceq4PAtI/bXoLJ5Zs2tl5nuKLCxrc2bdqk/ZuraM444wz1wx/+UO3Zsyd5Nh8E4k3foyIaoWawDy2SLGizWZlaZ1xEEsd95ZVX1Pbt25NH7Ihlm8GY4Vrc0OeYledNv563FZdLo5hKZDqLypsLMey1HoVQ48BEbyFPJlFfjBsi0G6XhWCumGmP2AKkmKAE+18TZ6jrb7ghecQ/CHSfPn2Se/FAu0OPayRALleW1IHGC/WTTz6pl/+vWbPGadMMV7h8ILZLNwCBtN1spgjoc7ItoZnMW/e26n3Hs+rFt8L+8A2l16aXX7vD9RJMF2JJgBor1GyWwarjBx54YP/GGUS8IcpjGHHMWR0Zdag5YgZvnFloFrvf36suf/ZV1f+Rf6j/7N7n3wTDIeaI8Wufv8VcNQiGQ/06HslXDAlQI4UaYWSRwrPPPps8sg8G7BBZNUIVsvwbGs6H7c5RLuDAMZYjm86bO3drgUao0yCUIbJqgtCQ1brQmEDFd1ZN0hXLup/GCTUnD5Hu7ppb3yuvCQ5sVpw3DZdFZTbQ3zhxbKtwm87KLTt0qXvxG+2veSYg9plhERzYXhrWJPAzn7uDIc4EZaEqdb5plFA//vjj6pZbbumyLWArOJavKAyx6N27dzTG1An62+fUQ9++ffU13LEHSE3i9n9vUgfd95zOqLuD880A7qMMbWw61rnpVpgr9hUYExTEMDdtaIRQI8wINEKd/iGH7kA4ffz0IYbU9B1z8mBKVWUPogycBEgvvviirq64Xv4hhIX5aLMTFrd7ArHw4d+IBULtI+ivA2bqoWz/pmJCFcNHMFYVai/UDMIMxqtWrUoeyQYnGyEtw8l4T0pwOLI4cVeYCmBwK8vJOK8M0ub9ybCwj9hLk3WF7JksesYLbySPZMOIdVl2hn8zfsQkFlmgPxDrshZwcl4J9mNbIFproUacGYRty5ucdDKvIk86wnzMMceoiRMnJo8IreDMOFvRUwJm8GwNjrAPKi5cqifUB+ahEWnmpW0wg3qRc9bY1tnnnqv+9/CjJAjvBuPfVLaK7CPGCx8VuSpSS6GmvM1lVwy+WUrdnTBlFLJf1/lM3otoks3luXZb6B6CI4IkhNU12+W96PdOAwN2kmd6RAiLufSq03x0FhBr/LuIRaS8F3Z22+y5ekFbljJ8rCCm+DfVM/rNBc4bq+pjrlDWTqjLyI4wKspkRrDzOrRx4LTYcw23lFs7g9PRZ/Q7gp3XoY0D5xF7s+BQxLqaIH4I9JhlrxQmhPgkQm0r2LweG+N/jX8TSLC4Tege/JvgmX5nfMzr3+a88b+xj6W1EmouuSJTLeukIdiUTzEsokFuY1x8XutBGWbu3LnaiNo5P3PnklVnA4c0ZS0TLFGdaO1zDh7ntfS5bbTO9fWcGzPoCtWArUDJVNltrAzwb4QDO8O/s9gZAo2dtU6PscmKZNXZMP7NWGmCJe6363f8mec4N5wjbgs1EmqzFaiPwZXPwFERaoyKAwPjMJE1Do9Rdfo+klXngwicPqVvyZTpZyPeJiDinHBuXOepOC+yIrw6mK1AEeuyMXbWzr+NnWGD2Fkn/2aBm2TV+SDgaeff/DX+jTi7+nfTqLxQU6Js3Qq0LnDZGMGFlFmrCYOwrAgPCxlp61agdYHvzmI3yaqFsqm0UDOQInStW4HWCeZE6/z9mw42JivCw9DdVqB1goy6zt9fqAeVFWpTmuxuK9C6QFZNOySrri6cG1kR7peetgKtC2TTtKNu1QChXlRSqM3K3E5bgdYJyarrgawI90OWrUDrhGTVQtlUSqjzbgVaFySrrg+yIrw8yD657CrrVqB1QbJqoWwqI9S2W4HWBQRAsup6ICvCi8d2K9C6QAlfsmqhLEoVapbis9yepffmsgcOlubzmLmOkYU8TR8YyaZpY1PK+U3HZkV4T/bO7SIuLasK6faa9pn2mvZzqc3Dz7/stBVoXaCNPi4vE8JgrsPHttP2zpG29zL8u3ChZmDDefni/O10rbG5nvGLX/yifj2d0OSSIxk1ZX2hHmRZEW5j7+yCh6PX0d4ZhPK29/8GDlaf/KC9vL7J/k1WTVlfaA7YK37K/hkmsexkw9i7CcyLtPfChJovREQxevToXFmIgf+hI2hg6y5ATUGy6vrBOWu3bgJ7x15xSht7Tds7zl91EF0GHoIM2/by/3Vpry2SVTcDV3s3AS2buRSxu1ohQk0UQYRdhAMyADL40cgmIll1PUmvCMdxEZwiHDBt7wwOVYRBp8j2EqAQ1Fe1vS5IVl1/sHdT4XUFG8feychd7N1ZqBHnMn73lUGhic7MQM+qYsmq6wdB1vjx41Xfvn0Lt3fjR1Wzd4LwMn4/nPdtqliziYtk1fWEIBx7t6kKd8LYu60fOQk1YuoaKXSCxpX5/qHACNgSVagX2GOZYooTV8ney/Y/2kvm0jj//kCkEWuhXiDSZfs39k5VKS/WQl32oGXgc5pYBierlst/6gPBFZG2D3unVBYaBhUf7eVzGEeaBuXvuu+6FhMuIpoHPsemkmQl1DSGOauiywPdMXny5MYtQKHv+LERofrgVD7tnbmxIuaDbTHtJWjwAW0tYj6wSpBVs7BMqD7Ye1FrrLLA5+RNPq2EmojAlxOD6ciyox3fSFZdD8hwfQsJ9k70HQLa6ruKxYI6X4GQLySrrgcEilW399xCzZvzIb5pYglcsurqE8re+VwCYt8QDBMk+CZUe8tEsurqE8re835ubqFGLHGqEDQxq0aoJauuLmSXNtdRFgEBgu+smvb6rJalaWJWzbai89a9ndwTqgZl6FD2zpRu1s/OLdQhog8Dndq0uWpEmhK4UE1C2jtO7LvkHnLVOQFR06pm/FAHP9jRpB8haRJUcUIlfwSlWReO5hJq3tjWkV566SW1YMGC5J4ddGgTV4iSVTctk2gCZLMuK7ARvKuvvjq5lx+zNsMX+BdCbUMR/g22n19lyKr5KUyhWuBfrnpy8803q02b7M9tVnvPJdQ2ZcAdO3aohQsXqgEDBhSSHYSM+MtCsupqwiITl7LYNddcow477LDknh0+I36bilXR/s0WxKEW0ZWFZNXVBN92ubpi0aJF6sADD3RKsih/Z/n/XEJtM2jgdHPmzFEXXXRRIY4cco68TCSrrh7Yu+05Wb58uRbqESNGJI/Ygc/4sguqB3k/q2j/ZuAMtSagTCSrrh4uWrJ161Y1cuRIdemllzr5J4FxlmAhl1CzwbgtRN1FObKvgcsnBECSVVcLriW2YefOneq0007TlR9XocaRfS12ITCxzWaL8m982yXLqSpk06wAl6y6OrgE4hdccIFau3atuuyyy5z0KKu9106obcpzdYEffmA/aaEa2No7UfYLL7ygb7sKtU/hqoJ/N1WogYx6xgtvJPeE0Hzhf+z29EZ/Zs2apW+LUHdD1lJBHeGHOvgZzPTPKQr+of+ZirCxdxZVHXrooXoRGcfBBx+spk2bljybH99CLRl1eZBNM1fNnLUQDs7DmGWvaHu3EdlDDjlETZ06Vfs3i9EmTpyos2sbShNq24VcRTkyjbLp3LogWXVYNmzYoIMlzoGNIxNsrVu3bv8xcOBA/dcW7N2nUNv6lgh1Nsiqma8WwmA2oaGywRUVNva+fv36/f7Nr+ktWbJE7dpl92tpWe09t1CHduS5c+daf4c6IFl1GOhvftGM35w2CyZtHTmNa+kbJ/Y5Rx3av30GJiGQrDoM9LsW5w9E2vwEKfbu6luupe+sK89zCbWLIxdFFb5D2Tz55JOSVXvEXB5Hv6epgq1xuZKvVdCs+vYVFHRHnt2a6go7lUlW7Y83d+7WPztKuTu9mI9V36GDQoLbLGuucgk1bxrSiSi7k9U3HbI7hIPsWigP+hlxpq/bbeOKE4deuMjKc5/XUYceuGhv066jbgeZHQIilAtTDVQwVm7ZkTzyIWjZ9OnTk3thoGqXxd5zqR4NC7nFH59PhhEDZNTMVwvlgPhR5qaPu5tmIJt22ZnMFezd505dDBghdwajv/kN7BjgV7X4dS2hHJhaIIumj9NZdBrsPeQWwXx+VnvPnZ4S8YbaGYxBJGRG7xPEg7lqyaqLhyCIvmXhWE/gSL4y2lZClKLxsVDtJQkIXcHwSXq+VCgOphbo2yw/hhJyegt7z7quI7dQUxpjQZdv6EzbDSjqimTVxULQQxbNorHusuhWsHfmTX2DWIYIihHKUO11uaqkjkhWXSzmsisy6ayL9Vj/EeJnbLHzPNNauYWaD6Bc4DPq5jO5Xi30/JlvJKsujlWrVum5aP7mxbe9A5ltEauobeCzfc8TM1iGnFYLhWTVxcAcNHPRNtu0hsiqqZblsXerlVmU43zO3dEgBsuYom0DBiRZtT0EO2xeQiZtG/D4jroR6N69ewezd2zO56/UEYDnyS6aBCItWbU9ZNGsoCeLtl2cR1CKvfvyN6pW2HueYNhKqIGG+ZhPYpCkJOY7wq8S3a1KFjqT3rzEFaJuH1M+xt5DzZsZWLTpowROO2mvr0vQqghCTRlcyEd685LuFoxlheDYh72jY9h73rUn1kJN9FH24i4aRWYRW8m7FQYzskIhG2TRrZuXuGLsvczglO+KvYcqeaehvQTjZZaj+QwW68VY8k5jBEfITuvmJa5gi9hh2fZu61PWQg3pD+Z2kSBODFqxrPLuCcmqs5HevCTrgrGsYOOIdRn2boLSKq16Nu1lmiuG9oZEsupsdLd5SVHg20xzlWHvLoGvk1CDcWYi46LKdaaGH3M5rBXJqjuDKHfavKQosHccDnsvyj6xd9ZgVDEoNe1FVItqL+2santDIVl1z3TavKRIENMig0j8Bj1zqQw7CzXgzETd1N75ayvYxoHLyFiaAKVcyao/CiXjvJdduYBtYqPYu8uKUf4Pe8dnqryQivZSji+ivQT1vEeMC8d6gixRsuqPwqVWVBw4ysii24GoGnu3DVCxd7Jz3oOM2oVChNpAg4xg8+WISLJ8Qf6PBuHEtoNADCDSCJLwIXk2LykabNXF3hHpOtk735UAhewAX83aXjNg1a29vkGQyBh9iVEdyLN5SdFg28besV3EO4u98xrGBf7HVuRbKVSoDUTL5hITBjHKhAxk6QPHpQM46Awpg2WD8rcMdvs2L6EvOHxk0Z0g48SJsXPsHbvvZO+sqK6zvWdtLwMV7WXQEv/OBpca2VwL3DQIVszmJaH3RM9i7xzYO88be+f/iqIUoU6DaCMsRBY0dtSoUboRPCblr/yYxVIx47J5Sdmk7X3mzJn6B+abbO+mvRz4NweZtvi3HZJVK6fNS8oG8TX2/v9u/Y36+iXXebH30oW6FVkQ5U6sWXX6sqs67NZGUFXENdxCXMSaVROc0HZK3XX4ZTGfm9WIUNeQGLPqIjcv8YUItWADWTViFVNWXeTmJb4QoRZ6hG1Fq1j6LRqyaNpa5OYlvhChFmwho44lq0acKXUXtXmJL0SohR6h9EuGGXohVZmYykEZm5f4QIRasIWsEvHK+itQdaTszUvKRoRayASZZlOFwMfmJWUjQi24QEbNnG0T4XIrApGyNy8pExFqIRNNzKopb/vcvKRMRKgFF5qYVdMWxI2j7u0SoRYy06SsmnaE2rykDESoBVealFWz61qozUvKQIRayAxZJyXiOmef6c1L6nDZVVZEqIUiQNzqnH1SGajK5iVFIkIt5AIxILOuI1XevMQVEWqhCMhEfQlC0VR58xJXRKiFXJBNUzKuUzbKdy76N6Orhgi1UBRk1QhDXSCLNr8Z3aQsOo0ItZCbOmXVddy8xAYRaqEo6pRVI2B127zEBhFqITd1yKr5jgQTlLpj2AdahFookjpk1ZS467h5iQ0i1IIVzPNWNatGtOq8eYkNItRCkTDfW9Wsuu6bl9ggQi1YU8VsFbEi20e4YkKEWigahKFqm4SYzUsoz8eECLVgDb+qVZU+btLmJTaIUAtFgzhQAq8CTdq8xAYRasEJsurQ2Stl+CZtXmKDCLVQBohD6OyVzyeLbsrmJTaIUAtOhMyqm7p5iQ0i1EIZhMyqm7p5iQ0i1IIzIbJqAgQ+N4af38yCCLVQFiGy6iZvXmKDCLXgDCLhq69j2LzEBhFqoSyYEyar9rHCOr15CeIk7EOEWigE+post0xi2bzEBhFqoUz4sY6ys1vK2wh00zcvsaFRQv3mm2+q22+/ff9x3nnn7b+9cuXK5FVC0dC3M2fOVGeeeWaX/ucoQrzJos1vRksW3RX6gz5esWKFevjhh/XtpvYR7Zo3b95HbIwDG9y9O+55zLJgXL1t9hz13+dfo+bMndul34sKzs3mJXX+zegywKbp47889091/J1P6NucjzIpRaj50jNmzFAHHXSQ6t+/v76N09Igc3Afo+I1Q4cO1c4uA74b9Onll1+uevXqpU4++eT9Tps+Fi9erM8H52XMmDH6ft7BlEwRgY5p85KeMILVr18/dcABB2ibvvTSS9Xs2bPV6NGj9X36nPNTdwEzbaU9tLeTf/M8bee2+LcbreNqO/9Oj6v4N+cpr63FuHlJT9CHjJX0qfHviy+9TM2cNVv7NPc5uG0zpvZEoUKNodgIAP9nOgBDrPMgFgL6Oi0CWTH/R7/j3FmglBv7ZVdpTB8iSGbg7ATPc57oc2y+p9dXCb4rgxGBB+3OKrzpNvO/4t/5oP+M8OYZVxkLOF9mXM0Cl1tR6o5t85LuoO/p9z59+ug+7MlfCaaMrdP3ecbjThQi1BgOjWGwcikB4Pg0EqMsu5TQBOgvjIHs2WXwM8aI4HQ3+PJ4zJuXtIJ90veTJ0/OLFhp+B8cn+pH1iApJCaT62mg6gRtNtleUQNYk0mPqzY2ZuB/GVfx7+7G1dg3L2mFPjNBqY0Wce6MrReRfDoLNQ3CALJGbFlgMMA4iR6F9mA8GAGlraJg8GwXJJnNS1wG6SaBXfbu3bsQscGB8R3s3dWZy4DvhH8z0Bf1/bAv8e/O0Ef0e5FBHP7bLkgyl13FvHlJGjMOFjW2cg47BUlZcBJqIxZlRMcMCqbUI3SF/natXnQHgRcZOp8hm5d8FETVtYLRDvqbCL6Mc2qLEemyfJBqBAGA0BUzrpYRGHNOTZAkm5d8FPqF/nGpYLSDc+ki1tZCzQlvl30VDZ1WRiBQV4wTl9nvnNtBgwapCy+8UDYvSYFIIy5lYc5t0YOEDekBvUzozyKrQnXHx7jKZxzzwbntPWOebF6SAltHTOmfMuB9CfJtzq21UBddlukOM2CUabh1wTixjxI0/T148ODSjLZuGCcuG/rdx+f0BJmur2xX/PtDfARHgF9/6X/6VCIorAKMqSwYK3u8M/6d93OshNpcmuFrEK/K4BUan4MnMGAw/RA7DGbMSfsIkAD/KnLNR16oYNFeX/5N/xKA+vq8qmLmMn2BPTPdEjvYHYs6fVVuzTRXHnILNU7lU6QNlMh8RJpVBaeibOIbPtOXQFUVnMq37YXqd/wa//ad4SJSPip0VSVUsBL7uAokP75tL2+/5xZqGhTixGLAMUfdZLYhBu7Yo+5QAVKofse3586dm9zzC/4daymWCkqIcdUECLFCQBqi/Xn7PbdQh8imDTFHf8yfhIJ5s1gHUKLtEAEShMiqCQhDzRdT8o91YVlIsWRcjXXBbqjEE6ZPn575s3MJNYM1g3YoGLR8ztFWBZwoZLtlAA0DTux7rjpkQBh6fAkFgVHItSChx5eQhEw885z3XELtMmDPmTNHXXbZZfsP2+tyYyzT4ES2ES+D3xVXXKHOOOMMddttt6m9e/Pv3YshxzqA5h3AXn311S52zuES5PhcXISN2QYGf/nLX7q0+Z///GfyTD5CDpyhwD5sszr8Gb8+/fTT9aZE27bZbf0Z47hqGxheddVVXWz9pptuSp7JT9Z+zyXULvOkCAX/aw7bbSiZt7P9DnXFxYnOOuss9cc//lHt2rVL/fjHP1Z33HFH8kw+YnRkRCtvgEQ/p+2cIOnRRx9Nns0P5W9fpWiXgJCtFv/973/vb/f27duTZ/JBn/P/McGYZhuczJo1S11zzTU68XnooYe0v9vAdwg15REKgiObIHrNmjX77fzBBx90qkZknXbIJdQsYbeBKA+RQJxtMro0zCnE5Mg4sK1IvvHGGzpAMhBBLl++PLmXD5fBpK64BoX8zCWDqAs+7d2lvQg1uO4Dbzt41hl+wMGW448/vsuYSmXDhhgDJNcFulu3blVnn322k81j61lWnOeyEFuDWrJkiRowYIAaO3asOvXUU9UNN9yQPJMfGmUb9dcRDIkB1Ib58+erqVOnqgkTJqhRo0apc845R739tt1+vjE6sm1gCgyeI0aM0Bm2CziyL+GyDQj37NmjDj/8cDV+/Pj9dmY7tYWNZRm4moTtuLpjxw41ZMgQ7eOMrcOHD1fPP/988mw+YkuAwDUQnzRpklq9enVyz46s9u5FqNmG8m9/+1tyT6lx48Z1uZ8HIu5zzz1X7z/NrzlNnDix8ofZL9vmIKixFWrKMkccccR+sXj66afVeeedp2/nBWPiu7T7jkUc/CoXP6FZpcMl06E9N954Y3LPHp/CRXupuuSFilk6mLjvvvv0ilYbaO+xl39g88kvOTX9OP7OJ6ztjIzuk5/8pC7FwjvvvKO+853v6Nt5iVGoCcRty/2vv/66GjZsWHLPnkoJ9fr163XUbWAuhQUQNtAo24UXdYQTabsSl0oG+3WnOemkk5Jb+UCkKeVu2bKlsUeRQn3KKafogdMV30JtM1i/9dZbXdqKcJPd2eCzvVWA9traGVWbo446Krm3D4J6m2pGjEJta+/AArI//OEPyT17stp7bqG2iUCmTJminnjiieTevpIB2Z0NsRmUiyO3Dpjr1q2TxSY5sHVkBtAjjzwyuecG9u5LuCh927SXwDm9oIbFi9dee21yLx+8l6/2VgVb/wb80lTMSIaYs7aBTW5iGlfB1t7hhBNOUJs3b07u2cPnFy7Utg1jXpRMjssHmMdiebstrJKLzaBcHPkXv/iFOu2009S0adO0U1PdsCHGTU+4VMjG1ljEZztd0QpO7GuOmu9s014CE/yaaRUEG3vbuXNn8mw+fAYmVYESrO2YtnTpUnXiiSfqwIhS7MKFC5Nn8mF77usMV1TYVmeLumwya2CaSwFcVsnhzK+99przYI9RxyYYrr/qwqITBJpzYAP97RIs1JUqDF6uK1PzwIJBF5Fk+mDjxo3JPTsICGMTDFc7I5Neu3at0xjBuBrbVR2u9l4EBLZZAvFcoy9vaLtIpAgovYbcOSkULte3FgFRn7n8JiZwYl/ZbDsYOAmQfA2g2JjLNaGuEBDyq12xEdrOOO8+N9apCoxrIfUMqFJnmVLMJdQMGLaXcBQBg0joCCgEOFJIoSTLiemSOAMOFHJHNgaSrFsMFoHx71CZFWIVMlAIBQFKSKHMmtU1Dfo9pJ5RRcmaeOauZ1Kmsa3ru8DgEWPZ2xCq7RgTnx0rIefmXebQbAkZDDNoxVb2NoRqO7ZN1SbWcdXn1FIreQKk3EJNo0JkGcwn+MwuqgYDNgvpfINYxFjFMITK8kIFSAzYIbJq+jlk9SI0nG98zTfYdgj7rgqh+t0ESFn9zGqFUJ5IoAjoTBrF35ixXYVsC+eYOcNQpdCqQL/7vDSN/kYsQwVIfK7Pz6Zv8e8Yp1fSkIj47AM+K+Zs2uC734HgIE+AZCXUJur2MXgxaCEWMWd1BkTaV7Yjg+eH0O9ke74CFhw4RFZr4HN9lWL5LAKhmLM6A+OqrykuPkPG1X2Yfvflb/R53s+zEmqgFOtj8CLyiLkk1gpTAGX3O++NUMQ81dAKQuJj6gG/IkDymcG3g8/3EYyHDkqqhq9xleCI9UbCPhBPHyVwgl+bBMhaqAGjIvIuw5kxVJwYgxIn7kqZ/cJ7mgxH+r0r9AlHWeBHRNr4VRXg+5SZWRs7LjsYqBtGrMsaVwnAOcS/u4I9EoyX1S+cT6oYNmOIk1CDyQCKLKEYsfARWdYVTjYnvcjStBmYyxSjukPfEHkXXZ7Ej6ok0gZsgu9FJacoX+R9GBAlCO8eYw9FrgUy46r4d/fQN2UEj0akbf3bWajBGBUNdI2+MUxKYT4Xq9UVBk+CJKJjF+HAgc28icxJ94wJkoqwUdP32HxV+94MMgRxrt+RsYK2YrtCZ+gr/Nt157K0jcm42jP4d5HJZxFjayFCDQgFBmUMK++XMg7sKjqxwSBK5cEIdl6HNkZUZMYUA/QbfY542UbJDJr0Pe9V9b7n+5kBDD/N22bskkCesUH8OztFjaucO/Hv7BjfxL+5bdN3RfZ9YUJtwLDM4G/Eg4biqOkDg+N1bOFGYzBCHhfsQLDNQEr2012/Yzz0O8IsgZEb9JvpRxya29h1J6fkfzgHvL6OotXq37SB+612ZvybA4HmyCsywocYW6PfO/m3jKvFgR/Tl/Qjfc74iu9m8W+SpyL7vnChNtAYjAbjYk6PL81hnJvH6AQaVbfBqsoYQ0n3O4MkDs5tHJx+70lQhHzQ5/Q39m0OY/M8boSNc8G5KXoOLARGFNL+TTtN5iz+XTz4bKt/cxh7M/7Na8S/i4P+NPZt/NvYedq/EWjOTdHBUWlCLQixggibDMccIlaC0AxC+LcItSAIgiBUGBFqQRAEQagwItSCIAiCUGFEqAVBEAShwohQC4IgCEKFEaEWBEEQhAojQi0IgiAIFUaEWhAEQRAqjAi1IAiCIFQYEWpBEARBqDAi1IIgCIJQYUSoBUEQBKHCiFALgiDkZMOGDfpXk2Dz5s1q+PDh+nYnJkyYoEaMGKGPjRs36sf4Ocrf//73+nYr77zzjrryyiuTe/v405/+pKZOnap/Get3v/tdl+PRRx/VrznrrLPUP/7xD327CPisb3zjG8m9rrz//vtq7969yT2lxo4dq/+2vr61jU888YS6+OKLk3tCT4hQC4IgdMOLL76ohgwZsv/46le/qsUJoT7ppJP0axDdb3/72/p2OzZt2qR/+rD1eOqpp9T111+vRbYdfPbXvva15N4+Hn/8cS3e7733nrrjjjvUr3/9a/XZz35W354/f75+zemnn65WrVqlb6c55phj1KBBg7q0hwPhh3vvvVe3yRyf+cxn9OMI9VFHHaVvp3nmmWfUkUceqY499lj1r3/9Sz9mXtf6+kMPPTS5tY+FCxeqH/3oR8k9oSdEqAVBEDLw7rvvqiOOOELfbhXqAw88UGeIrcf999+vduzYoUVt0aJF6le/+pV68MEH9f1XX31VC/WsWbPa/kzinXfeqT7xiU90ec4ItQHB+/jHP662bduWPLJPqMlo58yZkzyyj8MOOyzXb1TzeuhOqI8++mj9k4+rV6/WAQzfi36A9OsJKr7whS8k9/YhQp0PEWpBEIQMkLFecskl+nZaqBEyMth2B6+Dhx9+WPXv31/95Cc/UT/4wQ/U2WefrR9HqBE1Muw0BAXf/OY31dy5c9UFF1ywv7ycFuq3335bv+bWW29Vw4YNU7t27dKPI9R///vf1Z49e/R9A8LbLqOeNm2afn779u066DCHyYLbCTWPfelLX0ruKfXpT39afzcEG9Kvf+mll9THPvaxLt9HhDofItSCIAg9gFAitAgYIMC9evVShx9+uC57p0vGrQfCiiAuWLBA/y+CRVkZsWtX+t66dasaOHCguvvuu/X9SZMmqe9///taSI1QUzbv27evFjwge0aImS/vrvTdU0Z99dVXq29961tq1KhR+iBAgHZCzef069cvuafUwQcfrF9H4ADp11933XXqy1/+cpd5ahHqfIhQC4Ig9MCUKVPUz372s+Re14w6zc6dO9Vbb73VZYEVLF++XAv90KFDdVnaZNDthPq2225T8+bNS+7t44EHHtBlZiPUa9eu1XPfafhsmDx5ss5iW0FEBwwY8JFA4vzzz9fPI9QPPfSQvp2mnVAzT//5z39+/21K9Lz/pz71Kf2YeT3fkTls/vIYQQiIUOdDhFoQBKEbKEFT7h4/fnwX8W0V6p///OdakAYPHqxXXXOb1d1pMUV8ma9Nv0+nxWQs8motX7NamgzVcN9992mBJBM+/vjj9YIxAorWQCELCPVvfvMbPXf+8ssvq6efflrPp3O7VaiBrH/FihW6UjBmzBgdKJg5fF6/ZcsW/d1MJYH3Ou6449Trr78uQp0TEWpBEIRuILulrNwqfGmhfv7557UgkVmmueeee9To0aOTex8uzkrDQjGTCbdCablTqZqs+utf/3qX/+d7Mv+dLjMzd40odjpY+MblXXzfcePGqQsvvFALPnPk69evbyvU9AFiPXLkSF0KB/M6/t5yyy06sEizbNkytXLlShHqnIhQC4Ig5CQt1GTNX/nKV9Rjjz2mbyOMiBGLxn75y1/q1wBCjei3HkuWLEle0RWEmhXhra8389IsJjvkkEP0tdWU21ld/te//lWX1smGDQQQZMWdjjVr1iSv/ijtSt/dkRbqTohQ50OEWhAEISdcDnXXXXcl95Rat26dnsc+5ZRT9Mrqc889V88np1m8eLGeA249KB+3Y+nSpW1fnxZhsl0+l1XffDbi19372YLQc712FggeoKfXExy09o/QPSLUgiAIglBhRKgFQRAEocKIUAuCIAhChRGhFgRBEIQKI0ItCIIgCBVGhFoQBEEQKowItSAIgiBUFqX+P0kuGzm8ffgwAAAAAElFTkSuQmCC)"
      ],
      "metadata": {
        "id": "joE2wIIhtcJC"
      }
    },
    {
      "cell_type": "markdown",
      "source": [
        "* 예) N개 도시에서 두 도시 사이에 도로를 놓아 전체 도시 연결될 수 있도록 하자. 최소한의 비용으로 연결하려면 어떤 알고리즘을 이용해야 할까?"
      ],
      "metadata": {
        "id": "f5EdPP70tmlH"
      }
    },
    {
      "cell_type": "code",
      "source": [
        "''' 입력 예시\n",
        "7 9\n",
        "1 2 29\n",
        "1 5 75\n",
        "2 3 35\n",
        "2 6 34\n",
        "3 4 7\n",
        "4 6 23\n",
        "4 7 13\n",
        "5 6 53\n",
        "6 7 25\n",
        "출력 예시 : 159 '''\n",
        "\n",
        "# 크루스칼 알고리즘\n",
        "\n",
        "# 특정 원소가 속한 집합 찾기\n",
        "def find_parent(parent, x):\n",
        "    # 루트 노드가 아니라면, 루트 노드를 찾을 때까지 재귀적 호출\n",
        "    if parent[x] != x:\n",
        "        parent[x] = find_parent(parent, parent[x])\n",
        "    return parent[x]\n",
        "\n",
        "# 두 원소가 속한 집합 합치기\n",
        "def union_parent(parent, a, b):\n",
        "    a = find_parent(parent, a)\n",
        "    b = find_parent(parent, b)\n",
        "    if a < b:\n",
        "        parent[b] = a\n",
        "    else:\n",
        "        parent[a] = b\n",
        "\n",
        "# 노드 갯수 & 간선(union 연산) 갯수 입력 받기\n",
        "v, e = map(int, input().split())\n",
        "parent = [0] * (v+1) # 부모 테이블 초기화\n",
        "\n",
        "# 모든 간선을 담을 리스트와 최종 비용을 담을 변수\n",
        "edges = []\n",
        "result = 0\n",
        "\n",
        "# 부모 테이블에서 부모를 자기 자신으로 초기화\n",
        "for i in range(1, v+1):\n",
        "    parent[i] = i\n",
        "\n",
        "# 모든 간선에 대한 정보를 입력 받기\n",
        "for _ in range(e):\n",
        "    a, b, cost = map(int, input().split())\n",
        "    # 비용 순으로 정렬하기 위하여 튜플의 첫 번째 원소를 비용으로 설정\n",
        "    edges.append((cost, a, b))\n",
        "\n",
        "# 간선을 비용 순으로 정렬\n",
        "edges.sort()\n",
        "\n",
        "# 간선을 하나씩 확인하며\n",
        "for edge in edges:\n",
        "    cost, a, b = edge\n",
        "    # 사이클이 발생하지 않는 경우에만 집합에 포함\n",
        "    if find_parent(parent, a) != find_parent(parent, b):\n",
        "        union_parent(parent, a, b)\n",
        "        result += cost\n",
        "\n",
        "print(result)"
      ],
      "metadata": {
        "colab": {
          "base_uri": "https://localhost:8080/"
        },
        "id": "_EP6SaYobRYW",
        "outputId": "2bf378c0-faae-4d7f-cb90-02345dc5df5a"
      },
      "execution_count": null,
      "outputs": [
        {
          "output_type": "stream",
          "name": "stdout",
          "text": [
            "7 9\n",
            "1 2 29\n",
            "1 5 75\n",
            "2 3 35\n",
            "2 6 34\n",
            "3 4 7\n",
            "4 6 23\n",
            "4 7 13\n",
            "5 6 53\n",
            "6 7 25\n",
            "159\n"
          ]
        }
      ]
    },
    {
      "cell_type": "markdown",
      "source": [
        "### 위상 정렬\n",
        "* Topology Sort : 순서가 정해져 있는 일련의 작업을 차례로 수행해야 할 때 사용\n",
        "* 방향 그래프의 모든 노드를 '방향성에 거스르지 않도록 순서대로 나열'\n",
        "* 예) 선수과목을 고려한 학습 순서 설정\n",
        "* 진입차수 Indegree : 특정한 노드로 '들어오는' 간선의 갯수\n",
        "* 알고리즘\n",
        " - 1. 진입차수가 0인 노드를 큐에 넣음\n",
        " - 2. 큐가 빌 때까지 다음 과정을 반복 : (1) 큐에서 원소를 꺼내 해당 노드에서 출발하는 간선을 그래프에서 제거. (2) 새롭게 진입차수가 0이 된 노드를 큐에 넣음"
      ],
      "metadata": {
        "id": "T8rARVAxhmM4"
      }
    },
    {
      "cell_type": "markdown",
      "source": [
        "![캡처.PNG](data:image/png;base64,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)"
      ],
      "metadata": {
        "id": "updTB82Tyz_m"
      }
    },
    {
      "cell_type": "code",
      "source": [
        "''' 입력 예시\n",
        "7 8\n",
        "1 2\n",
        "1 5\n",
        "2 3\n",
        "2 6\n",
        "3 4\n",
        "4 7\n",
        "5 6\n",
        "6 4\n",
        "출력 예시 : 1 2 5 3 6 4 7'''\n",
        "\n",
        "from collections import deque\n",
        "\n",
        "# 노드 & 간선 갯수 입력 받기\n",
        "v, e = map(int, input().split())\n",
        "# 모든 노드에 대한 진입 차수 0 초기화\n",
        "indegree = [0] * (v+1)\n",
        "# 각 노드에 연결된 간선 정보를 담기 위한 연결 리스트(그래프) 초기화\n",
        "graph = [[] for i in range(v+1)]\n",
        "\n",
        "# 방향 그래프의 모든 간선 정보 입력 받기\n",
        "for _ in range(e):\n",
        "    a, b = map(int, input().split())\n",
        "    graph[a].append(b) # 정점 A에서 B로 이동 가능\n",
        "    # 진입 차수를 1 증가\n",
        "    indegree[b] += 1\n",
        "\n",
        "# 위상 정렬 함수\n",
        "def topology_sort():\n",
        "    result = [] # 알고리즘 수행 결과를 담을 리스트\n",
        "    q = deque() # 큐 기능을 위한 deque 라이브러리 사용\n",
        "\n",
        "    # 처음 시작할 때는 진입차수=0 노드를 큐에 삽입\n",
        "    for i in range(1, v+1):\n",
        "        if indegree[i] == 0:\n",
        "            q.append(i)\n",
        "\n",
        "    # 큐가 빌 때까지 반복\n",
        "    while q:\n",
        "        # 큐에서 원소 꺼내기\n",
        "        now = q.popleft()\n",
        "        result.append(now)\n",
        "        # 해당 원소와 연결된 노드들의 진입차수에서 1 빼기\n",
        "        for i in graph[now]:\n",
        "            indegree[i] -= 1\n",
        "            # 새롭게 진입차수가 0이 되는 노드를 큐에 삽입\n",
        "            if indegree[i] == 0:\n",
        "                q.append(i)\n",
        "\n",
        "    # 위상 정렬 수행 결과 출력\n",
        "    for i in result:\n",
        "        print(i, end=' ')\n",
        "\n",
        "topology_sort()"
      ],
      "metadata": {
        "colab": {
          "base_uri": "https://localhost:8080/"
        },
        "id": "dOo6lyI0hFz9",
        "outputId": "4169ca82-d195-4b07-a8af-6ed154d27be0"
      },
      "execution_count": null,
      "outputs": [
        {
          "output_type": "stream",
          "name": "stdout",
          "text": [
            "7 8\n",
            "1 2\n",
            "1 5\n",
            "2 3\n",
            "2 6\n",
            "3 4\n",
            "4 7\n",
            "5 6\n",
            "6 4\n",
            "1 2 5 3 6 4 7 "
          ]
        }
      ]
    },
    {
      "cell_type": "markdown",
      "source": [
        "##(2) 팀 결성\n",
        "* 0~N번 학생이 서로 다른 팀으로 구분되어 N+1개 팀 존재\n",
        "* '팀 합치기' 연산, '같은 팀 여부 확인' 연산 사용 가능\n",
        "* 1. 팀 합치기 : 두 팀 합치는 연산\n",
        "* 2. 같은 팀 여부 확인 : 특정한 두 학생이 같은 팀 속하는지 확인하는 연산\n",
        "* M개 연산 수행할 수 있을 때, '같은 팀 여부 확인' 연산에 대한 연산 결과 출력\n",
        "* 입력 조건\n",
        " - 첫째 줄 : N, M 주어짐\n",
        " - 다음 M개 줄 : 각각의 연산\n",
        " - '팀 합치기' 연산 : 0 a b 형태 (a와 b 속한 팀 합침)\n",
        " - '같은 팀 여부 확인' 연산 : 1 a b 형태 (a와 b 같은 팀 속했는지 확인)\n",
        "* 출력 조건 : '같은 팀 여부 확인' 연산에 대하여 YES 혹은 NO로 결과 출력\n"
      ],
      "metadata": {
        "id": "XLp6dqm5r1BC"
      }
    },
    {
      "cell_type": "code",
      "source": [
        "''' 입력 예시\n",
        "7 8\n",
        "0 1 3\n",
        "1 1 7\n",
        "0 7 6\n",
        "1 7 1\n",
        "0 3 7\n",
        "0 4 2\n",
        "0 1 1\n",
        "1 1 1\n",
        "출력 예시 NO NO YES '''\n",
        "\n",
        "# 서로소 집합 알고리즘 with 경로 압축 방식\n",
        "\n",
        "# 특정 원소가 속한 집합을 찾기\n",
        "def find_parent(parent, x):\n",
        "    # 루트 노드가 아니라면, 루트 노드를 찾을 때까지 재귀 호출\n",
        "    if parent[x] != x:\n",
        "        parent[x] = find_parent(parent, parent[x])\n",
        "    return parent[x]\n",
        "\n",
        "# 두 원소가 속한 집합 합치기\n",
        "def union_parent(parent, a, b):\n",
        "    a = find_parent(parent, a)\n",
        "    b = find_parent(parent, b)\n",
        "    if a < b:\n",
        "        parent[b] = a\n",
        "    else:\n",
        "        parent[a] = b\n",
        "\n",
        "# N, M 입력 받기\n",
        "n, m = map(int, input().split())\n",
        "parent = [0] * (n + 1) # 부모 테이블 초기화\n",
        "\n",
        "# 부모 테이블에서 부모를 자기 자신으로 초기화\n",
        "for i in range(0, n+1):\n",
        "    parent[i] = i\n",
        "\n",
        "# 각 연산을 하나씩 확인\n",
        "for i in range(m):\n",
        "    oper, a, b = map(int, input().split())\n",
        "    # 합집합(union) 연산인 경우\n",
        "    if oper == 0:\n",
        "        union_parent(parent, a, b)\n",
        "    # 찾기(find) 연산인 경우\n",
        "    elif oper == 1:\n",
        "        if find_parent(parent, a) == find_parent(parent, b):\n",
        "            print('YES')\n",
        "        else:\n",
        "            print('NO')"
      ],
      "metadata": {
        "colab": {
          "base_uri": "https://localhost:8080/"
        },
        "id": "b_K7ho7DrX18",
        "outputId": "58be2718-f6c2-437c-d834-f94c59e6bf4c"
      },
      "execution_count": null,
      "outputs": [
        {
          "output_type": "stream",
          "name": "stdout",
          "text": [
            "7 8\n",
            "0 1 3\n",
            "1 1 7\n",
            "NO\n",
            "0 7 6\n",
            "1 7 1\n",
            "NO\n",
            "0 3 7\n",
            "0 4 2\n",
            "0 1 1\n",
            "1 1 1\n",
            "YES\n"
          ]
        }
      ]
    },
    {
      "cell_type": "markdown",
      "source": [
        "## (3) 도시 분할 계획\n",
        "* N개의 집과 M개의 길\n",
        "* 2개 마을 분할\n",
        "* 마을에는 집이 하나 이상, 각 분리된 마을 안의 집들은 서로 연결\n",
        "* 길의 유지비 합의 최솟값\n",
        "* 입력 조건\n",
        " - 첫째 줄 : 집 갯수 N, 길 갯수 M\n",
        " - M개 줄에 걸쳐 : 길 정보 A, B, C (A, B 집 연결 길 유지비 C)\n",
        "* 출력 조건 : 유지비 합 최솟값"
      ],
      "metadata": {
        "id": "a-CPEEvhx-o6"
      }
    },
    {
      "cell_type": "code",
      "source": [
        "''' 입력 예시\n",
        "7 12\n",
        "1 2 3\n",
        "1 3 2\n",
        "3 2 1\n",
        "2 5 2\n",
        "3 4 4\n",
        "7 3 6\n",
        "5 1 5\n",
        "1 6 2\n",
        "6 4 1\n",
        "6 5 3\n",
        "4 5 3\n",
        "6 7 4\n",
        "출력 예시 : 8 '''\n",
        "\n",
        "# 전체 그래프에서 2개의 최소 신장 트리 만들어야 한다.\n",
        "# 최소 비용으로 2개의 신장 트리로 분할\n",
        "# 크루스칼 알고리즘으로 최소 신장 트리 찾은 후, 최소 신장 트리 구성 간선 중 가장 비용 큰 간선 제거\n",
        "\n",
        "# 특정 원소가 속한 집합 찾기\n",
        "def find_parent(parent, x):\n",
        "    # 루트 노드가 아니라면, 루트 노드를 찾을 때까지 재귀 호출\n",
        "    if parent[x] != x:\n",
        "        parent[x] = find_parent(parent, parent[x])\n",
        "    return parent[x]\n",
        "\n",
        "# 두 원소가 속한 집합 합치기\n",
        "def union_parent(parent, a, b):\n",
        "    a = find_parent(parent, a)\n",
        "    b = find_parent(parent, b)\n",
        "    if a < b:\n",
        "        parent[b] = a\n",
        "    else:\n",
        "        parent[a] = b\n",
        "\n",
        "# 노드 & 간선(union 연산) 갯수 입력 받기\n",
        "v, e = map(int, input().split())\n",
        "parent = [0] * (v+1) # 부모 테이블 초기화\n",
        "\n",
        "# 모든 간선을 담을 리스트와 최종 비용 담을 변수\n",
        "edges = []\n",
        "result = 0\n",
        "\n",
        "# 부모 테이블 상에서 부모를 자신으로 초기화\n",
        "for i in range(1, v+1):\n",
        "    parent[i] = i\n",
        "\n",
        "# 간선 정보 입력 받기\n",
        "for _ in range(e):\n",
        "    a, b, cost = map(int, input().split())\n",
        "    # 비용 순 정렬 위해 튜플의 첫 번째 원소를 비용으로 설정\n",
        "    edges.append((cost, a, b))\n",
        "\n",
        "# 간선을 비용 순 정렬\n",
        "edges.sort()\n",
        "last = 0 # 최소 신장 트리에 포함되는 간선 중에서 가장 비용이 큰 간선\n",
        "\n",
        "# 간선을 하나씩 확인하며\n",
        "for edge in edges:\n",
        "    cost, a, b = edge\n",
        "    # 사이클이 발생하지 않는 경우에만 집합에 포함\n",
        "    if find_parent(parent, a) != find_parent(parent, b):\n",
        "        union_parent(parent, a, b)\n",
        "        result += cost\n",
        "        last = cost\n",
        "\n",
        "print(result - last)"
      ],
      "metadata": {
        "colab": {
          "base_uri": "https://localhost:8080/"
        },
        "id": "F83R7I-hxxTL",
        "outputId": "34695586-65b4-49d7-bf97-ffb78625c5d6"
      },
      "execution_count": null,
      "outputs": [
        {
          "output_type": "stream",
          "name": "stdout",
          "text": [
            "7 12\n",
            "1 2 3\n",
            "1 3 2\n",
            "3 2 1\n",
            "2 5 2\n",
            "3 4 4\n",
            "7 3 6\n",
            "5 1 5\n",
            "1 6 2\n",
            "6 4 1\n",
            "6 5 3\n",
            "4 5 3\n",
            "6 7 4\n",
            "8\n"
          ]
        }
      ]
    },
    {
      "cell_type": "markdown",
      "source": [
        "## (4) 커리큘럼\n",
        "* 총 N개 강의 듣고자 한다. 모든 강의는 1~N번 번호 가진다.\n",
        "*동시에 여러 개의 강의 들을 수 있다.\n",
        "* 선수 강의가 있는 강의는 선수 강의를 들어야만 해당 강의를 들을 수 있다.\n",
        "* N개 수강하기 까지 걸리는 최소 시간 출력\n",
        "* 입력 조건\n",
        " - 첫째 줄 : 강의 수 N\n",
        " - 다음 N개 줄 : 각 강의 시간, 선수 강의 번호, 각 줄은 -1로 끝남\n",
        "* 출력 조건 : N개 강의 수강하기까지 걸리는 최소 시간을 한 줄에 하나씩 출력"
      ],
      "metadata": {
        "id": "iI-FsmhH0uSs"
      }
    },
    {
      "cell_type": "code",
      "source": [
        "''' 입력 예시\n",
        "5\n",
        "10 -1\n",
        "10 1 -1\n",
        "4 1 -1\n",
        "4 3 1 -1\n",
        "3 3 -1\n",
        "출력 예시\n",
        "10 20 14 18 17 '''\n",
        "# 위상 정령 알고리즘\n",
        "# 각 노드(강의)에 대하여 인접한 노드를 확인할 때, 인접한 노드에 대하여 현재보다 강의시간이 더 긴 경우를 찾는다면,\n",
        "# 더 오랜 시간이 걸리는 경우의 시간 값을 저장하는 방식으로 결과 테이블 갱신\n",
        "from collections import deque\n",
        "import copy\n",
        "\n",
        "# 노드 갯수 입력 받기\n",
        "v = int(input())\n",
        "# 모든 노드에 대한 진입차수 0 초기화\n",
        "indegree = [0] * (v+1)\n",
        "# 각 노드에 연결된 간선 정보 담는 연결 리스트(그래프) 초기화\n",
        "graph = [[] for i in range(v+1)]\n",
        "# 각 강의 시간 0 초기화\n",
        "time = [0] * (v+1)\n",
        "\n",
        "# 방향 그래프의 모든 간선 정보 입력 받기\n",
        "for i in range(1, v+1):\n",
        "    data = list(map(int, input().split()))\n",
        "    time[i] = data[0] # 첫 번째 수는 시간 정보를 담고 있음\n",
        "    for x in data[1:-1]:\n",
        "        indegree[i] += 1\n",
        "        graph[x].append(i)\n",
        "\n",
        "# 위상 정렬 함수\n",
        "def topology_sort():\n",
        "    result = copy.deepcopy(time) # 알고리즘 수행 결과를 담을 리스트\n",
        "    q = deque() # 큐 기능을 위한 deque 라이브러리 사용\n",
        "\n",
        "    # 처음 시작할 때는 진입차수 = 0 노드를 큐에 삽입\n",
        "    for i in range(1, v+1):\n",
        "        if indegree[i] == 0:\n",
        "            q.append(i)\n",
        "\n",
        "    # 큐가 빌 때까지 반복\n",
        "    while q:\n",
        "        # 큐에서 원소 꺼내기\n",
        "        now = q.popleft()\n",
        "        #해당 원소와 연결된 노드들의 진입차수에서 1 빼기\n",
        "        for i in graph[now]:\n",
        "            result[i] = max(result[i], result[now] + time[i])\n",
        "            indegree[i] -= 1\n",
        "            # 새롭게 진입차수가 0이 되는 노드를 큐에 삽입\n",
        "            if indegree[i] == 0:\n",
        "                q.append(i)\n",
        "\n",
        "    # 위상 정렬 수행 결과 출력\n",
        "    for i in range(1, v+1):\n",
        "        print(result[i])\n",
        "\n",
        "topology_sort()"
      ],
      "metadata": {
        "id": "ZQdOpsLf0eE3",
        "colab": {
          "base_uri": "https://localhost:8080/"
        },
        "outputId": "c932c34b-f6bb-44b0-ddbb-5c41266927b6"
      },
      "execution_count": null,
      "outputs": [
        {
          "output_type": "stream",
          "name": "stdout",
          "text": [
            "5\n",
            "10 -1\n",
            "10 1 -1\n",
            "4 1 -1\n",
            "4 3 1 -1\n",
            "3 3 -1\n",
            "10\n",
            "20\n",
            "14\n",
            "18\n",
            "17\n"
          ]
        }
      ]
    },
    {
      "cell_type": "markdown",
      "source": [
        "#[09] 참고"
      ],
      "metadata": {
        "id": "ZP7mTCCmgxFw"
      }
    },
    {
      "cell_type": "markdown",
      "source": [
        "##(1) itertools\n",
        "* itertools : 반복되는 데이터를 처리하는 기능을 포함하는 라이브러리\n",
        "* permutations : 리스트와 같은 iterable 객체에서 r개 데이터를 뽑아 일렬로 나열하는 모든 경우 (순열) 계산. 클래스이므로 객체 초기화 이후에는 리스트 자료형으로 변환하여 사용\n",
        "* combinations : 리스트와 같은 iterable 객체에서 r개 데이터를 뽑아 순서 고려하지 않고 나열하는 모든 경우(조합) 계산."
      ],
      "metadata": {
        "id": "mIyK-v81gy-K"
      }
    },
    {
      "cell_type": "code",
      "source": [
        "# permutations\n",
        "# 리스트 ['A', 'B', 'C]에서 3개(r=3)를 뽑아 나열하는 모든 경우 출력\n",
        "from itertools import permutations\n",
        "\n",
        "data = list('ABC')\n",
        "result = list(permutations(data, 3))\n",
        "\n",
        "print(result)"
      ],
      "metadata": {
        "id": "axltIDm4kTJD",
        "colab": {
          "base_uri": "https://localhost:8080/"
        },
        "outputId": "279b2825-b238-475f-8d74-c166f4c7bd37"
      },
      "execution_count": null,
      "outputs": [
        {
          "output_type": "stream",
          "name": "stdout",
          "text": [
            "[('A', 'B', 'C'), ('A', 'C', 'B'), ('B', 'A', 'C'), ('B', 'C', 'A'), ('C', 'A', 'B'), ('C', 'B', 'A')]\n"
          ]
        }
      ]
    },
    {
      "cell_type": "code",
      "source": [
        "# combinations\n",
        "# 리스트 ['A', 'B', 'C']에서 3개(r=2)를 뽑아 순서 상관없이 나열하는 모든 경우 출력\n",
        "from itertools import combinations\n",
        "\n",
        "data = list('ABC')\n",
        "result = list(combinations(data, 2))\n",
        "\n",
        "print(result)"
      ],
      "metadata": {
        "colab": {
          "base_uri": "https://localhost:8080/"
        },
        "id": "Q2eIGNldhUMR",
        "outputId": "b34c0de0-79fb-4e8f-faf3-450a035060ee"
      },
      "execution_count": null,
      "outputs": [
        {
          "output_type": "stream",
          "name": "stdout",
          "text": [
            "[('A', 'B'), ('A', 'C'), ('B', 'C')]\n"
          ]
        }
      ]
    },
    {
      "cell_type": "code",
      "source": [
        "# product : permutations와 같이 리스트와 같은 iterable 객체에서 r개 데이터를 뽑아 일렬로 나열하는\n",
        "# 모든 경우 (순열) 계산\n",
        "# 다만, 원소를 중복하여 추출\n",
        "from itertools import product\n",
        "\n",
        "data = list('ABC')\n",
        "result = list(product(data, repeat=2))  # 2개 뽑는 모든 순열 구하기 (중복 허용)\n",
        "\n",
        "print(result)"
      ],
      "metadata": {
        "id": "XoCQjEzdkTGq",
        "colab": {
          "base_uri": "https://localhost:8080/"
        },
        "outputId": "c9ad58dd-76ac-49f6-bf3d-b2965762bacf"
      },
      "execution_count": null,
      "outputs": [
        {
          "output_type": "stream",
          "name": "stdout",
          "text": [
            "[('A', 'A'), ('A', 'B'), ('A', 'C'), ('B', 'A'), ('B', 'B'), ('B', 'C'), ('C', 'A'), ('C', 'B'), ('C', 'C')]\n"
          ]
        }
      ]
    },
    {
      "cell_type": "code",
      "source": [
        "# combinations_with_replacement\n",
        "# combinations와 같이 리스트와 같은 iterable 객체에서 r개의 데이터를 뽑아 순서를 고려하지 않고\n",
        "# 나열하는 모든 경우(조합) 계산\n",
        "# 다만, 원소를 중복하여 추출\n",
        "from itertools import combinations_with_replacement\n",
        "\n",
        "data = list('ABC')\n",
        "result = list(combinations_with_replacement(data, 2))\n",
        "\n",
        "print(result)"
      ],
      "metadata": {
        "id": "j7RJJgEnkTD5",
        "colab": {
          "base_uri": "https://localhost:8080/"
        },
        "outputId": "f49418d9-8f8f-4ec3-9ca6-f38899a23972"
      },
      "execution_count": null,
      "outputs": [
        {
          "output_type": "stream",
          "name": "stdout",
          "text": [
            "[('A', 'A'), ('A', 'B'), ('A', 'C'), ('B', 'B'), ('B', 'C'), ('C', 'C')]\n"
          ]
        }
      ]
    },
    {
      "cell_type": "markdown",
      "source": [
        "##(2) heapq\n",
        "* heapq 라이브러리 : 우선순위 큐 기능 구현\n",
        "* 힙에 원소 삽입 시 : heapq.heappush() 메서드 사용\n",
        "* 힙에서 원소를 꺼낼 때 : heapq.heappop() 메서드 사용"
      ],
      "metadata": {
        "id": "hLyp-ofkjeht"
      }
    },
    {
      "cell_type": "code",
      "source": [
        "# 힙 정렬을 heapq로 구현\n",
        "import heapq\n",
        "\n",
        "def heapsort(iterable):\n",
        "    h = []\n",
        "    result = []\n",
        "    # 모든 원소를 차례대로 힙에 삽입\n",
        "    for value in iterable:\n",
        "        heapq.heappush(h, value)\n",
        "    # 힙에 삽입된 모든 원소를 차례대로 꺼내어 담기\n",
        "    for i in range(len(h)):\n",
        "        result.append(heapq.heappop(h))\n",
        "    return result\n",
        "\n",
        "result = heapsort([1,3,5,7,9,2,4,6,8,0])\n",
        "print(result)"
      ],
      "metadata": {
        "colab": {
          "base_uri": "https://localhost:8080/"
        },
        "id": "VxYcnpjPjaMS",
        "outputId": "07f8e485-55b8-4797-e6d0-9301d929dc72"
      },
      "execution_count": null,
      "outputs": [
        {
          "output_type": "stream",
          "name": "stdout",
          "text": [
            "[0, 1, 2, 3, 4, 5, 6, 7, 8, 9]\n"
          ]
        }
      ]
    },
    {
      "cell_type": "code",
      "source": [
        "# 최대 힙 구현 : 원소의 부호를 임시로 변경\n",
        "import heapq\n",
        "\n",
        "def heapsort(iterable):\n",
        "    h = []\n",
        "    result = []\n",
        "    # 모든 원소를 차례대로 힙에 삽입\n",
        "    for value in iterable:\n",
        "        heapq.heappush(h, -value)\n",
        "    # 힙에 삽입된 모든 원소를 차례대로 꺼내어 담기\n",
        "    for i in range(len(h)):\n",
        "        result.append(-heapq.heappop(h))\n",
        "    return result\n",
        "\n",
        "result = heapsort([1,3,5,7,9,2,4,6,8,0])\n",
        "print(result)"
      ],
      "metadata": {
        "colab": {
          "base_uri": "https://localhost:8080/"
        },
        "id": "MZWjzGwOkEtX",
        "outputId": "36d200e3-31ad-4ca8-ad67-dc8e585ca2ab"
      },
      "execution_count": null,
      "outputs": [
        {
          "output_type": "stream",
          "name": "stdout",
          "text": [
            "[9, 8, 7, 6, 5, 4, 3, 2, 1, 0]\n"
          ]
        }
      ]
    },
    {
      "cell_type": "markdown",
      "source": [
        "##(3) bisect\n",
        "* bisect 라이브러리 : 이진 탐색 구현\n",
        "* '정렬된 배열'에서 특정 원소 찾아야 할 때 효과적\n",
        "* bisect_left(a, x) : 정렬된 순서를 유지하면서 리스트 a에 데이터 x를 삽입할 가장 왼쪽 인덱스 찾는 메서드\n",
        "* bisect_right(a, x) : 정렬된 순서를 유지하도록 리스트 a에 데이터 x를 삽입할 가장 오른쪽 인덱스 찾는 메서드"
      ],
      "metadata": {
        "id": "8wdOGZb7kzZi"
      }
    },
    {
      "cell_type": "markdown",
      "source": [
        "![캡처.PNG](data:image/png;base64,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)"
      ],
      "metadata": {
        "id": "0z-x67j9lTq3"
      }
    },
    {
      "cell_type": "code",
      "source": [
        "from bisect import bisect_left, bisect_right\n",
        "\n",
        "a = [1,2,4,4,8]\n",
        "x = 4\n",
        "\n",
        "print(bisect_left(a, x))\n",
        "print(bisect_right(a, x))"
      ],
      "metadata": {
        "colab": {
          "base_uri": "https://localhost:8080/"
        },
        "id": "8XKo_wjAkwjq",
        "outputId": "ffa7bc57-6aa2-417c-b476-806ea95af234"
      },
      "execution_count": null,
      "outputs": [
        {
          "output_type": "stream",
          "name": "stdout",
          "text": [
            "2\n",
            "4\n"
          ]
        }
      ]
    },
    {
      "cell_type": "code",
      "source": [
        "# '정렬된 리스트'에서 '값이 특정 범위에 속하는 원소의 갯수' 구하기\n",
        "from bisect import bisect_left, bisect_right\n",
        "\n",
        "# 값이 [left_value, right_value]인 데이터의 갯수를 반환하는 함수\n",
        "def count_by_range(a, left_value, right_value):\n",
        "    right_index = bisect_right(a, right_value)\n",
        "    left_index = bisect_left(a, left_value)\n",
        "    return right_index - left_index\n",
        "\n",
        "# 리스트 선언\n",
        "a = [1,2,3,3,3,3,4,4,8,9]\n",
        "\n",
        "# 값이 4인 데이터 갯수 출력\n",
        "print(count_by_range(a, 4, 4))\n",
        "\n",
        "# 값이 [-1, 3] 범위에 있는 데이터 갯수 출력\n",
        "print(count_by_range(a, -1, 3))"
      ],
      "metadata": {
        "colab": {
          "base_uri": "https://localhost:8080/"
        },
        "id": "QI7hsfJzlfmu",
        "outputId": "6de5551b-8eb4-4164-e3e4-ae9ed8eef591"
      },
      "execution_count": null,
      "outputs": [
        {
          "output_type": "stream",
          "name": "stdout",
          "text": [
            "2\n",
            "6\n"
          ]
        }
      ]
    },
    {
      "cell_type": "markdown",
      "source": [
        "## (4) collections\n",
        "* collections 라이브러리 : deque, Counter 클래스 유용하게 사용\n",
        "* deque : 큐 구현. 나열된 데이터의 시작 부분이나 끝 부분에 데이터를 삽입/삭제 효과적. 스택과 큐의 기능 모두 포함\n",
        "* popleft() : 첫 번째 원소 제거\n",
        "* pop() : 마지막 원소 제거\n",
        "* appendleft(x) : 첫 번째 인덱스에 원소 x 삽입\n",
        "* append(x) : 마지막 인덱스에 원소 삽입\n",
        "* 따라서 deque를 큐 자료구조로 이용할 때, 원소를 삽입할 때는 append() 사용, 삭제할 때는 popleft() 사용하면 선입선출"
      ],
      "metadata": {
        "id": "bk-_aEDEmHcU"
      }
    },
    {
      "cell_type": "code",
      "source": [
        "from collections import deque\n",
        "\n",
        "data = deque([2,3,4])\n",
        "data.appendleft(1)\n",
        "data.append(5)\n",
        "\n",
        "print(data)\n",
        "print(list(data))"
      ],
      "metadata": {
        "id": "d67rRqCIkTBU",
        "colab": {
          "base_uri": "https://localhost:8080/"
        },
        "outputId": "8a99bad7-2111-4831-dcca-dc9df87c7fa6"
      },
      "execution_count": null,
      "outputs": [
        {
          "output_type": "stream",
          "name": "stdout",
          "text": [
            "deque([1, 2, 3, 4, 5])\n",
            "[1, 2, 3, 4, 5]\n"
          ]
        }
      ]
    },
    {
      "cell_type": "markdown",
      "source": [
        "* Counter : 등장 횟수 세는 기능. iterable 객체가 주어졌을 때, 객체 내부의 원소가 몇 번씩 등장했는지 알려줌"
      ],
      "metadata": {
        "id": "NLKjgbf9nFwR"
      }
    },
    {
      "cell_type": "code",
      "source": [
        "from collections import Counter\n",
        "\n",
        "counter = Counter(['red', 'blue', 'red', 'green', 'blue', 'blue'])\n",
        "\n",
        "print(counter['blue'])\n",
        "print(counter['green'])\n",
        "print(dict(counter))"
      ],
      "metadata": {
        "colab": {
          "base_uri": "https://localhost:8080/"
        },
        "id": "nFAf44vLm9h8",
        "outputId": "3dbc3417-543e-4448-e8f4-721dcffdff78"
      },
      "execution_count": null,
      "outputs": [
        {
          "output_type": "stream",
          "name": "stdout",
          "text": [
            "3\n",
            "1\n",
            "{'red': 2, 'blue': 3, 'green': 1}\n"
          ]
        }
      ]
    },
    {
      "cell_type": "markdown",
      "source": [
        "#[10] 기타 알고리즘"
      ],
      "metadata": {
        "id": "7a70q22_oI5N"
      }
    },
    {
      "cell_type": "markdown",
      "source": [
        "##(1) 소수의 판별"
      ],
      "metadata": {
        "id": "Fnk1p8JnoMvr"
      }
    },
    {
      "cell_type": "code",
      "source": [],
      "metadata": {
        "id": "o66A53LYnYrd"
      },
      "execution_count": null,
      "outputs": []
    },
    {
      "cell_type": "markdown",
      "source": [
        "##(2) 에라토스테네스의 체"
      ],
      "metadata": {
        "id": "VQKI5O8DoTEL"
      }
    },
    {
      "cell_type": "code",
      "source": [],
      "metadata": {
        "id": "uiOh7lZ7kTvK"
      },
      "execution_count": null,
      "outputs": []
    },
    {
      "cell_type": "markdown",
      "source": [
        "##(3) 투 포인터"
      ],
      "metadata": {
        "id": "baNElOnhoZK7"
      }
    },
    {
      "cell_type": "code",
      "source": [],
      "metadata": {
        "id": "noxqUH9BkTsL"
      },
      "execution_count": null,
      "outputs": []
    },
    {
      "cell_type": "markdown",
      "source": [
        "##(4) 구간 합 계산"
      ],
      "metadata": {
        "id": "rIlXhgG9ocoN"
      }
    },
    {
      "cell_type": "code",
      "source": [],
      "metadata": {
        "id": "OXIB5ktUkTp2"
      },
      "execution_count": null,
      "outputs": []
    },
    {
      "cell_type": "markdown",
      "source": [
        "##(5) 순열과 조합"
      ],
      "metadata": {
        "id": "ZSx28IFLofre"
      }
    },
    {
      "cell_type": "code",
      "source": [],
      "metadata": {
        "id": "clk7K3okkUfN"
      },
      "execution_count": null,
      "outputs": []
    },
    {
      "cell_type": "markdown",
      "source": [
        "##(6) 소수 구하기"
      ],
      "metadata": {
        "id": "OjSHlkcton7G"
      }
    },
    {
      "cell_type": "code",
      "source": [],
      "metadata": {
        "id": "PxC60tq0kUcH"
      },
      "execution_count": null,
      "outputs": []
    },
    {
      "cell_type": "markdown",
      "source": [
        "##(7) 암호 만들기"
      ],
      "metadata": {
        "id": "8ftDXCrToqbO"
      }
    },
    {
      "cell_type": "code",
      "source": [],
      "metadata": {
        "id": "l-JRZ172kUZh"
      },
      "execution_count": null,
      "outputs": []
    }
  ]
}